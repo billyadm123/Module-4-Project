{
 "cells": [
  {
   "cell_type": "markdown",
   "metadata": {},
   "source": [
    "# The goal of this project is to highlight the importance of establishing a global disease surveillance and response system and sustaining it.  Wildlife are known reservoirs for zoonotic diseases which are a major contributor to emerging diseases.  Hopefully this project will also highlight the importance of better anti-poaching measures to control the spread of these disease which will also improve global security."
   ]
  },
  {
   "cell_type": "code",
   "execution_count": 1,
   "metadata": {},
   "outputs": [
    {
     "data": {
      "text/html": [
       "<div>\n",
       "<style scoped>\n",
       "    .dataframe tbody tr th:only-of-type {\n",
       "        vertical-align: middle;\n",
       "    }\n",
       "\n",
       "    .dataframe tbody tr th {\n",
       "        vertical-align: top;\n",
       "    }\n",
       "\n",
       "    .dataframe thead th {\n",
       "        text-align: right;\n",
       "    }\n",
       "</style>\n",
       "<table border=\"1\" class=\"dataframe\">\n",
       "  <thead>\n",
       "    <tr style=\"text-align: right;\">\n",
       "      <th></th>\n",
       "      <th>Id</th>\n",
       "      <th>source</th>\n",
       "      <th>latitude</th>\n",
       "      <th>longitude</th>\n",
       "      <th>region</th>\n",
       "      <th>country</th>\n",
       "      <th>admin1</th>\n",
       "      <th>localityName</th>\n",
       "      <th>localityQuality</th>\n",
       "      <th>observationDate</th>\n",
       "      <th>reportingDate</th>\n",
       "      <th>status</th>\n",
       "      <th>disease</th>\n",
       "      <th>serotypes</th>\n",
       "      <th>speciesDescription</th>\n",
       "      <th>sumAtRisk</th>\n",
       "      <th>sumCases</th>\n",
       "      <th>sumDeaths</th>\n",
       "      <th>sumDestroyed</th>\n",
       "      <th>sumSlaughtered</th>\n",
       "      <th>humansGenderDesc</th>\n",
       "      <th>humansAge</th>\n",
       "      <th>humansAffected</th>\n",
       "      <th>humansDeaths</th>\n",
       "    </tr>\n",
       "  </thead>\n",
       "  <tbody>\n",
       "    <tr>\n",
       "      <td>0</td>\n",
       "      <td>230399</td>\n",
       "      <td>OIE</td>\n",
       "      <td>-27.900000</td>\n",
       "      <td>30.800000</td>\n",
       "      <td>Africa</td>\n",
       "      <td>South Africa</td>\n",
       "      <td>KwaZulu-Natal</td>\n",
       "      <td>HPAI_H5N8_2017_019</td>\n",
       "      <td>Exact</td>\n",
       "      <td>17/08/2017</td>\n",
       "      <td>22/08/2017</td>\n",
       "      <td>Confirmed</td>\n",
       "      <td>Influenza - Avian</td>\n",
       "      <td>H5N8 HPAI</td>\n",
       "      <td>domestic, unspecified bird</td>\n",
       "      <td>248000.0</td>\n",
       "      <td>12.0</td>\n",
       "      <td>12.0</td>\n",
       "      <td>50000.0</td>\n",
       "      <td>0.0</td>\n",
       "      <td>NaN</td>\n",
       "      <td>0.0</td>\n",
       "      <td>NaN</td>\n",
       "      <td>NaN</td>\n",
       "    </tr>\n",
       "    <tr>\n",
       "      <td>1</td>\n",
       "      <td>230381</td>\n",
       "      <td>OIE</td>\n",
       "      <td>54.837037</td>\n",
       "      <td>73.354155</td>\n",
       "      <td>Europe</td>\n",
       "      <td>Russian Federation</td>\n",
       "      <td>Omskaya Oblast</td>\n",
       "      <td>Novaya Stanica</td>\n",
       "      <td>Exact</td>\n",
       "      <td>16/08/2017</td>\n",
       "      <td>18/08/2017</td>\n",
       "      <td>Confirmed</td>\n",
       "      <td>African swine fever</td>\n",
       "      <td>NaN</td>\n",
       "      <td>domestic, swine</td>\n",
       "      <td>122.0</td>\n",
       "      <td>6.0</td>\n",
       "      <td>1.0</td>\n",
       "      <td>0.0</td>\n",
       "      <td>0.0</td>\n",
       "      <td>NaN</td>\n",
       "      <td>NaN</td>\n",
       "      <td>NaN</td>\n",
       "      <td>NaN</td>\n",
       "    </tr>\n",
       "    <tr>\n",
       "      <td>2</td>\n",
       "      <td>230333</td>\n",
       "      <td>OIE</td>\n",
       "      <td>-21.077740</td>\n",
       "      <td>30.211620</td>\n",
       "      <td>Africa</td>\n",
       "      <td>Zimbabwe</td>\n",
       "      <td>Masvingo</td>\n",
       "      <td>Mwambe</td>\n",
       "      <td>Exact</td>\n",
       "      <td>16/08/2017</td>\n",
       "      <td>16/08/2017</td>\n",
       "      <td>Confirmed</td>\n",
       "      <td>Foot and mouth disease</td>\n",
       "      <td>NaN</td>\n",
       "      <td>domestic, cattle</td>\n",
       "      <td>1283.0</td>\n",
       "      <td>112.0</td>\n",
       "      <td>0.0</td>\n",
       "      <td>NaN</td>\n",
       "      <td>7.0</td>\n",
       "      <td>NaN</td>\n",
       "      <td>NaN</td>\n",
       "      <td>NaN</td>\n",
       "      <td>NaN</td>\n",
       "    </tr>\n",
       "    <tr>\n",
       "      <td>3</td>\n",
       "      <td>230396</td>\n",
       "      <td>OIE</td>\n",
       "      <td>-26.000000</td>\n",
       "      <td>28.300000</td>\n",
       "      <td>Africa</td>\n",
       "      <td>South Africa</td>\n",
       "      <td>Gauteng</td>\n",
       "      <td>HPAI_H5N8_2017_020</td>\n",
       "      <td>Exact</td>\n",
       "      <td>15/08/2017</td>\n",
       "      <td>22/08/2017</td>\n",
       "      <td>Confirmed</td>\n",
       "      <td>Influenza - Avian</td>\n",
       "      <td>H5N8 HPAI</td>\n",
       "      <td>wild, unspecified bird</td>\n",
       "      <td>NaN</td>\n",
       "      <td>1.0</td>\n",
       "      <td>1.0</td>\n",
       "      <td>0.0</td>\n",
       "      <td>0.0</td>\n",
       "      <td>NaN</td>\n",
       "      <td>0.0</td>\n",
       "      <td>NaN</td>\n",
       "      <td>NaN</td>\n",
       "    </tr>\n",
       "    <tr>\n",
       "      <td>4</td>\n",
       "      <td>230371</td>\n",
       "      <td>OIE</td>\n",
       "      <td>49.237900</td>\n",
       "      <td>17.700200</td>\n",
       "      <td>Europe</td>\n",
       "      <td>Czech Republic</td>\n",
       "      <td>Jihomoravsky</td>\n",
       "      <td>Hvozdná</td>\n",
       "      <td>Exact</td>\n",
       "      <td>15/08/2017</td>\n",
       "      <td>17/08/2017</td>\n",
       "      <td>Confirmed</td>\n",
       "      <td>African swine fever</td>\n",
       "      <td>NaN</td>\n",
       "      <td>wild, wild boar</td>\n",
       "      <td>NaN</td>\n",
       "      <td>1.0</td>\n",
       "      <td>1.0</td>\n",
       "      <td>NaN</td>\n",
       "      <td>NaN</td>\n",
       "      <td>NaN</td>\n",
       "      <td>NaN</td>\n",
       "      <td>NaN</td>\n",
       "      <td>NaN</td>\n",
       "    </tr>\n",
       "  </tbody>\n",
       "</table>\n",
       "</div>"
      ],
      "text/plain": [
       "       Id source   latitude  longitude  region             country  \\\n",
       "0  230399    OIE -27.900000  30.800000  Africa        South Africa   \n",
       "1  230381    OIE  54.837037  73.354155  Europe  Russian Federation   \n",
       "2  230333    OIE -21.077740  30.211620  Africa            Zimbabwe   \n",
       "3  230396    OIE -26.000000  28.300000  Africa        South Africa   \n",
       "4  230371    OIE  49.237900  17.700200  Europe      Czech Republic   \n",
       "\n",
       "           admin1        localityName localityQuality observationDate  \\\n",
       "0   KwaZulu-Natal  HPAI_H5N8_2017_019           Exact      17/08/2017   \n",
       "1  Omskaya Oblast      Novaya Stanica           Exact      16/08/2017   \n",
       "2        Masvingo              Mwambe           Exact      16/08/2017   \n",
       "3         Gauteng  HPAI_H5N8_2017_020           Exact      15/08/2017   \n",
       "4    Jihomoravsky             Hvozdná           Exact      15/08/2017   \n",
       "\n",
       "  reportingDate     status                 disease  serotypes  \\\n",
       "0    22/08/2017  Confirmed       Influenza - Avian  H5N8 HPAI   \n",
       "1    18/08/2017  Confirmed     African swine fever        NaN   \n",
       "2    16/08/2017  Confirmed  Foot and mouth disease        NaN   \n",
       "3    22/08/2017  Confirmed       Influenza - Avian  H5N8 HPAI   \n",
       "4    17/08/2017  Confirmed     African swine fever        NaN   \n",
       "\n",
       "           speciesDescription  sumAtRisk  sumCases  sumDeaths  sumDestroyed  \\\n",
       "0  domestic, unspecified bird   248000.0      12.0       12.0       50000.0   \n",
       "1             domestic, swine      122.0       6.0        1.0           0.0   \n",
       "2            domestic, cattle     1283.0     112.0        0.0           NaN   \n",
       "3      wild, unspecified bird        NaN       1.0        1.0           0.0   \n",
       "4             wild, wild boar        NaN       1.0        1.0           NaN   \n",
       "\n",
       "   sumSlaughtered humansGenderDesc  humansAge  humansAffected  humansDeaths  \n",
       "0             0.0              NaN        0.0             NaN           NaN  \n",
       "1             0.0              NaN        NaN             NaN           NaN  \n",
       "2             7.0              NaN        NaN             NaN           NaN  \n",
       "3             0.0              NaN        0.0             NaN           NaN  \n",
       "4             NaN              NaN        NaN             NaN           NaN  "
      ]
     },
     "execution_count": 1,
     "metadata": {},
     "output_type": "execute_result"
    }
   ],
   "source": [
    "import pandas as pd\n",
    "import numpy as np\n",
    "import seaborn as sns\n",
    "import matplotlib.pyplot as plt\n",
    "import warnings\n",
    "warnings.filterwarnings('ignore')\n",
    "from matplotlib.pylab import rcParams\n",
    "plt.style.use('ggplot')\n",
    "%matplotlib inline\n",
    "df = pd.read_csv('Outbreak_240817.csv')\n",
    "pd.set_option('display.max_columns', None)\n",
    "df.head()"
   ]
  },
  {
   "cell_type": "markdown",
   "metadata": {},
   "source": [
    "# 1. EDA"
   ]
  },
  {
   "cell_type": "code",
   "execution_count": 2,
   "metadata": {},
   "outputs": [
    {
     "data": {
      "text/html": [
       "<div>\n",
       "<style scoped>\n",
       "    .dataframe tbody tr th:only-of-type {\n",
       "        vertical-align: middle;\n",
       "    }\n",
       "\n",
       "    .dataframe tbody tr th {\n",
       "        vertical-align: top;\n",
       "    }\n",
       "\n",
       "    .dataframe thead th {\n",
       "        text-align: right;\n",
       "    }\n",
       "</style>\n",
       "<table border=\"1\" class=\"dataframe\">\n",
       "  <thead>\n",
       "    <tr style=\"text-align: right;\">\n",
       "      <th></th>\n",
       "      <th>Id</th>\n",
       "      <th>latitude</th>\n",
       "      <th>longitude</th>\n",
       "      <th>sumAtRisk</th>\n",
       "      <th>sumCases</th>\n",
       "      <th>sumDeaths</th>\n",
       "      <th>sumDestroyed</th>\n",
       "      <th>sumSlaughtered</th>\n",
       "      <th>humansAge</th>\n",
       "      <th>humansAffected</th>\n",
       "      <th>humansDeaths</th>\n",
       "    </tr>\n",
       "  </thead>\n",
       "  <tbody>\n",
       "    <tr>\n",
       "      <td>count</td>\n",
       "      <td>17008.000000</td>\n",
       "      <td>17008.000000</td>\n",
       "      <td>17008.000000</td>\n",
       "      <td>9.757000e+03</td>\n",
       "      <td>14535.000000</td>\n",
       "      <td>14168.000000</td>\n",
       "      <td>13005.000000</td>\n",
       "      <td>12235.000000</td>\n",
       "      <td>1068.000000</td>\n",
       "      <td>1417.000000</td>\n",
       "      <td>451.000000</td>\n",
       "    </tr>\n",
       "    <tr>\n",
       "      <td>mean</td>\n",
       "      <td>218823.465075</td>\n",
       "      <td>39.168443</td>\n",
       "      <td>37.774981</td>\n",
       "      <td>7.500692e+03</td>\n",
       "      <td>328.183007</td>\n",
       "      <td>199.190147</td>\n",
       "      <td>3765.857978</td>\n",
       "      <td>100.211443</td>\n",
       "      <td>17.701311</td>\n",
       "      <td>1.017643</td>\n",
       "      <td>0.889135</td>\n",
       "    </tr>\n",
       "    <tr>\n",
       "      <td>std</td>\n",
       "      <td>7048.338831</td>\n",
       "      <td>16.817821</td>\n",
       "      <td>41.034310</td>\n",
       "      <td>4.427669e+04</td>\n",
       "      <td>5821.929892</td>\n",
       "      <td>4109.453986</td>\n",
       "      <td>28355.192298</td>\n",
       "      <td>4341.287763</td>\n",
       "      <td>26.932867</td>\n",
       "      <td>0.620142</td>\n",
       "      <td>0.321306</td>\n",
       "    </tr>\n",
       "    <tr>\n",
       "      <td>min</td>\n",
       "      <td>206270.000000</td>\n",
       "      <td>-36.856210</td>\n",
       "      <td>-146.490000</td>\n",
       "      <td>0.000000e+00</td>\n",
       "      <td>0.000000</td>\n",
       "      <td>0.000000</td>\n",
       "      <td>0.000000</td>\n",
       "      <td>0.000000</td>\n",
       "      <td>0.000000</td>\n",
       "      <td>0.000000</td>\n",
       "      <td>0.000000</td>\n",
       "    </tr>\n",
       "    <tr>\n",
       "      <td>25%</td>\n",
       "      <td>212070.750000</td>\n",
       "      <td>32.090000</td>\n",
       "      <td>11.950000</td>\n",
       "      <td>1.100000e+01</td>\n",
       "      <td>1.000000</td>\n",
       "      <td>0.000000</td>\n",
       "      <td>0.000000</td>\n",
       "      <td>0.000000</td>\n",
       "      <td>0.000000</td>\n",
       "      <td>1.000000</td>\n",
       "      <td>1.000000</td>\n",
       "    </tr>\n",
       "    <tr>\n",
       "      <td>50%</td>\n",
       "      <td>219591.500000</td>\n",
       "      <td>43.821579</td>\n",
       "      <td>24.511700</td>\n",
       "      <td>9.000000e+01</td>\n",
       "      <td>1.000000</td>\n",
       "      <td>1.000000</td>\n",
       "      <td>0.000000</td>\n",
       "      <td>0.000000</td>\n",
       "      <td>0.000000</td>\n",
       "      <td>1.000000</td>\n",
       "      <td>1.000000</td>\n",
       "    </tr>\n",
       "    <tr>\n",
       "      <td>75%</td>\n",
       "      <td>224717.250000</td>\n",
       "      <td>48.102805</td>\n",
       "      <td>43.424390</td>\n",
       "      <td>7.160000e+02</td>\n",
       "      <td>5.000000</td>\n",
       "      <td>2.000000</td>\n",
       "      <td>5.000000</td>\n",
       "      <td>0.000000</td>\n",
       "      <td>41.000000</td>\n",
       "      <td>1.000000</td>\n",
       "      <td>1.000000</td>\n",
       "    </tr>\n",
       "    <tr>\n",
       "      <td>max</td>\n",
       "      <td>230399.000000</td>\n",
       "      <td>68.392000</td>\n",
       "      <td>144.847374</td>\n",
       "      <td>2.000000e+06</td>\n",
       "      <td>460000.000000</td>\n",
       "      <td>439799.000000</td>\n",
       "      <td>913590.000000</td>\n",
       "      <td>339006.000000</td>\n",
       "      <td>94.000000</td>\n",
       "      <td>24.000000</td>\n",
       "      <td>2.000000</td>\n",
       "    </tr>\n",
       "  </tbody>\n",
       "</table>\n",
       "</div>"
      ],
      "text/plain": [
       "                  Id      latitude     longitude     sumAtRisk       sumCases  \\\n",
       "count   17008.000000  17008.000000  17008.000000  9.757000e+03   14535.000000   \n",
       "mean   218823.465075     39.168443     37.774981  7.500692e+03     328.183007   \n",
       "std      7048.338831     16.817821     41.034310  4.427669e+04    5821.929892   \n",
       "min    206270.000000    -36.856210   -146.490000  0.000000e+00       0.000000   \n",
       "25%    212070.750000     32.090000     11.950000  1.100000e+01       1.000000   \n",
       "50%    219591.500000     43.821579     24.511700  9.000000e+01       1.000000   \n",
       "75%    224717.250000     48.102805     43.424390  7.160000e+02       5.000000   \n",
       "max    230399.000000     68.392000    144.847374  2.000000e+06  460000.000000   \n",
       "\n",
       "           sumDeaths   sumDestroyed  sumSlaughtered    humansAge  \\\n",
       "count   14168.000000   13005.000000    12235.000000  1068.000000   \n",
       "mean      199.190147    3765.857978      100.211443    17.701311   \n",
       "std      4109.453986   28355.192298     4341.287763    26.932867   \n",
       "min         0.000000       0.000000        0.000000     0.000000   \n",
       "25%         0.000000       0.000000        0.000000     0.000000   \n",
       "50%         1.000000       0.000000        0.000000     0.000000   \n",
       "75%         2.000000       5.000000        0.000000    41.000000   \n",
       "max    439799.000000  913590.000000   339006.000000    94.000000   \n",
       "\n",
       "       humansAffected  humansDeaths  \n",
       "count     1417.000000    451.000000  \n",
       "mean         1.017643      0.889135  \n",
       "std          0.620142      0.321306  \n",
       "min          0.000000      0.000000  \n",
       "25%          1.000000      1.000000  \n",
       "50%          1.000000      1.000000  \n",
       "75%          1.000000      1.000000  \n",
       "max         24.000000      2.000000  "
      ]
     },
     "execution_count": 2,
     "metadata": {},
     "output_type": "execute_result"
    }
   ],
   "source": [
    "#Checking for the features with the highest standard deviation\n",
    "df.describe()"
   ]
  },
  {
   "cell_type": "code",
   "execution_count": 3,
   "metadata": {},
   "outputs": [
    {
     "data": {
      "text/plain": [
       "humansGenderDesc      97.883349\n",
       "humansDeaths          97.348307\n",
       "humansAge             93.720602\n",
       "humansAffected        91.668627\n",
       "sumAtRisk             42.632879\n",
       "serotypes             40.810207\n",
       "sumSlaughtered        28.063264\n",
       "sumDestroyed          23.535983\n",
       "sumDeaths             16.698024\n",
       "sumCases              14.540216\n",
       "speciesDescription     9.689558\n",
       "observationDate        2.951552\n",
       "country                0.000000\n",
       "source                 0.000000\n",
       "latitude               0.000000\n",
       "longitude              0.000000\n",
       "region                 0.000000\n",
       "status                 0.000000\n",
       "admin1                 0.000000\n",
       "localityName           0.000000\n",
       "localityQuality        0.000000\n",
       "reportingDate          0.000000\n",
       "disease                0.000000\n",
       "Id                     0.000000\n",
       "dtype: float64"
      ]
     },
     "execution_count": 3,
     "metadata": {},
     "output_type": "execute_result"
    }
   ],
   "source": [
    "#Checking the percentage of missing values for each feature - a feature selection technique\n",
    "(df.isnull().sum()*100/ len(df)).sort_values(ascending=False)"
   ]
  },
  {
   "cell_type": "markdown",
   "metadata": {},
   "source": [
    "# What species is most likely to cause an outbreak?"
   ]
  },
  {
   "cell_type": "code",
   "execution_count": 4,
   "metadata": {},
   "outputs": [
    {
     "data": {
      "text/plain": [
       "'domestic, cattle'"
      ]
     },
     "execution_count": 4,
     "metadata": {},
     "output_type": "execute_result"
    }
   ],
   "source": [
    "#Checking what animals cause the most outbreaks/cases\n",
    "df['speciesDescription'].value_counts().index[0]"
   ]
  },
  {
   "cell_type": "code",
   "execution_count": 5,
   "metadata": {},
   "outputs": [
    {
     "data": {
      "text/plain": [
       "<matplotlib.axes._subplots.AxesSubplot at 0x1bdad70fb48>"
      ]
     },
     "execution_count": 5,
     "metadata": {},
     "output_type": "execute_result"
    },
    {
     "data": {
      "image/png": "[encoded data removed]",
      "text/plain": [
       "<Figure size 432x288 with 1 Axes>"
      ]
     },
     "metadata": {},
     "output_type": "display_data"
    }
   ],
   "source": [
    "df['speciesDescription'].value_counts().sort_values(ascending=False).head(5).plot(kind='pie')"
   ]
  },
  {
   "cell_type": "markdown",
   "metadata": {},
   "source": [
    "# What region/country is most at risk according to this data?"
   ]
  },
  {
   "cell_type": "code",
   "execution_count": 6,
   "metadata": {},
   "outputs": [
    {
     "data": {
      "text/plain": [
       "'France'"
      ]
     },
     "execution_count": 6,
     "metadata": {},
     "output_type": "execute_result"
    }
   ],
   "source": [
    "df['country'].value_counts().index[0]"
   ]
  },
  {
   "cell_type": "code",
   "execution_count": 7,
   "metadata": {},
   "outputs": [
    {
     "data": {
      "text/plain": [
       "<matplotlib.axes._subplots.AxesSubplot at 0x1bdaf07e5c8>"
      ]
     },
     "execution_count": 7,
     "metadata": {},
     "output_type": "execute_result"
    },
    {
     "data": {
      "image/png": "[encoded data removed]",
      "text/plain": [
       "<Figure size 432x288 with 1 Axes>"
      ]
     },
     "metadata": {
      "needs_background": "light"
     },
     "output_type": "display_data"
    }
   ],
   "source": [
    "#We also need to consider where the disease came from and where patient zero came from\n",
    "df['region'].value_counts().sort_values(ascending=False).head(5).plot(kind='bar')"
   ]
  },
  {
   "cell_type": "markdown",
   "metadata": {},
   "source": [
    "# We will focus on Africa.  Zoonotic diseases still account for many of the health problems in Africa, there has been a re-emergence of Malaria and Yellow Fever in the past 15 years, a spread of HPAI and H5N1 in poultry farms throughout Nigeria and other west African countries.  Most African countries are not prepared to respond to outbreaks."
   ]
  },
  {
   "cell_type": "code",
   "execution_count": 8,
   "metadata": {},
   "outputs": [
    {
     "data": {
      "application/vnd.jupyter.widget-view+json": {
       "model_id": "6f4626f5d3824cf2a4d8456caf92666d",
       "version_major": 2,
       "version_minor": 0
      },
      "text/plain": [
       "MapView(layout=Layout(height='400px', width='100%'), mode='3D', zoom=5.0)"
      ]
     },
     "metadata": {},
     "output_type": "display_data"
    },
    {
     "data": {
      "text/html": [
       "<div class=\"map-static-img-preview-4d487369-6b91-4c84-889a-c99f3e1468ae\"><img src=\"\"></img></div>"
      ],
      "text/plain": [
       "<IPython.core.display.HTML object>"
      ]
     },
     "metadata": {},
     "output_type": "display_data"
    }
   ],
   "source": [
    "from arcgis.gis import GIS\n",
    "gis = GIS()\n",
    "map1 = gis.map('Africa',5, '3D')\n",
    "map1"
   ]
  },
  {
   "cell_type": "code",
   "execution_count": 9,
   "metadata": {},
   "outputs": [],
   "source": [
    "#Filtering out the dataframe to get back only cases in Africa\n",
    "Africa_df = df[df['region'] == 'Africa']"
   ]
  },
  {
   "cell_type": "code",
   "execution_count": 10,
   "metadata": {},
   "outputs": [
    {
     "data": {
      "text/html": [
       "<div>\n",
       "<style scoped>\n",
       "    .dataframe tbody tr th:only-of-type {\n",
       "        vertical-align: middle;\n",
       "    }\n",
       "\n",
       "    .dataframe tbody tr th {\n",
       "        vertical-align: top;\n",
       "    }\n",
       "\n",
       "    .dataframe thead th {\n",
       "        text-align: right;\n",
       "    }\n",
       "</style>\n",
       "<table border=\"1\" class=\"dataframe\">\n",
       "  <thead>\n",
       "    <tr style=\"text-align: right;\">\n",
       "      <th></th>\n",
       "      <th>Id</th>\n",
       "      <th>source</th>\n",
       "      <th>latitude</th>\n",
       "      <th>longitude</th>\n",
       "      <th>region</th>\n",
       "      <th>country</th>\n",
       "      <th>admin1</th>\n",
       "      <th>localityName</th>\n",
       "      <th>localityQuality</th>\n",
       "      <th>observationDate</th>\n",
       "      <th>reportingDate</th>\n",
       "      <th>status</th>\n",
       "      <th>disease</th>\n",
       "      <th>serotypes</th>\n",
       "      <th>speciesDescription</th>\n",
       "      <th>sumAtRisk</th>\n",
       "      <th>sumCases</th>\n",
       "      <th>sumDeaths</th>\n",
       "      <th>sumDestroyed</th>\n",
       "      <th>sumSlaughtered</th>\n",
       "      <th>humansGenderDesc</th>\n",
       "      <th>humansAge</th>\n",
       "      <th>humansAffected</th>\n",
       "      <th>humansDeaths</th>\n",
       "    </tr>\n",
       "  </thead>\n",
       "  <tbody>\n",
       "    <tr>\n",
       "      <td>0</td>\n",
       "      <td>230399</td>\n",
       "      <td>OIE</td>\n",
       "      <td>-27.90000</td>\n",
       "      <td>30.80000</td>\n",
       "      <td>Africa</td>\n",
       "      <td>South Africa</td>\n",
       "      <td>KwaZulu-Natal</td>\n",
       "      <td>HPAI_H5N8_2017_019</td>\n",
       "      <td>Exact</td>\n",
       "      <td>17/08/2017</td>\n",
       "      <td>22/08/2017</td>\n",
       "      <td>Confirmed</td>\n",
       "      <td>Influenza - Avian</td>\n",
       "      <td>H5N8 HPAI</td>\n",
       "      <td>domestic, unspecified bird</td>\n",
       "      <td>248000.0</td>\n",
       "      <td>12.0</td>\n",
       "      <td>12.0</td>\n",
       "      <td>50000.0</td>\n",
       "      <td>0.0</td>\n",
       "      <td>NaN</td>\n",
       "      <td>0.0</td>\n",
       "      <td>NaN</td>\n",
       "      <td>NaN</td>\n",
       "    </tr>\n",
       "    <tr>\n",
       "      <td>2</td>\n",
       "      <td>230333</td>\n",
       "      <td>OIE</td>\n",
       "      <td>-21.07774</td>\n",
       "      <td>30.21162</td>\n",
       "      <td>Africa</td>\n",
       "      <td>Zimbabwe</td>\n",
       "      <td>Masvingo</td>\n",
       "      <td>Mwambe</td>\n",
       "      <td>Exact</td>\n",
       "      <td>16/08/2017</td>\n",
       "      <td>16/08/2017</td>\n",
       "      <td>Confirmed</td>\n",
       "      <td>Foot and mouth disease</td>\n",
       "      <td>NaN</td>\n",
       "      <td>domestic, cattle</td>\n",
       "      <td>1283.0</td>\n",
       "      <td>112.0</td>\n",
       "      <td>0.0</td>\n",
       "      <td>NaN</td>\n",
       "      <td>7.0</td>\n",
       "      <td>NaN</td>\n",
       "      <td>NaN</td>\n",
       "      <td>NaN</td>\n",
       "      <td>NaN</td>\n",
       "    </tr>\n",
       "    <tr>\n",
       "      <td>3</td>\n",
       "      <td>230396</td>\n",
       "      <td>OIE</td>\n",
       "      <td>-26.00000</td>\n",
       "      <td>28.30000</td>\n",
       "      <td>Africa</td>\n",
       "      <td>South Africa</td>\n",
       "      <td>Gauteng</td>\n",
       "      <td>HPAI_H5N8_2017_020</td>\n",
       "      <td>Exact</td>\n",
       "      <td>15/08/2017</td>\n",
       "      <td>22/08/2017</td>\n",
       "      <td>Confirmed</td>\n",
       "      <td>Influenza - Avian</td>\n",
       "      <td>H5N8 HPAI</td>\n",
       "      <td>wild, unspecified bird</td>\n",
       "      <td>NaN</td>\n",
       "      <td>1.0</td>\n",
       "      <td>1.0</td>\n",
       "      <td>0.0</td>\n",
       "      <td>0.0</td>\n",
       "      <td>NaN</td>\n",
       "      <td>0.0</td>\n",
       "      <td>NaN</td>\n",
       "      <td>NaN</td>\n",
       "    </tr>\n",
       "    <tr>\n",
       "      <td>6</td>\n",
       "      <td>230395</td>\n",
       "      <td>OIE</td>\n",
       "      <td>-26.00000</td>\n",
       "      <td>28.30000</td>\n",
       "      <td>Africa</td>\n",
       "      <td>South Africa</td>\n",
       "      <td>Gauteng</td>\n",
       "      <td>HPAI_H5N8_2017_021</td>\n",
       "      <td>Exact</td>\n",
       "      <td>14/08/2017</td>\n",
       "      <td>22/08/2017</td>\n",
       "      <td>Confirmed</td>\n",
       "      <td>Influenza - Avian</td>\n",
       "      <td>H5N8 HPAI</td>\n",
       "      <td>domestic, goose</td>\n",
       "      <td>34.0</td>\n",
       "      <td>19.0</td>\n",
       "      <td>19.0</td>\n",
       "      <td>0.0</td>\n",
       "      <td>0.0</td>\n",
       "      <td>NaN</td>\n",
       "      <td>0.0</td>\n",
       "      <td>NaN</td>\n",
       "      <td>NaN</td>\n",
       "    </tr>\n",
       "    <tr>\n",
       "      <td>9</td>\n",
       "      <td>230394</td>\n",
       "      <td>OIE</td>\n",
       "      <td>-24.60000</td>\n",
       "      <td>27.20000</td>\n",
       "      <td>Africa</td>\n",
       "      <td>South Africa</td>\n",
       "      <td>Limpopo</td>\n",
       "      <td>HPAI_H5N8_2017_022</td>\n",
       "      <td>Exact</td>\n",
       "      <td>12/08/2017</td>\n",
       "      <td>22/08/2017</td>\n",
       "      <td>Confirmed</td>\n",
       "      <td>Influenza - Avian</td>\n",
       "      <td>H5N8 HPAI</td>\n",
       "      <td>domestic, unspecified bird</td>\n",
       "      <td>62.0</td>\n",
       "      <td>5.0</td>\n",
       "      <td>5.0</td>\n",
       "      <td>0.0</td>\n",
       "      <td>0.0</td>\n",
       "      <td>NaN</td>\n",
       "      <td>NaN</td>\n",
       "      <td>NaN</td>\n",
       "      <td>NaN</td>\n",
       "    </tr>\n",
       "  </tbody>\n",
       "</table>\n",
       "</div>"
      ],
      "text/plain": [
       "       Id source  latitude  longitude  region       country         admin1  \\\n",
       "0  230399    OIE -27.90000   30.80000  Africa  South Africa  KwaZulu-Natal   \n",
       "2  230333    OIE -21.07774   30.21162  Africa      Zimbabwe       Masvingo   \n",
       "3  230396    OIE -26.00000   28.30000  Africa  South Africa        Gauteng   \n",
       "6  230395    OIE -26.00000   28.30000  Africa  South Africa        Gauteng   \n",
       "9  230394    OIE -24.60000   27.20000  Africa  South Africa        Limpopo   \n",
       "\n",
       "         localityName localityQuality observationDate reportingDate  \\\n",
       "0  HPAI_H5N8_2017_019           Exact      17/08/2017    22/08/2017   \n",
       "2              Mwambe           Exact      16/08/2017    16/08/2017   \n",
       "3  HPAI_H5N8_2017_020           Exact      15/08/2017    22/08/2017   \n",
       "6  HPAI_H5N8_2017_021           Exact      14/08/2017    22/08/2017   \n",
       "9  HPAI_H5N8_2017_022           Exact      12/08/2017    22/08/2017   \n",
       "\n",
       "      status                 disease  serotypes          speciesDescription  \\\n",
       "0  Confirmed       Influenza - Avian  H5N8 HPAI  domestic, unspecified bird   \n",
       "2  Confirmed  Foot and mouth disease        NaN            domestic, cattle   \n",
       "3  Confirmed       Influenza - Avian  H5N8 HPAI      wild, unspecified bird   \n",
       "6  Confirmed       Influenza - Avian  H5N8 HPAI             domestic, goose   \n",
       "9  Confirmed       Influenza - Avian  H5N8 HPAI  domestic, unspecified bird   \n",
       "\n",
       "   sumAtRisk  sumCases  sumDeaths  sumDestroyed  sumSlaughtered  \\\n",
       "0   248000.0      12.0       12.0       50000.0             0.0   \n",
       "2     1283.0     112.0        0.0           NaN             7.0   \n",
       "3        NaN       1.0        1.0           0.0             0.0   \n",
       "6       34.0      19.0       19.0           0.0             0.0   \n",
       "9       62.0       5.0        5.0           0.0             0.0   \n",
       "\n",
       "  humansGenderDesc  humansAge  humansAffected  humansDeaths  \n",
       "0              NaN        0.0             NaN           NaN  \n",
       "2              NaN        NaN             NaN           NaN  \n",
       "3              NaN        0.0             NaN           NaN  \n",
       "6              NaN        0.0             NaN           NaN  \n",
       "9              NaN        NaN             NaN           NaN  "
      ]
     },
     "execution_count": 10,
     "metadata": {},
     "output_type": "execute_result"
    }
   ],
   "source": [
    "Africa_df.head()"
   ]
  },
  {
   "cell_type": "code",
   "execution_count": 11,
   "metadata": {},
   "outputs": [],
   "source": [
    "#Checking for redundancies\n",
    "comparisons = df[['localityName', 'disease', 'localityQuality']]"
   ]
  },
  {
   "cell_type": "code",
   "execution_count": 12,
   "metadata": {},
   "outputs": [
    {
     "data": {
      "text/html": [
       "<div>\n",
       "<style scoped>\n",
       "    .dataframe tbody tr th:only-of-type {\n",
       "        vertical-align: middle;\n",
       "    }\n",
       "\n",
       "    .dataframe tbody tr th {\n",
       "        vertical-align: top;\n",
       "    }\n",
       "\n",
       "    .dataframe thead th {\n",
       "        text-align: right;\n",
       "    }\n",
       "</style>\n",
       "<table border=\"1\" class=\"dataframe\">\n",
       "  <thead>\n",
       "    <tr style=\"text-align: right;\">\n",
       "      <th></th>\n",
       "      <th>localityName</th>\n",
       "      <th>disease</th>\n",
       "      <th>localityQuality</th>\n",
       "    </tr>\n",
       "  </thead>\n",
       "  <tbody>\n",
       "    <tr>\n",
       "      <td>0</td>\n",
       "      <td>HPAI_H5N8_2017_019</td>\n",
       "      <td>Influenza - Avian</td>\n",
       "      <td>Exact</td>\n",
       "    </tr>\n",
       "    <tr>\n",
       "      <td>1</td>\n",
       "      <td>Novaya Stanica</td>\n",
       "      <td>African swine fever</td>\n",
       "      <td>Exact</td>\n",
       "    </tr>\n",
       "    <tr>\n",
       "      <td>2</td>\n",
       "      <td>Mwambe</td>\n",
       "      <td>Foot and mouth disease</td>\n",
       "      <td>Exact</td>\n",
       "    </tr>\n",
       "    <tr>\n",
       "      <td>3</td>\n",
       "      <td>HPAI_H5N8_2017_020</td>\n",
       "      <td>Influenza - Avian</td>\n",
       "      <td>Exact</td>\n",
       "    </tr>\n",
       "    <tr>\n",
       "      <td>4</td>\n",
       "      <td>Hvozdná</td>\n",
       "      <td>African swine fever</td>\n",
       "      <td>Exact</td>\n",
       "    </tr>\n",
       "  </tbody>\n",
       "</table>\n",
       "</div>"
      ],
      "text/plain": [
       "         localityName                 disease localityQuality\n",
       "0  HPAI_H5N8_2017_019       Influenza - Avian           Exact\n",
       "1      Novaya Stanica     African swine fever           Exact\n",
       "2              Mwambe  Foot and mouth disease           Exact\n",
       "3  HPAI_H5N8_2017_020       Influenza - Avian           Exact\n",
       "4             Hvozdná     African swine fever           Exact"
      ]
     },
     "execution_count": 12,
     "metadata": {},
     "output_type": "execute_result"
    }
   ],
   "source": [
    "#I think locality name is just what the locals call the disease and I don't think locality quality will have any \n",
    "#influence on our model\n",
    "comparisons.head()"
   ]
  },
  {
   "cell_type": "code",
   "execution_count": 13,
   "metadata": {},
   "outputs": [],
   "source": [
    "Death_table = df[['sumDestroyed', 'sumSlaughtered', 'sumDeaths', 'sumCases']]"
   ]
  },
  {
   "cell_type": "code",
   "execution_count": 14,
   "metadata": {},
   "outputs": [
    {
     "data": {
      "text/html": [
       "<div>\n",
       "<style scoped>\n",
       "    .dataframe tbody tr th:only-of-type {\n",
       "        vertical-align: middle;\n",
       "    }\n",
       "\n",
       "    .dataframe tbody tr th {\n",
       "        vertical-align: top;\n",
       "    }\n",
       "\n",
       "    .dataframe thead th {\n",
       "        text-align: right;\n",
       "    }\n",
       "</style>\n",
       "<table border=\"1\" class=\"dataframe\">\n",
       "  <thead>\n",
       "    <tr style=\"text-align: right;\">\n",
       "      <th></th>\n",
       "      <th>sumDestroyed</th>\n",
       "      <th>sumSlaughtered</th>\n",
       "      <th>sumDeaths</th>\n",
       "      <th>sumCases</th>\n",
       "    </tr>\n",
       "  </thead>\n",
       "  <tbody>\n",
       "    <tr>\n",
       "      <td>sumDestroyed</td>\n",
       "      <td>1.000000</td>\n",
       "      <td>-0.002761</td>\n",
       "      <td>0.156072</td>\n",
       "      <td>0.173311</td>\n",
       "    </tr>\n",
       "    <tr>\n",
       "      <td>sumSlaughtered</td>\n",
       "      <td>-0.002761</td>\n",
       "      <td>1.000000</td>\n",
       "      <td>0.017402</td>\n",
       "      <td>0.010994</td>\n",
       "    </tr>\n",
       "    <tr>\n",
       "      <td>sumDeaths</td>\n",
       "      <td>0.156072</td>\n",
       "      <td>0.017402</td>\n",
       "      <td>1.000000</td>\n",
       "      <td>0.706913</td>\n",
       "    </tr>\n",
       "    <tr>\n",
       "      <td>sumCases</td>\n",
       "      <td>0.173311</td>\n",
       "      <td>0.010994</td>\n",
       "      <td>0.706913</td>\n",
       "      <td>1.000000</td>\n",
       "    </tr>\n",
       "  </tbody>\n",
       "</table>\n",
       "</div>"
      ],
      "text/plain": [
       "                sumDestroyed  sumSlaughtered  sumDeaths  sumCases\n",
       "sumDestroyed        1.000000       -0.002761   0.156072  0.173311\n",
       "sumSlaughtered     -0.002761        1.000000   0.017402  0.010994\n",
       "sumDeaths           0.156072        0.017402   1.000000  0.706913\n",
       "sumCases            0.173311        0.010994   0.706913  1.000000"
      ]
     },
     "execution_count": 14,
     "metadata": {},
     "output_type": "execute_result"
    }
   ],
   "source": [
    "#There is some correlation to the total deaths but not much except between cases and deaths\n",
    "#I think sumDestroyed and sumSlaughtered are the amount of wildlife and livestock killed that were infected\n",
    "Death_table.corr(method='pearson')"
   ]
  },
  {
   "cell_type": "markdown",
   "metadata": {},
   "source": [
    "# 2. Feature engineering"
   ]
  },
  {
   "cell_type": "code",
   "execution_count": 15,
   "metadata": {},
   "outputs": [],
   "source": [
    "#Creating a column for the number of days between the observation of symptoms and the date reporting using \n",
    "#the two existing features\n",
    "Africa_df['reportingDate'] = pd.to_datetime(Africa_df['reportingDate'])"
   ]
  },
  {
   "cell_type": "code",
   "execution_count": 16,
   "metadata": {},
   "outputs": [],
   "source": [
    "Africa_df['reported_day'] = Africa_df['reportingDate'].dt.day"
   ]
  },
  {
   "cell_type": "code",
   "execution_count": 17,
   "metadata": {},
   "outputs": [
    {
     "data": {
      "text/plain": [
       "0        22\n",
       "2        16\n",
       "3        22\n",
       "6        22\n",
       "9        22\n",
       "         ..\n",
       "17003    18\n",
       "17004    18\n",
       "17005    18\n",
       "17006    18\n",
       "17007    18\n",
       "Name: reported_day, Length: 1414, dtype: int64"
      ]
     },
     "execution_count": 17,
     "metadata": {},
     "output_type": "execute_result"
    }
   ],
   "source": [
    "Africa_df['reported_day'].astype('int64')"
   ]
  },
  {
   "cell_type": "code",
   "execution_count": 18,
   "metadata": {},
   "outputs": [
    {
     "data": {
      "text/plain": [
       "dtype('int64')"
      ]
     },
     "execution_count": 18,
     "metadata": {},
     "output_type": "execute_result"
    }
   ],
   "source": [
    "Africa_df['reported_day'].dtype"
   ]
  },
  {
   "cell_type": "code",
   "execution_count": 19,
   "metadata": {},
   "outputs": [
    {
     "data": {
      "text/plain": [
       "0"
      ]
     },
     "execution_count": 19,
     "metadata": {},
     "output_type": "execute_result"
    }
   ],
   "source": [
    "Africa_df['reported_day'].isnull().sum()"
   ]
  },
  {
   "cell_type": "code",
   "execution_count": 20,
   "metadata": {},
   "outputs": [],
   "source": [
    "Africa_df['observationDate'] = pd.to_datetime(Africa_df['observationDate'])"
   ]
  },
  {
   "cell_type": "code",
   "execution_count": 21,
   "metadata": {},
   "outputs": [
    {
     "data": {
      "text/plain": [
       "12"
      ]
     },
     "execution_count": 21,
     "metadata": {},
     "output_type": "execute_result"
    }
   ],
   "source": [
    "Africa_df['observationDate'].isnull().sum()"
   ]
  },
  {
   "cell_type": "code",
   "execution_count": 22,
   "metadata": {},
   "outputs": [
    {
     "data": {
      "text/plain": [
       "Timestamp('2017-06-04 00:00:00')"
      ]
     },
     "execution_count": 22,
     "metadata": {},
     "output_type": "execute_result"
    }
   ],
   "source": [
    "#The observation date could be when the patient first starting feeling sick and seeing symptoms\n",
    "Africa_df['observationDate'].value_counts().index[0]"
   ]
  },
  {
   "cell_type": "code",
   "execution_count": 23,
   "metadata": {},
   "outputs": [],
   "source": [
    "Africa_df['observationDate'].fillna('2017-06-04 00:00:00', inplace=True)"
   ]
  },
  {
   "cell_type": "code",
   "execution_count": 24,
   "metadata": {},
   "outputs": [],
   "source": [
    "Africa_df['observationDate'] = pd.to_datetime(Africa_df['observationDate'])"
   ]
  },
  {
   "cell_type": "code",
   "execution_count": 25,
   "metadata": {},
   "outputs": [],
   "source": [
    "Africa_df['obs_day'] = Africa_df['observationDate'].dt.day"
   ]
  },
  {
   "cell_type": "code",
   "execution_count": 26,
   "metadata": {},
   "outputs": [
    {
     "data": {
      "text/plain": [
       "2"
      ]
     },
     "execution_count": 26,
     "metadata": {},
     "output_type": "execute_result"
    }
   ],
   "source": [
    "#Filling all null values with the most common value\n",
    "Africa_df['obs_day'].value_counts().index[0]"
   ]
  },
  {
   "cell_type": "code",
   "execution_count": 27,
   "metadata": {},
   "outputs": [],
   "source": [
    "Africa_df['obs_day'].fillna(2, inplace=True)"
   ]
  },
  {
   "cell_type": "code",
   "execution_count": 28,
   "metadata": {},
   "outputs": [],
   "source": [
    "Africa_df['obs_day'] = Africa_df['obs_day'].astype('int64')"
   ]
  },
  {
   "cell_type": "code",
   "execution_count": 29,
   "metadata": {},
   "outputs": [
    {
     "data": {
      "text/plain": [
       "2     93\n",
       "1     86\n",
       "3     80\n",
       "8     74\n",
       "4     73\n",
       "23    65\n",
       "20    59\n",
       "24    57\n",
       "6     55\n",
       "21    49\n",
       "9     48\n",
       "7     45\n",
       "30    42\n",
       "14    41\n",
       "31    41\n",
       "22    41\n",
       "15    40\n",
       "18    39\n",
       "17    37\n",
       "27    37\n",
       "10    33\n",
       "5     33\n",
       "16    31\n",
       "25    30\n",
       "26    30\n",
       "28    30\n",
       "29    29\n",
       "13    28\n",
       "11    26\n",
       "19    24\n",
       "12    18\n",
       "Name: obs_day, dtype: int64"
      ]
     },
     "execution_count": 29,
     "metadata": {},
     "output_type": "execute_result"
    }
   ],
   "source": [
    "Africa_df['obs_day'].value_counts()"
   ]
  },
  {
   "cell_type": "code",
   "execution_count": 30,
   "metadata": {},
   "outputs": [],
   "source": [
    "#The days between the first observation of symptoms and reported case\n",
    "#I think the longer someone waits to treat the disease, the less likely they are to recover\n",
    "#I had to use abs() to get the absolute values so there weren't any negatives\n",
    "\n",
    "Africa_df['Days_since_obs'] = abs(Africa_df['reported_day'] - Africa_df['obs_day'])"
   ]
  },
  {
   "cell_type": "code",
   "execution_count": 31,
   "metadata": {},
   "outputs": [
    {
     "data": {
      "text/plain": [
       "0         5\n",
       "2         0\n",
       "3         7\n",
       "6         8\n",
       "9        14\n",
       "         ..\n",
       "17003    12\n",
       "17004    17\n",
       "17005     6\n",
       "17006     9\n",
       "17007     2\n",
       "Name: Days_since_obs, Length: 1414, dtype: int32"
      ]
     },
     "execution_count": 31,
     "metadata": {},
     "output_type": "execute_result"
    }
   ],
   "source": [
    "Africa_df['Days_since_obs'].astype(int)"
   ]
  },
  {
   "cell_type": "code",
   "execution_count": 32,
   "metadata": {},
   "outputs": [],
   "source": [
    "reported_vs_death_count = Africa_df[['Days_since_obs', 'sumDeaths']]"
   ]
  },
  {
   "cell_type": "code",
   "execution_count": 33,
   "metadata": {},
   "outputs": [
    {
     "data": {
      "text/plain": [
       "Influenza - Avian                    998\n",
       "Foot and mouth disease               174\n",
       "Rift Valley fever                     50\n",
       "Lumpy skin disease                    48\n",
       "Newcastle disease                     36\n",
       "African swine fever                   35\n",
       "Peste des petits ruminants            26\n",
       "Anthrax                               13\n",
       "African horse sickness                12\n",
       "Bluetongue                            10\n",
       "Contagious bovine pleuropneumonia      4\n",
       "Sheep pox and goat pox                 4\n",
       "Brucellosis (Brucella abortus)         2\n",
       "West Nile Fever                        1\n",
       "Rabies                                 1\n",
       "Name: disease, dtype: int64"
      ]
     },
     "execution_count": 33,
     "metadata": {},
     "output_type": "execute_result"
    }
   ],
   "source": [
    "Africa_df['disease'].value_counts()"
   ]
  },
  {
   "cell_type": "code",
   "execution_count": 34,
   "metadata": {},
   "outputs": [
    {
     "data": {
      "text/plain": [
       "595.5150862068965"
      ]
     },
     "execution_count": 34,
     "metadata": {},
     "output_type": "execute_result"
    }
   ],
   "source": [
    "#The average number of deaths is 595 - 596\n",
    "#The average deaths per year is 365 per 1,000 adults and these numbers only account for deaths from zoonotic diseases\n",
    "#It might be helpful to have two additional columns: the total populationof where the disease came from and those in that \n",
    "#population who got sick\n",
    "reported_vs_death_count['sumDeaths'].mean()"
   ]
  },
  {
   "cell_type": "code",
   "execution_count": 35,
   "metadata": {},
   "outputs": [
    {
     "data": {
      "image/png": "[encoded data removed]",
      "text/plain": [
       "<Figure size 432x288 with 1 Axes>"
      ]
     },
     "metadata": {
      "needs_background": "light"
     },
     "output_type": "display_data"
    }
   ],
   "source": [
    "reported_vs_death_count['sumDeaths'].hist();"
   ]
  },
  {
   "cell_type": "code",
   "execution_count": 36,
   "metadata": {},
   "outputs": [
    {
     "data": {
      "image/png": "[encoded data removed]",
      "text/plain": [
       "<Figure size 432x288 with 1 Axes>"
      ]
     },
     "metadata": {
      "needs_background": "light"
     },
     "output_type": "display_data"
    }
   ],
   "source": [
    "#On average it is between 0 and 5 days\n",
    "reported_vs_death_count['Days_since_obs'].hist();"
   ]
  },
  {
   "cell_type": "code",
   "execution_count": 37,
   "metadata": {},
   "outputs": [
    {
     "data": {
      "text/plain": [
       "0"
      ]
     },
     "execution_count": 37,
     "metadata": {},
     "output_type": "execute_result"
    }
   ],
   "source": [
    "Africa_df['Days_since_obs'].isnull().sum()"
   ]
  },
  {
   "cell_type": "code",
   "execution_count": 38,
   "metadata": {},
   "outputs": [],
   "source": [
    "#The percentage of the population at risk who got sick\n",
    "Africa_df['porportion_of_cases_to_at_risk_pop'] = Africa_df['sumCases'] / Africa_df['sumAtRisk']"
   ]
  },
  {
   "cell_type": "code",
   "execution_count": 39,
   "metadata": {},
   "outputs": [
    {
     "data": {
      "text/plain": [
       "1.0"
      ]
     },
     "execution_count": 39,
     "metadata": {},
     "output_type": "execute_result"
    }
   ],
   "source": [
    "Africa_df['porportion_of_cases_to_at_risk_pop'].value_counts().index[0]"
   ]
  },
  {
   "cell_type": "code",
   "execution_count": 40,
   "metadata": {},
   "outputs": [],
   "source": [
    "Africa_df['porportion_of_cases_to_at_risk_pop'].fillna(1.0, inplace=True)"
   ]
  },
  {
   "cell_type": "code",
   "execution_count": 41,
   "metadata": {},
   "outputs": [
    {
     "data": {
      "text/plain": [
       "0        0\n",
       "2        0\n",
       "3        1\n",
       "6        0\n",
       "9        0\n",
       "        ..\n",
       "17003    1\n",
       "17004    1\n",
       "17005    1\n",
       "17006    1\n",
       "17007    1\n",
       "Name: porportion_of_cases_to_at_risk_pop, Length: 1414, dtype: int64"
      ]
     },
     "execution_count": 41,
     "metadata": {},
     "output_type": "execute_result"
    }
   ],
   "source": [
    "Africa_df['porportion_of_cases_to_at_risk_pop'].astype('int64')"
   ]
  },
  {
   "cell_type": "code",
   "execution_count": 42,
   "metadata": {},
   "outputs": [
    {
     "data": {
      "image/png": "[encoded data removed]",
      "text/plain": [
       "<Figure size 432x288 with 1 Axes>"
      ]
     },
     "metadata": {
      "needs_background": "light"
     },
     "output_type": "display_data"
    }
   ],
   "source": [
    "#Maybe the poportion of those who got sick to those at risk came from small populations which would explain the high bar around\n",
    "#0 - 0.1 and maybe the numbers on the other end between 0.7 and 0.9 came from large populations\n",
    "#The spike at one is because I filled all the null values with 1\n",
    "Africa_df['porportion_of_cases_to_at_risk_pop'].hist();"
   ]
  },
  {
   "cell_type": "markdown",
   "metadata": {},
   "source": [
    "# Does the difference between the reported date and the reported date have any relationship to total deaths and can the sum at risk be used to predict cases?"
   ]
  },
  {
   "cell_type": "code",
   "execution_count": 43,
   "metadata": {},
   "outputs": [],
   "source": [
    "#Days since observations and the porportion of cases to those at risk\n",
    "#does have a stronger relation to the sum of deaths than sum of cases\n",
    "cases = Africa_df[['Days_since_obs', 'porportion_of_cases_to_at_risk_pop', 'sumCases', 'sumDeaths']]"
   ]
  },
  {
   "cell_type": "code",
   "execution_count": 44,
   "metadata": {},
   "outputs": [
    {
     "data": {
      "text/html": [
       "<div>\n",
       "<style scoped>\n",
       "    .dataframe tbody tr th:only-of-type {\n",
       "        vertical-align: middle;\n",
       "    }\n",
       "\n",
       "    .dataframe tbody tr th {\n",
       "        vertical-align: top;\n",
       "    }\n",
       "\n",
       "    .dataframe thead th {\n",
       "        text-align: right;\n",
       "    }\n",
       "</style>\n",
       "<table border=\"1\" class=\"dataframe\">\n",
       "  <thead>\n",
       "    <tr style=\"text-align: right;\">\n",
       "      <th></th>\n",
       "      <th>Days_since_obs</th>\n",
       "      <th>porportion_of_cases_to_at_risk_pop</th>\n",
       "      <th>sumCases</th>\n",
       "      <th>sumDeaths</th>\n",
       "    </tr>\n",
       "  </thead>\n",
       "  <tbody>\n",
       "    <tr>\n",
       "      <td>Days_since_obs</td>\n",
       "      <td>1.000000</td>\n",
       "      <td>-0.272359</td>\n",
       "      <td>0.011435</td>\n",
       "      <td>0.020488</td>\n",
       "    </tr>\n",
       "    <tr>\n",
       "      <td>porportion_of_cases_to_at_risk_pop</td>\n",
       "      <td>-0.272359</td>\n",
       "      <td>1.000000</td>\n",
       "      <td>0.092315</td>\n",
       "      <td>0.148940</td>\n",
       "    </tr>\n",
       "    <tr>\n",
       "      <td>sumCases</td>\n",
       "      <td>0.011435</td>\n",
       "      <td>0.092315</td>\n",
       "      <td>1.000000</td>\n",
       "      <td>0.997713</td>\n",
       "    </tr>\n",
       "    <tr>\n",
       "      <td>sumDeaths</td>\n",
       "      <td>0.020488</td>\n",
       "      <td>0.148940</td>\n",
       "      <td>0.997713</td>\n",
       "      <td>1.000000</td>\n",
       "    </tr>\n",
       "  </tbody>\n",
       "</table>\n",
       "</div>"
      ],
      "text/plain": [
       "                                    Days_since_obs  \\\n",
       "Days_since_obs                            1.000000   \n",
       "porportion_of_cases_to_at_risk_pop       -0.272359   \n",
       "sumCases                                  0.011435   \n",
       "sumDeaths                                 0.020488   \n",
       "\n",
       "                                    porportion_of_cases_to_at_risk_pop  \\\n",
       "Days_since_obs                                               -0.272359   \n",
       "porportion_of_cases_to_at_risk_pop                            1.000000   \n",
       "sumCases                                                      0.092315   \n",
       "sumDeaths                                                     0.148940   \n",
       "\n",
       "                                    sumCases  sumDeaths  \n",
       "Days_since_obs                      0.011435   0.020488  \n",
       "porportion_of_cases_to_at_risk_pop  0.092315   0.148940  \n",
       "sumCases                            1.000000   0.997713  \n",
       "sumDeaths                           0.997713   1.000000  "
      ]
     },
     "execution_count": 44,
     "metadata": {},
     "output_type": "execute_result"
    }
   ],
   "source": [
    "cases.corr()"
   ]
  },
  {
   "cell_type": "code",
   "execution_count": 45,
   "metadata": {},
   "outputs": [
    {
     "data": {
      "text/html": [
       "<div>\n",
       "<style scoped>\n",
       "    .dataframe tbody tr th:only-of-type {\n",
       "        vertical-align: middle;\n",
       "    }\n",
       "\n",
       "    .dataframe tbody tr th {\n",
       "        vertical-align: top;\n",
       "    }\n",
       "\n",
       "    .dataframe thead th {\n",
       "        text-align: right;\n",
       "    }\n",
       "</style>\n",
       "<table border=\"1\" class=\"dataframe\">\n",
       "  <thead>\n",
       "    <tr style=\"text-align: right;\">\n",
       "      <th></th>\n",
       "      <th>Id</th>\n",
       "      <th>source</th>\n",
       "      <th>latitude</th>\n",
       "      <th>longitude</th>\n",
       "      <th>region</th>\n",
       "      <th>country</th>\n",
       "      <th>admin1</th>\n",
       "      <th>localityName</th>\n",
       "      <th>localityQuality</th>\n",
       "      <th>observationDate</th>\n",
       "      <th>reportingDate</th>\n",
       "      <th>status</th>\n",
       "      <th>disease</th>\n",
       "      <th>serotypes</th>\n",
       "      <th>speciesDescription</th>\n",
       "      <th>sumAtRisk</th>\n",
       "      <th>sumCases</th>\n",
       "      <th>sumDeaths</th>\n",
       "      <th>sumDestroyed</th>\n",
       "      <th>sumSlaughtered</th>\n",
       "      <th>humansGenderDesc</th>\n",
       "      <th>humansAge</th>\n",
       "      <th>humansAffected</th>\n",
       "      <th>humansDeaths</th>\n",
       "      <th>reported_day</th>\n",
       "      <th>obs_day</th>\n",
       "      <th>Days_since_obs</th>\n",
       "      <th>porportion_of_cases_to_at_risk_pop</th>\n",
       "    </tr>\n",
       "  </thead>\n",
       "  <tbody>\n",
       "    <tr>\n",
       "      <td>0</td>\n",
       "      <td>230399</td>\n",
       "      <td>OIE</td>\n",
       "      <td>-27.90000</td>\n",
       "      <td>30.80000</td>\n",
       "      <td>Africa</td>\n",
       "      <td>South Africa</td>\n",
       "      <td>KwaZulu-Natal</td>\n",
       "      <td>HPAI_H5N8_2017_019</td>\n",
       "      <td>Exact</td>\n",
       "      <td>2017-08-17</td>\n",
       "      <td>2017-08-22</td>\n",
       "      <td>Confirmed</td>\n",
       "      <td>Influenza - Avian</td>\n",
       "      <td>H5N8 HPAI</td>\n",
       "      <td>domestic, unspecified bird</td>\n",
       "      <td>248000.0</td>\n",
       "      <td>12.0</td>\n",
       "      <td>12.0</td>\n",
       "      <td>50000.0</td>\n",
       "      <td>0.0</td>\n",
       "      <td>NaN</td>\n",
       "      <td>0.0</td>\n",
       "      <td>NaN</td>\n",
       "      <td>NaN</td>\n",
       "      <td>22</td>\n",
       "      <td>17</td>\n",
       "      <td>5</td>\n",
       "      <td>0.000048</td>\n",
       "    </tr>\n",
       "    <tr>\n",
       "      <td>2</td>\n",
       "      <td>230333</td>\n",
       "      <td>OIE</td>\n",
       "      <td>-21.07774</td>\n",
       "      <td>30.21162</td>\n",
       "      <td>Africa</td>\n",
       "      <td>Zimbabwe</td>\n",
       "      <td>Masvingo</td>\n",
       "      <td>Mwambe</td>\n",
       "      <td>Exact</td>\n",
       "      <td>2017-08-16</td>\n",
       "      <td>2017-08-16</td>\n",
       "      <td>Confirmed</td>\n",
       "      <td>Foot and mouth disease</td>\n",
       "      <td>NaN</td>\n",
       "      <td>domestic, cattle</td>\n",
       "      <td>1283.0</td>\n",
       "      <td>112.0</td>\n",
       "      <td>0.0</td>\n",
       "      <td>NaN</td>\n",
       "      <td>7.0</td>\n",
       "      <td>NaN</td>\n",
       "      <td>NaN</td>\n",
       "      <td>NaN</td>\n",
       "      <td>NaN</td>\n",
       "      <td>16</td>\n",
       "      <td>16</td>\n",
       "      <td>0</td>\n",
       "      <td>0.087295</td>\n",
       "    </tr>\n",
       "  </tbody>\n",
       "</table>\n",
       "</div>"
      ],
      "text/plain": [
       "       Id source  latitude  longitude  region       country         admin1  \\\n",
       "0  230399    OIE -27.90000   30.80000  Africa  South Africa  KwaZulu-Natal   \n",
       "2  230333    OIE -21.07774   30.21162  Africa      Zimbabwe       Masvingo   \n",
       "\n",
       "         localityName localityQuality observationDate reportingDate  \\\n",
       "0  HPAI_H5N8_2017_019           Exact      2017-08-17    2017-08-22   \n",
       "2              Mwambe           Exact      2017-08-16    2017-08-16   \n",
       "\n",
       "      status                 disease  serotypes          speciesDescription  \\\n",
       "0  Confirmed       Influenza - Avian  H5N8 HPAI  domestic, unspecified bird   \n",
       "2  Confirmed  Foot and mouth disease        NaN            domestic, cattle   \n",
       "\n",
       "   sumAtRisk  sumCases  sumDeaths  sumDestroyed  sumSlaughtered  \\\n",
       "0   248000.0      12.0       12.0       50000.0             0.0   \n",
       "2     1283.0     112.0        0.0           NaN             7.0   \n",
       "\n",
       "  humansGenderDesc  humansAge  humansAffected  humansDeaths  reported_day  \\\n",
       "0              NaN        0.0             NaN           NaN            22   \n",
       "2              NaN        NaN             NaN           NaN            16   \n",
       "\n",
       "   obs_day  Days_since_obs  porportion_of_cases_to_at_risk_pop  \n",
       "0       17               5                            0.000048  \n",
       "2       16               0                            0.087295  "
      ]
     },
     "execution_count": 45,
     "metadata": {},
     "output_type": "execute_result"
    }
   ],
   "source": [
    "#Checking the new features created and if the sum of the new features make since \n",
    "Africa_df.head(2)"
   ]
  },
  {
   "cell_type": "code",
   "execution_count": 46,
   "metadata": {},
   "outputs": [
    {
     "data": {
      "text/html": [
       "<div>\n",
       "<style scoped>\n",
       "    .dataframe tbody tr th:only-of-type {\n",
       "        vertical-align: middle;\n",
       "    }\n",
       "\n",
       "    .dataframe tbody tr th {\n",
       "        vertical-align: top;\n",
       "    }\n",
       "\n",
       "    .dataframe thead th {\n",
       "        text-align: right;\n",
       "    }\n",
       "</style>\n",
       "<table border=\"1\" class=\"dataframe\">\n",
       "  <thead>\n",
       "    <tr style=\"text-align: right;\">\n",
       "      <th></th>\n",
       "      <th>Id</th>\n",
       "      <th>latitude</th>\n",
       "      <th>longitude</th>\n",
       "      <th>sumAtRisk</th>\n",
       "      <th>sumCases</th>\n",
       "      <th>sumDeaths</th>\n",
       "      <th>sumDestroyed</th>\n",
       "      <th>sumSlaughtered</th>\n",
       "      <th>humansAge</th>\n",
       "      <th>humansAffected</th>\n",
       "      <th>humansDeaths</th>\n",
       "      <th>reported_day</th>\n",
       "      <th>obs_day</th>\n",
       "      <th>Days_since_obs</th>\n",
       "      <th>porportion_of_cases_to_at_risk_pop</th>\n",
       "    </tr>\n",
       "  </thead>\n",
       "  <tbody>\n",
       "    <tr>\n",
       "      <td>count</td>\n",
       "      <td>1414.000000</td>\n",
       "      <td>1414.000000</td>\n",
       "      <td>1414.000000</td>\n",
       "      <td>9.050000e+02</td>\n",
       "      <td>1316.000000</td>\n",
       "      <td>928.000000</td>\n",
       "      <td>1274.000000</td>\n",
       "      <td>862.000000</td>\n",
       "      <td>81.000000</td>\n",
       "      <td>54.000000</td>\n",
       "      <td>25.0</td>\n",
       "      <td>1414.000000</td>\n",
       "      <td>1414.000000</td>\n",
       "      <td>1414.000000</td>\n",
       "      <td>1414.000000</td>\n",
       "    </tr>\n",
       "    <tr>\n",
       "      <td>mean</td>\n",
       "      <td>216268.871287</td>\n",
       "      <td>7.970578</td>\n",
       "      <td>18.724179</td>\n",
       "      <td>8.504718e+03</td>\n",
       "      <td>654.945289</td>\n",
       "      <td>595.515086</td>\n",
       "      <td>2319.010204</td>\n",
       "      <td>55.639211</td>\n",
       "      <td>1.271605</td>\n",
       "      <td>1.037037</td>\n",
       "      <td>1.0</td>\n",
       "      <td>15.245403</td>\n",
       "      <td>14.148515</td>\n",
       "      <td>7.727723</td>\n",
       "      <td>0.493572</td>\n",
       "    </tr>\n",
       "    <tr>\n",
       "      <td>std</td>\n",
       "      <td>7763.778481</td>\n",
       "      <td>20.205204</td>\n",
       "      <td>13.099893</td>\n",
       "      <td>7.236161e+04</td>\n",
       "      <td>3627.264136</td>\n",
       "      <td>3744.975256</td>\n",
       "      <td>13942.246019</td>\n",
       "      <td>1074.989782</td>\n",
       "      <td>6.644570</td>\n",
       "      <td>0.272166</td>\n",
       "      <td>0.0</td>\n",
       "      <td>8.869497</td>\n",
       "      <td>9.482088</td>\n",
       "      <td>7.735735</td>\n",
       "      <td>0.437996</td>\n",
       "    </tr>\n",
       "    <tr>\n",
       "      <td>min</td>\n",
       "      <td>206375.000000</td>\n",
       "      <td>-34.300000</td>\n",
       "      <td>-23.645005</td>\n",
       "      <td>0.000000e+00</td>\n",
       "      <td>0.000000</td>\n",
       "      <td>0.000000</td>\n",
       "      <td>0.000000</td>\n",
       "      <td>0.000000</td>\n",
       "      <td>0.000000</td>\n",
       "      <td>1.000000</td>\n",
       "      <td>1.0</td>\n",
       "      <td>1.000000</td>\n",
       "      <td>1.000000</td>\n",
       "      <td>0.000000</td>\n",
       "      <td>0.000000</td>\n",
       "    </tr>\n",
       "    <tr>\n",
       "      <td>25%</td>\n",
       "      <td>209840.250000</td>\n",
       "      <td>-3.223400</td>\n",
       "      <td>8.228594</td>\n",
       "      <td>1.800000e+02</td>\n",
       "      <td>10.000000</td>\n",
       "      <td>0.000000</td>\n",
       "      <td>0.000000</td>\n",
       "      <td>0.000000</td>\n",
       "      <td>0.000000</td>\n",
       "      <td>1.000000</td>\n",
       "      <td>1.0</td>\n",
       "      <td>7.000000</td>\n",
       "      <td>5.000000</td>\n",
       "      <td>1.000000</td>\n",
       "      <td>0.050000</td>\n",
       "    </tr>\n",
       "    <tr>\n",
       "      <td>50%</td>\n",
       "      <td>213763.500000</td>\n",
       "      <td>10.017470</td>\n",
       "      <td>21.850000</td>\n",
       "      <td>9.200000e+02</td>\n",
       "      <td>29.000000</td>\n",
       "      <td>20.000000</td>\n",
       "      <td>16.000000</td>\n",
       "      <td>0.000000</td>\n",
       "      <td>0.000000</td>\n",
       "      <td>1.000000</td>\n",
       "      <td>1.0</td>\n",
       "      <td>16.000000</td>\n",
       "      <td>14.000000</td>\n",
       "      <td>5.000000</td>\n",
       "      <td>0.333153</td>\n",
       "    </tr>\n",
       "    <tr>\n",
       "      <td>75%</td>\n",
       "      <td>223787.750000</td>\n",
       "      <td>27.900371</td>\n",
       "      <td>31.033991</td>\n",
       "      <td>2.541000e+03</td>\n",
       "      <td>150.500000</td>\n",
       "      <td>181.000000</td>\n",
       "      <td>677.500000</td>\n",
       "      <td>0.000000</td>\n",
       "      <td>0.000000</td>\n",
       "      <td>1.000000</td>\n",
       "      <td>1.0</td>\n",
       "      <td>22.000000</td>\n",
       "      <td>23.000000</td>\n",
       "      <td>13.000000</td>\n",
       "      <td>1.000000</td>\n",
       "    </tr>\n",
       "    <tr>\n",
       "      <td>max</td>\n",
       "      <td>230399.000000</td>\n",
       "      <td>37.172730</td>\n",
       "      <td>63.416667</td>\n",
       "      <td>2.000000e+06</td>\n",
       "      <td>86000.000000</td>\n",
       "      <td>86000.000000</td>\n",
       "      <td>325789.000000</td>\n",
       "      <td>30500.000000</td>\n",
       "      <td>48.000000</td>\n",
       "      <td>3.000000</td>\n",
       "      <td>1.0</td>\n",
       "      <td>31.000000</td>\n",
       "      <td>31.000000</td>\n",
       "      <td>30.000000</td>\n",
       "      <td>1.000000</td>\n",
       "    </tr>\n",
       "  </tbody>\n",
       "</table>\n",
       "</div>"
      ],
      "text/plain": [
       "                  Id     latitude    longitude     sumAtRisk      sumCases  \\\n",
       "count    1414.000000  1414.000000  1414.000000  9.050000e+02   1316.000000   \n",
       "mean   216268.871287     7.970578    18.724179  8.504718e+03    654.945289   \n",
       "std      7763.778481    20.205204    13.099893  7.236161e+04   3627.264136   \n",
       "min    206375.000000   -34.300000   -23.645005  0.000000e+00      0.000000   \n",
       "25%    209840.250000    -3.223400     8.228594  1.800000e+02     10.000000   \n",
       "50%    213763.500000    10.017470    21.850000  9.200000e+02     29.000000   \n",
       "75%    223787.750000    27.900371    31.033991  2.541000e+03    150.500000   \n",
       "max    230399.000000    37.172730    63.416667  2.000000e+06  86000.000000   \n",
       "\n",
       "          sumDeaths   sumDestroyed  sumSlaughtered  humansAge  humansAffected  \\\n",
       "count    928.000000    1274.000000      862.000000  81.000000       54.000000   \n",
       "mean     595.515086    2319.010204       55.639211   1.271605        1.037037   \n",
       "std     3744.975256   13942.246019     1074.989782   6.644570        0.272166   \n",
       "min        0.000000       0.000000        0.000000   0.000000        1.000000   \n",
       "25%        0.000000       0.000000        0.000000   0.000000        1.000000   \n",
       "50%       20.000000      16.000000        0.000000   0.000000        1.000000   \n",
       "75%      181.000000     677.500000        0.000000   0.000000        1.000000   \n",
       "max    86000.000000  325789.000000    30500.000000  48.000000        3.000000   \n",
       "\n",
       "       humansDeaths  reported_day      obs_day  Days_since_obs  \\\n",
       "count          25.0   1414.000000  1414.000000     1414.000000   \n",
       "mean            1.0     15.245403    14.148515        7.727723   \n",
       "std             0.0      8.869497     9.482088        7.735735   \n",
       "min             1.0      1.000000     1.000000        0.000000   \n",
       "25%             1.0      7.000000     5.000000        1.000000   \n",
       "50%             1.0     16.000000    14.000000        5.000000   \n",
       "75%             1.0     22.000000    23.000000       13.000000   \n",
       "max             1.0     31.000000    31.000000       30.000000   \n",
       "\n",
       "       porportion_of_cases_to_at_risk_pop  \n",
       "count                         1414.000000  \n",
       "mean                             0.493572  \n",
       "std                              0.437996  \n",
       "min                              0.000000  \n",
       "25%                              0.050000  \n",
       "50%                              0.333153  \n",
       "75%                              1.000000  \n",
       "max                              1.000000  "
      ]
     },
     "execution_count": 46,
     "metadata": {},
     "output_type": "execute_result"
    }
   ],
   "source": [
    "#Re-checking the statistics after new columns are added\n",
    "Africa_df.describe()"
   ]
  },
  {
   "cell_type": "code",
   "execution_count": 47,
   "metadata": {},
   "outputs": [],
   "source": [
    "Africa_df.drop(['Id', 'longitude', 'latitude','humansAge', 'humansAffected', 'humansDeaths',\n",
    "               'source', 'admin1', 'localityName', 'localityQuality',\n",
    "               'status', 'serotypes', 'humansGenderDesc'], axis=1, inplace=True)"
   ]
  },
  {
   "cell_type": "code",
   "execution_count": 48,
   "metadata": {},
   "outputs": [
    {
     "data": {
      "text/plain": [
       "Index(['region', 'country', 'observationDate', 'reportingDate', 'disease',\n",
       "       'speciesDescription', 'sumAtRisk', 'sumCases', 'sumDeaths',\n",
       "       'sumDestroyed', 'sumSlaughtered', 'reported_day', 'obs_day',\n",
       "       'Days_since_obs', 'porportion_of_cases_to_at_risk_pop'],\n",
       "      dtype='object')"
      ]
     },
     "execution_count": 48,
     "metadata": {},
     "output_type": "execute_result"
    }
   ],
   "source": [
    "#checking column names and shape of the dataframe after dropping features\n",
    "Africa_df.columns"
   ]
  },
  {
   "cell_type": "code",
   "execution_count": 49,
   "metadata": {},
   "outputs": [
    {
     "data": {
      "text/plain": [
       "(1414, 15)"
      ]
     },
     "execution_count": 49,
     "metadata": {},
     "output_type": "execute_result"
    }
   ],
   "source": [
    "Africa_df.shape"
   ]
  },
  {
   "cell_type": "code",
   "execution_count": 50,
   "metadata": {},
   "outputs": [
    {
     "name": "stdout",
     "output_type": "stream",
     "text": [
      "<class 'pandas.core.frame.DataFrame'>\n",
      "Int64Index: 1414 entries, 0 to 17007\n",
      "Data columns (total 15 columns):\n",
      "region                                1414 non-null object\n",
      "country                               1414 non-null object\n",
      "observationDate                       1414 non-null datetime64[ns]\n",
      "reportingDate                         1414 non-null datetime64[ns]\n",
      "disease                               1414 non-null object\n",
      "speciesDescription                    1360 non-null object\n",
      "sumAtRisk                             905 non-null float64\n",
      "sumCases                              1316 non-null float64\n",
      "sumDeaths                             928 non-null float64\n",
      "sumDestroyed                          1274 non-null float64\n",
      "sumSlaughtered                        862 non-null float64\n",
      "reported_day                          1414 non-null int64\n",
      "obs_day                               1414 non-null int64\n",
      "Days_since_obs                        1414 non-null int64\n",
      "porportion_of_cases_to_at_risk_pop    1414 non-null float64\n",
      "dtypes: datetime64[ns](2), float64(6), int64(3), object(4)\n",
      "memory usage: 176.8+ KB\n"
     ]
    }
   ],
   "source": [
    "#Let's take care of all null values\n",
    "Africa_df.info()"
   ]
  },
  {
   "cell_type": "code",
   "execution_count": 51,
   "metadata": {},
   "outputs": [
    {
     "data": {
      "text/plain": [
       "'domestic, chicken'"
      ]
     },
     "execution_count": 51,
     "metadata": {},
     "output_type": "execute_result"
    }
   ],
   "source": [
    "#Using the most common species to fill speciesDescription\n",
    "Africa_df['speciesDescription'].value_counts().index[0]       "
   ]
  },
  {
   "cell_type": "code",
   "execution_count": 52,
   "metadata": {},
   "outputs": [],
   "source": [
    "Africa_df['speciesDescription'].fillna('domestic, chicken', inplace=True)"
   ]
  },
  {
   "cell_type": "code",
   "execution_count": 53,
   "metadata": {},
   "outputs": [],
   "source": [
    "#Using the median value to fill all the numeric null values\n",
    "Africa_df.dropna(inplace=True)"
   ]
  },
  {
   "cell_type": "code",
   "execution_count": 54,
   "metadata": {},
   "outputs": [
    {
     "name": "stdout",
     "output_type": "stream",
     "text": [
      "<class 'pandas.core.frame.DataFrame'>\n",
      "Int64Index: 833 entries, 0 to 16889\n",
      "Data columns (total 15 columns):\n",
      "region                                833 non-null object\n",
      "country                               833 non-null object\n",
      "observationDate                       833 non-null datetime64[ns]\n",
      "reportingDate                         833 non-null datetime64[ns]\n",
      "disease                               833 non-null object\n",
      "speciesDescription                    833 non-null object\n",
      "sumAtRisk                             833 non-null float64\n",
      "sumCases                              833 non-null float64\n",
      "sumDeaths                             833 non-null float64\n",
      "sumDestroyed                          833 non-null float64\n",
      "sumSlaughtered                        833 non-null float64\n",
      "reported_day                          833 non-null int64\n",
      "obs_day                               833 non-null int64\n",
      "Days_since_obs                        833 non-null int64\n",
      "porportion_of_cases_to_at_risk_pop    833 non-null float64\n",
      "dtypes: datetime64[ns](2), float64(6), int64(3), object(4)\n",
      "memory usage: 104.1+ KB\n"
     ]
    }
   ],
   "source": [
    "Africa_df.info()"
   ]
  },
  {
   "cell_type": "code",
   "execution_count": 55,
   "metadata": {},
   "outputs": [],
   "source": [
    "#factorize all object datatypes machine learning algorithms\n",
    "#Pd.factorize() - obtains numerical representation\n",
    "Africa_df['region'] = pd.factorize(Africa_df['region'])[0]\n",
    "Africa_df['country'] = pd.factorize(Africa_df['country'])[0]\n",
    "Africa_df['disease'] = pd.factorize(Africa_df['disease'])[0]\n",
    "Africa_df['speciesDescription'] = pd.factorize(Africa_df['speciesDescription'])[0]"
   ]
  },
  {
   "cell_type": "code",
   "execution_count": 56,
   "metadata": {},
   "outputs": [
    {
     "name": "stdout",
     "output_type": "stream",
     "text": [
      "<class 'pandas.core.frame.DataFrame'>\n",
      "Int64Index: 833 entries, 0 to 16889\n",
      "Data columns (total 15 columns):\n",
      "region                                833 non-null int64\n",
      "country                               833 non-null int64\n",
      "observationDate                       833 non-null datetime64[ns]\n",
      "reportingDate                         833 non-null datetime64[ns]\n",
      "disease                               833 non-null int64\n",
      "speciesDescription                    833 non-null int64\n",
      "sumAtRisk                             833 non-null float64\n",
      "sumCases                              833 non-null float64\n",
      "sumDeaths                             833 non-null float64\n",
      "sumDestroyed                          833 non-null float64\n",
      "sumSlaughtered                        833 non-null float64\n",
      "reported_day                          833 non-null int64\n",
      "obs_day                               833 non-null int64\n",
      "Days_since_obs                        833 non-null int64\n",
      "porportion_of_cases_to_at_risk_pop    833 non-null float64\n",
      "dtypes: datetime64[ns](2), float64(6), int64(7)\n",
      "memory usage: 104.1 KB\n"
     ]
    }
   ],
   "source": [
    "Africa_df.info()"
   ]
  },
  {
   "cell_type": "code",
   "execution_count": 57,
   "metadata": {},
   "outputs": [
    {
     "data": {
      "text/html": [
       "<div>\n",
       "<style scoped>\n",
       "    .dataframe tbody tr th:only-of-type {\n",
       "        vertical-align: middle;\n",
       "    }\n",
       "\n",
       "    .dataframe tbody tr th {\n",
       "        vertical-align: top;\n",
       "    }\n",
       "\n",
       "    .dataframe thead th {\n",
       "        text-align: right;\n",
       "    }\n",
       "</style>\n",
       "<table border=\"1\" class=\"dataframe\">\n",
       "  <thead>\n",
       "    <tr style=\"text-align: right;\">\n",
       "      <th></th>\n",
       "      <th>region</th>\n",
       "      <th>country</th>\n",
       "      <th>observationDate</th>\n",
       "      <th>reportingDate</th>\n",
       "      <th>disease</th>\n",
       "      <th>speciesDescription</th>\n",
       "      <th>sumAtRisk</th>\n",
       "      <th>sumCases</th>\n",
       "      <th>sumDeaths</th>\n",
       "      <th>sumDestroyed</th>\n",
       "      <th>sumSlaughtered</th>\n",
       "      <th>reported_day</th>\n",
       "      <th>obs_day</th>\n",
       "      <th>Days_since_obs</th>\n",
       "      <th>porportion_of_cases_to_at_risk_pop</th>\n",
       "    </tr>\n",
       "  </thead>\n",
       "  <tbody>\n",
       "    <tr>\n",
       "      <td>0</td>\n",
       "      <td>0</td>\n",
       "      <td>0</td>\n",
       "      <td>2017-08-17</td>\n",
       "      <td>2017-08-22</td>\n",
       "      <td>0</td>\n",
       "      <td>0</td>\n",
       "      <td>248000.0</td>\n",
       "      <td>12.0</td>\n",
       "      <td>12.0</td>\n",
       "      <td>50000.0</td>\n",
       "      <td>0.0</td>\n",
       "      <td>22</td>\n",
       "      <td>17</td>\n",
       "      <td>5</td>\n",
       "      <td>0.000048</td>\n",
       "    </tr>\n",
       "    <tr>\n",
       "      <td>6</td>\n",
       "      <td>0</td>\n",
       "      <td>0</td>\n",
       "      <td>2017-08-14</td>\n",
       "      <td>2017-08-22</td>\n",
       "      <td>0</td>\n",
       "      <td>1</td>\n",
       "      <td>34.0</td>\n",
       "      <td>19.0</td>\n",
       "      <td>19.0</td>\n",
       "      <td>0.0</td>\n",
       "      <td>0.0</td>\n",
       "      <td>22</td>\n",
       "      <td>14</td>\n",
       "      <td>8</td>\n",
       "      <td>0.558824</td>\n",
       "    </tr>\n",
       "    <tr>\n",
       "      <td>9</td>\n",
       "      <td>0</td>\n",
       "      <td>0</td>\n",
       "      <td>2017-12-08</td>\n",
       "      <td>2017-08-22</td>\n",
       "      <td>0</td>\n",
       "      <td>0</td>\n",
       "      <td>62.0</td>\n",
       "      <td>5.0</td>\n",
       "      <td>5.0</td>\n",
       "      <td>0.0</td>\n",
       "      <td>0.0</td>\n",
       "      <td>22</td>\n",
       "      <td>8</td>\n",
       "      <td>14</td>\n",
       "      <td>0.080645</td>\n",
       "    </tr>\n",
       "    <tr>\n",
       "      <td>13</td>\n",
       "      <td>0</td>\n",
       "      <td>0</td>\n",
       "      <td>2017-11-08</td>\n",
       "      <td>2017-08-22</td>\n",
       "      <td>0</td>\n",
       "      <td>0</td>\n",
       "      <td>266.0</td>\n",
       "      <td>81.0</td>\n",
       "      <td>81.0</td>\n",
       "      <td>135.0</td>\n",
       "      <td>0.0</td>\n",
       "      <td>22</td>\n",
       "      <td>8</td>\n",
       "      <td>14</td>\n",
       "      <td>0.304511</td>\n",
       "    </tr>\n",
       "    <tr>\n",
       "      <td>24</td>\n",
       "      <td>0</td>\n",
       "      <td>0</td>\n",
       "      <td>2017-09-08</td>\n",
       "      <td>2017-11-08</td>\n",
       "      <td>0</td>\n",
       "      <td>2</td>\n",
       "      <td>1071.0</td>\n",
       "      <td>22.0</td>\n",
       "      <td>0.0</td>\n",
       "      <td>0.0</td>\n",
       "      <td>0.0</td>\n",
       "      <td>8</td>\n",
       "      <td>8</td>\n",
       "      <td>0</td>\n",
       "      <td>0.020542</td>\n",
       "    </tr>\n",
       "  </tbody>\n",
       "</table>\n",
       "</div>"
      ],
      "text/plain": [
       "    region  country observationDate reportingDate  disease  \\\n",
       "0        0        0      2017-08-17    2017-08-22        0   \n",
       "6        0        0      2017-08-14    2017-08-22        0   \n",
       "9        0        0      2017-12-08    2017-08-22        0   \n",
       "13       0        0      2017-11-08    2017-08-22        0   \n",
       "24       0        0      2017-09-08    2017-11-08        0   \n",
       "\n",
       "    speciesDescription  sumAtRisk  sumCases  sumDeaths  sumDestroyed  \\\n",
       "0                    0   248000.0      12.0       12.0       50000.0   \n",
       "6                    1       34.0      19.0       19.0           0.0   \n",
       "9                    0       62.0       5.0        5.0           0.0   \n",
       "13                   0      266.0      81.0       81.0         135.0   \n",
       "24                   2     1071.0      22.0        0.0           0.0   \n",
       "\n",
       "    sumSlaughtered  reported_day  obs_day  Days_since_obs  \\\n",
       "0              0.0            22       17               5   \n",
       "6              0.0            22       14               8   \n",
       "9              0.0            22        8              14   \n",
       "13             0.0            22        8              14   \n",
       "24             0.0             8        8               0   \n",
       "\n",
       "    porportion_of_cases_to_at_risk_pop  \n",
       "0                             0.000048  \n",
       "6                             0.558824  \n",
       "9                             0.080645  \n",
       "13                            0.304511  \n",
       "24                            0.020542  "
      ]
     },
     "execution_count": 57,
     "metadata": {},
     "output_type": "execute_result"
    }
   ],
   "source": [
    "Africa_df.head()"
   ]
  },
  {
   "cell_type": "code",
   "execution_count": 58,
   "metadata": {},
   "outputs": [],
   "source": [
    "Africa_df.set_index(Africa_df['reportingDate'], inplace=True, drop=True)"
   ]
  },
  {
   "cell_type": "code",
   "execution_count": 59,
   "metadata": {},
   "outputs": [
    {
     "data": {
      "text/plain": [
       "<pandas.core.resample.DatetimeIndexResampler object at 0x000001BDB013CF08>"
      ]
     },
     "execution_count": 59,
     "metadata": {},
     "output_type": "execute_result"
    }
   ],
   "source": [
    "#Sampling cases monthly\n",
    "Africa_df['reportingDate'].resample('M')"
   ]
  },
  {
   "cell_type": "code",
   "execution_count": 60,
   "metadata": {},
   "outputs": [],
   "source": [
    "Africa_df.sort_index(ascending=True, inplace=True)"
   ]
  },
  {
   "cell_type": "code",
   "execution_count": 61,
   "metadata": {},
   "outputs": [
    {
     "data": {
      "text/plain": [
       "<matplotlib.axes._subplots.AxesSubplot at 0x1bdb00aba48>"
      ]
     },
     "execution_count": 61,
     "metadata": {},
     "output_type": "execute_result"
    },
    {
     "data": {
      "image/png": "[encoded data removed]",
      "text/plain": [
       "<Figure size 864x720 with 1 Axes>"
      ]
     },
     "metadata": {
      "needs_background": "light"
     },
     "output_type": "display_data"
    }
   ],
   "source": [
    "#This is not stationary, a requirement for most models\n",
    "Africa_df['sumCases'].plot(xlim=['2015-01-01', '2018-01-01'], figsize=(12, 10), grid=True)"
   ]
  },
  {
   "cell_type": "markdown",
   "metadata": {},
   "source": [
    "# 3. Predicting future cases with SARIMAX"
   ]
  },
  {
   "cell_type": "code",
   "execution_count": 62,
   "metadata": {},
   "outputs": [],
   "source": [
    "#Making a dataset for the time series models\n",
    "ts_1 = Africa_df[['sumCases']]"
   ]
  },
  {
   "cell_type": "code",
   "execution_count": 63,
   "metadata": {},
   "outputs": [
    {
     "data": {
      "text/html": [
       "<div>\n",
       "<style scoped>\n",
       "    .dataframe tbody tr th:only-of-type {\n",
       "        vertical-align: middle;\n",
       "    }\n",
       "\n",
       "    .dataframe tbody tr th {\n",
       "        vertical-align: top;\n",
       "    }\n",
       "\n",
       "    .dataframe thead th {\n",
       "        text-align: right;\n",
       "    }\n",
       "</style>\n",
       "<table border=\"1\" class=\"dataframe\">\n",
       "  <thead>\n",
       "    <tr style=\"text-align: right;\">\n",
       "      <th></th>\n",
       "      <th>sumCases</th>\n",
       "    </tr>\n",
       "    <tr>\n",
       "      <th>reportingDate</th>\n",
       "      <th></th>\n",
       "    </tr>\n",
       "  </thead>\n",
       "  <tbody>\n",
       "    <tr>\n",
       "      <td>2015-01-09</td>\n",
       "      <td>34.0</td>\n",
       "    </tr>\n",
       "    <tr>\n",
       "      <td>2015-01-09</td>\n",
       "      <td>3329.0</td>\n",
       "    </tr>\n",
       "    <tr>\n",
       "      <td>2015-01-09</td>\n",
       "      <td>26.0</td>\n",
       "    </tr>\n",
       "    <tr>\n",
       "      <td>2015-01-09</td>\n",
       "      <td>3644.0</td>\n",
       "    </tr>\n",
       "    <tr>\n",
       "      <td>2015-01-09</td>\n",
       "      <td>3.0</td>\n",
       "    </tr>\n",
       "  </tbody>\n",
       "</table>\n",
       "</div>"
      ],
      "text/plain": [
       "               sumCases\n",
       "reportingDate          \n",
       "2015-01-09         34.0\n",
       "2015-01-09       3329.0\n",
       "2015-01-09         26.0\n",
       "2015-01-09       3644.0\n",
       "2015-01-09          3.0"
      ]
     },
     "execution_count": 63,
     "metadata": {},
     "output_type": "execute_result"
    }
   ],
   "source": [
    "ts_1.head()"
   ]
  },
  {
   "cell_type": "code",
   "execution_count": 64,
   "metadata": {},
   "outputs": [],
   "source": [
    "train = ts_1[:821]\n",
    "test = ts_1[821:]"
   ]
  },
  {
   "cell_type": "code",
   "execution_count": 65,
   "metadata": {},
   "outputs": [
    {
     "data": {
      "text/html": [
       "<table class=\"simpletable\">\n",
       "<caption>Statespace Model Results</caption>\n",
       "<tr>\n",
       "  <th>Dep. Variable:</th>              <td>sumCases</td>            <th>  No. Observations:  </th>    <td>833</td>   \n",
       "</tr>\n",
       "<tr>\n",
       "  <th>Model:</th>           <td>SARIMAX(1, 1, 1)x(1, 1, 1, 12)</td> <th>  Log Likelihood     </th> <td>-7973.797</td>\n",
       "</tr>\n",
       "<tr>\n",
       "  <th>Date:</th>                   <td>Mon, 13 Jul 2020</td>        <th>  AIC                </th> <td>15957.595</td>\n",
       "</tr>\n",
       "<tr>\n",
       "  <th>Time:</th>                       <td>12:46:09</td>            <th>  BIC                </th> <td>15981.141</td>\n",
       "</tr>\n",
       "<tr>\n",
       "  <th>Sample:</th>                         <td>0</td>               <th>  HQIC               </th> <td>15966.630</td>\n",
       "</tr>\n",
       "<tr>\n",
       "  <th></th>                             <td> - 833</td>             <th>                     </th>     <td> </td>    \n",
       "</tr>\n",
       "<tr>\n",
       "  <th>Covariance Type:</th>               <td>opg</td>              <th>                     </th>     <td> </td>    \n",
       "</tr>\n",
       "</table>\n",
       "<table class=\"simpletable\">\n",
       "<tr>\n",
       "      <td></td>        <th>coef</th>     <th>std err</th>      <th>z</th>      <th>P>|z|</th>  <th>[0.025</th>    <th>0.975]</th>  \n",
       "</tr>\n",
       "<tr>\n",
       "  <th>ar.L1</th>    <td>    0.0045</td> <td>    0.097</td> <td>    0.046</td> <td> 0.963</td> <td>   -0.186</td> <td>    0.195</td>\n",
       "</tr>\n",
       "<tr>\n",
       "  <th>ma.L1</th>    <td>   -0.9999</td> <td>    0.058</td> <td>  -17.230</td> <td> 0.000</td> <td>   -1.114</td> <td>   -0.886</td>\n",
       "</tr>\n",
       "<tr>\n",
       "  <th>ar.S.L12</th> <td>   -0.0086</td> <td>    0.063</td> <td>   -0.135</td> <td> 0.892</td> <td>   -0.133</td> <td>    0.116</td>\n",
       "</tr>\n",
       "<tr>\n",
       "  <th>ma.S.L12</th> <td>   -0.9898</td> <td>    0.070</td> <td>  -14.191</td> <td> 0.000</td> <td>   -1.126</td> <td>   -0.853</td>\n",
       "</tr>\n",
       "<tr>\n",
       "  <th>sigma2</th>   <td> 1.546e+07</td> <td> 3.58e-09</td> <td> 4.32e+15</td> <td> 0.000</td> <td> 1.55e+07</td> <td> 1.55e+07</td>\n",
       "</tr>\n",
       "</table>\n",
       "<table class=\"simpletable\">\n",
       "<tr>\n",
       "  <th>Ljung-Box (Q):</th>          <td>5.46</td> <th>  Jarque-Bera (JB):  </th> <td>2750811.25</td>\n",
       "</tr>\n",
       "<tr>\n",
       "  <th>Prob(Q):</th>                <td>1.00</td> <th>  Prob(JB):          </th>    <td>0.00</td>   \n",
       "</tr>\n",
       "<tr>\n",
       "  <th>Heteroskedasticity (H):</th> <td>2.41</td> <th>  Skew:              </th>    <td>14.94</td>  \n",
       "</tr>\n",
       "<tr>\n",
       "  <th>Prob(H) (two-sided):</th>    <td>0.00</td> <th>  Kurtosis:          </th>   <td>285.17</td>  \n",
       "</tr>\n",
       "</table><br/><br/>Warnings:<br/>[1] Covariance matrix calculated using the outer product of gradients (complex-step).<br/>[2] Covariance matrix is singular or near-singular, with condition number 1.57e+31. Standard errors may be unstable."
      ],
      "text/plain": [
       "<class 'statsmodels.iolib.summary.Summary'>\n",
       "\"\"\"\n",
       "                                 Statespace Model Results                                 \n",
       "==========================================================================================\n",
       "Dep. Variable:                           sumCases   No. Observations:                  833\n",
       "Model:             SARIMAX(1, 1, 1)x(1, 1, 1, 12)   Log Likelihood               -7973.797\n",
       "Date:                            Mon, 13 Jul 2020   AIC                          15957.595\n",
       "Time:                                    12:46:09   BIC                          15981.141\n",
       "Sample:                                         0   HQIC                         15966.630\n",
       "                                            - 833                                         \n",
       "Covariance Type:                              opg                                         \n",
       "==============================================================================\n",
       "                 coef    std err          z      P>|z|      [0.025      0.975]\n",
       "------------------------------------------------------------------------------\n",
       "ar.L1          0.0045      0.097      0.046      0.963      -0.186       0.195\n",
       "ma.L1         -0.9999      0.058    -17.230      0.000      -1.114      -0.886\n",
       "ar.S.L12      -0.0086      0.063     -0.135      0.892      -0.133       0.116\n",
       "ma.S.L12      -0.9898      0.070    -14.191      0.000      -1.126      -0.853\n",
       "sigma2      1.546e+07   3.58e-09   4.32e+15      0.000    1.55e+07    1.55e+07\n",
       "===================================================================================\n",
       "Ljung-Box (Q):                        5.46   Jarque-Bera (JB):           2750811.25\n",
       "Prob(Q):                              1.00   Prob(JB):                         0.00\n",
       "Heteroskedasticity (H):               2.41   Skew:                            14.94\n",
       "Prob(H) (two-sided):                  0.00   Kurtosis:                       285.17\n",
       "===================================================================================\n",
       "\n",
       "Warnings:\n",
       "[1] Covariance matrix calculated using the outer product of gradients (complex-step).\n",
       "[2] Covariance matrix is singular or near-singular, with condition number 1.57e+31. Standard errors may be unstable.\n",
       "\"\"\""
      ]
     },
     "execution_count": 65,
     "metadata": {},
     "output_type": "execute_result"
    }
   ],
   "source": [
    "#Both ma lags and sigma are worth keeping, p - values are lower than 0.05\n",
    "#1 autoregressive term, 1 differencing term, 1 moving average term\n",
    "#The 12 at the end os seasonal_order is to use monthly data for predictions\n",
    "from statsmodels.tsa.statespace.sarimax import SARIMAX\n",
    "model = SARIMAX(ts_1, order=(1,1,1), seasonal_order=(1,1,1,12), enforce_invertibility=True)\n",
    "results = model.fit()\n",
    "results.summary()"
   ]
  },
  {
   "cell_type": "code",
   "execution_count": 66,
   "metadata": {},
   "outputs": [],
   "source": [
    "start = len(train)\n",
    "end = len(train) + len(test) - 1\n",
    "preds = results.predict(start=start, end=end, typ='levels')"
   ]
  },
  {
   "cell_type": "code",
   "execution_count": 67,
   "metadata": {},
   "outputs": [
    {
     "data": {
      "text/plain": [
       "<matplotlib.legend.Legend at 0x1bdb04e8148>"
      ]
     },
     "execution_count": 67,
     "metadata": {},
     "output_type": "execute_result"
    },
    {
     "data": {
      "image/png": "[encoded data removed]",
      "text/plain": [
       "<Figure size 1080x432 with 1 Axes>"
      ]
     },
     "metadata": {
      "needs_background": "light"
     },
     "output_type": "display_data"
    }
   ],
   "source": [
    "#I think there are to many outside variable and lack of the right kind of data to accurately predict outbreaks\n",
    "rcParams['figure.figsize'] = 15, 6\n",
    "ax = ts_1['2016-05-01':].plot(label='Actual')\n",
    "preds.plot(label='Forcast')\n",
    "plt.legend()"
   ]
  },
  {
   "cell_type": "code",
   "execution_count": 68,
   "metadata": {},
   "outputs": [],
   "source": [
    "#This model did not perform well on this dataset\n",
    "#There are too many variables to consider when trying to predict an disease outbreak\n",
    "import sklearn\n",
    "from sklearn.metrics import mean_absolute_error"
   ]
  },
  {
   "cell_type": "code",
   "execution_count": 69,
   "metadata": {},
   "outputs": [
    {
     "data": {
      "text/plain": [
       "697.4016759510517"
      ]
     },
     "execution_count": 69,
     "metadata": {},
     "output_type": "execute_result"
    }
   ],
   "source": [
    "mean_absolute_error(test, preds)"
   ]
  },
  {
   "cell_type": "code",
   "execution_count": 70,
   "metadata": {},
   "outputs": [
    {
     "data": {
      "text/html": [
       "<div>\n",
       "<style scoped>\n",
       "    .dataframe tbody tr th:only-of-type {\n",
       "        vertical-align: middle;\n",
       "    }\n",
       "\n",
       "    .dataframe tbody tr th {\n",
       "        vertical-align: top;\n",
       "    }\n",
       "\n",
       "    .dataframe thead th {\n",
       "        text-align: right;\n",
       "    }\n",
       "</style>\n",
       "<table border=\"1\" class=\"dataframe\">\n",
       "  <thead>\n",
       "    <tr style=\"text-align: right;\">\n",
       "      <th></th>\n",
       "      <th>sumCases</th>\n",
       "    </tr>\n",
       "  </thead>\n",
       "  <tbody>\n",
       "    <tr>\n",
       "      <td>count</td>\n",
       "      <td>12.000000</td>\n",
       "    </tr>\n",
       "    <tr>\n",
       "      <td>mean</td>\n",
       "      <td>121.000000</td>\n",
       "    </tr>\n",
       "    <tr>\n",
       "      <td>std</td>\n",
       "      <td>275.234115</td>\n",
       "    </tr>\n",
       "    <tr>\n",
       "      <td>min</td>\n",
       "      <td>2.000000</td>\n",
       "    </tr>\n",
       "    <tr>\n",
       "      <td>25%</td>\n",
       "      <td>8.250000</td>\n",
       "    </tr>\n",
       "    <tr>\n",
       "      <td>50%</td>\n",
       "      <td>31.500000</td>\n",
       "    </tr>\n",
       "    <tr>\n",
       "      <td>75%</td>\n",
       "      <td>53.000000</td>\n",
       "    </tr>\n",
       "    <tr>\n",
       "      <td>max</td>\n",
       "      <td>975.000000</td>\n",
       "    </tr>\n",
       "  </tbody>\n",
       "</table>\n",
       "</div>"
      ],
      "text/plain": [
       "         sumCases\n",
       "count   12.000000\n",
       "mean   121.000000\n",
       "std    275.234115\n",
       "min      2.000000\n",
       "25%      8.250000\n",
       "50%     31.500000\n",
       "75%     53.000000\n",
       "max    975.000000"
      ]
     },
     "execution_count": 70,
     "metadata": {},
     "output_type": "execute_result"
    }
   ],
   "source": [
    "test.describe()"
   ]
  },
  {
   "cell_type": "code",
   "execution_count": 71,
   "metadata": {},
   "outputs": [
    {
     "data": {
      "text/plain": [
       "count      12.000000\n",
       "mean      749.601185\n",
       "std       388.937636\n",
       "min       337.154135\n",
       "25%       473.952395\n",
       "50%       558.427543\n",
       "75%      1004.273505\n",
       "max      1506.458081\n",
       "dtype: float64"
      ]
     },
     "execution_count": 71,
     "metadata": {},
     "output_type": "execute_result"
    }
   ],
   "source": [
    "preds.describe()"
   ]
  },
  {
   "cell_type": "code",
   "execution_count": 72,
   "metadata": {},
   "outputs": [],
   "source": [
    "#Checked new dataframe for sanity check\n",
    "#ts_1"
   ]
  },
  {
   "cell_type": "markdown",
   "metadata": {},
   "source": [
    "# 4. Forcasting with a LSTM"
   ]
  },
  {
   "cell_type": "code",
   "execution_count": 73,
   "metadata": {},
   "outputs": [
    {
     "name": "stderr",
     "output_type": "stream",
     "text": [
      "Using TensorFlow backend.\n"
     ]
    }
   ],
   "source": [
    "from statsmodels.tools.eval_measures import rmse\n",
    "from sklearn.preprocessing import MinMaxScaler\n",
    "from keras.preprocessing.sequence import TimeseriesGenerator\n",
    "from keras.models import Sequential\n",
    "from keras.layers import Dense\n",
    "from keras.layers import LSTM\n",
    "from keras.layers import Dropout"
   ]
  },
  {
   "cell_type": "code",
   "execution_count": 74,
   "metadata": {},
   "outputs": [
    {
     "data": {
      "text/plain": [
       "833"
      ]
     },
     "execution_count": 74,
     "metadata": {},
     "output_type": "execute_result"
    }
   ],
   "source": [
    "len(ts_1)"
   ]
  },
  {
   "cell_type": "code",
   "execution_count": 75,
   "metadata": {},
   "outputs": [],
   "source": [
    "train = ts_1.iloc[:821]\n",
    "test = ts_1.iloc[821:]"
   ]
  },
  {
   "cell_type": "code",
   "execution_count": 76,
   "metadata": {},
   "outputs": [],
   "source": [
    "#df[x] -df.max() / df.max() - df.min()\n",
    "scaler = MinMaxScaler()\n",
    "scaler.fit(train)\n",
    "train = scaler.transform(train)\n",
    "test = scaler.transform(test)"
   ]
  },
  {
   "cell_type": "code",
   "execution_count": 77,
   "metadata": {},
   "outputs": [
    {
     "name": "stdout",
     "output_type": "stream",
     "text": [
      "Epoch 1/25\n",
      "137/137 [==============================] - 1s 7ms/step - loss: 0.0816\n",
      "Epoch 2/25\n",
      "137/137 [==============================] - 1s 5ms/step - loss: 0.0621\n",
      "Epoch 3/25\n",
      "137/137 [==============================] - 1s 5ms/step - loss: 0.0460\n",
      "Epoch 4/25\n",
      "137/137 [==============================] - 1s 5ms/step - loss: 0.0403\n",
      "Epoch 5/25\n",
      "137/137 [==============================] - 1s 5ms/step - loss: 0.0304A: 0s - los\n",
      "Epoch 6/25\n",
      "137/137 [==============================] - 1s 5ms/step - loss: 0.0252\n",
      "Epoch 7/25\n",
      "137/137 [==============================] - 1s 5ms/step - loss: 0.0196\n",
      "Epoch 8/25\n",
      "137/137 [==============================] - 1s 5ms/step - loss: 0.0157\n",
      "Epoch 9/25\n",
      "137/137 [==============================] - 1s 5ms/step - loss: 0.0143\n",
      "Epoch 10/25\n",
      "137/137 [==============================] - 1s 5ms/step - loss: 0.0111\n",
      "Epoch 11/25\n",
      "137/137 [==============================] - 1s 5ms/step - loss: 0.0098\n",
      "Epoch 12/25\n",
      "137/137 [==============================] - 1s 5ms/step - loss: 0.0084\n",
      "Epoch 13/25\n",
      "137/137 [==============================] - 1s 5ms/step - loss: 0.0074\n",
      "Epoch 14/25\n",
      "137/137 [==============================] - 1s 5ms/step - loss: 0.0063\n",
      "Epoch 15/25\n",
      "137/137 [==============================] - 1s 5ms/step - loss: 0.0051\n",
      "Epoch 16/25\n",
      "137/137 [==============================] - 1s 5ms/step - loss: 0.0047\n",
      "Epoch 17/25\n",
      "137/137 [==============================] - 1s 5ms/step - loss: 0.0043\n",
      "Epoch 18/25\n",
      "137/137 [==============================] - 1s 5ms/step - loss: 0.0041\n",
      "Epoch 19/25\n",
      "137/137 [==============================] - 1s 5ms/step - loss: 0.0036\n",
      "Epoch 20/25\n",
      "137/137 [==============================] - 1s 5ms/step - loss: 0.0032\n",
      "Epoch 21/25\n",
      "137/137 [==============================] - 1s 5ms/step - loss: 0.0030\n",
      "Epoch 22/25\n",
      "137/137 [==============================] - 1s 5ms/step - loss: 0.0029\n",
      "Epoch 23/25\n",
      "137/137 [==============================] - 1s 5ms/step - loss: 0.0027\n",
      "Epoch 24/25\n",
      "137/137 [==============================] - 1s 5ms/step - loss: 0.0027\n",
      "Epoch 25/25\n",
      "137/137 [==============================] - 1s 5ms/step - loss: 0.0026\n"
     ]
    },
    {
     "data": {
      "text/plain": [
       "<keras.callbacks.callbacks.History at 0x1bdb22c6488>"
      ]
     },
     "execution_count": 77,
     "metadata": {},
     "output_type": "execute_result"
    }
   ],
   "source": [
    "n_input = 4\n",
    "n_features = 1\n",
    "\n",
    "generator = TimeseriesGenerator(train, train, length=n_input, batch_size=6)\n",
    "model = Sequential()\n",
    "model.add(LSTM(200, activation='sigmoid', input_shape=(n_input, n_features)))\n",
    "model.add(Dropout(0.30))\n",
    "model.add(Dense(1))\n",
    "model.compile(optimizer='sgd', loss='mse')\n",
    "model.fit_generator(generator, epochs=25)"
   ]
  },
  {
   "cell_type": "code",
   "execution_count": 78,
   "metadata": {},
   "outputs": [],
   "source": [
    "pred_list = []\n",
    "\n",
    "batch = train[-n_input:].reshape((1, n_input, n_features))\n",
    "\n",
    "for i in range(n_input):\n",
    "    pred_list.append(model.predict(batch)[0])\n",
    "    batch = np.append(batch[:, 1:, :], [[pred_list[i]]], axis=1)"
   ]
  },
  {
   "cell_type": "code",
   "execution_count": 79,
   "metadata": {},
   "outputs": [],
   "source": [
    "df_predict = pd.DataFrame(scaler.inverse_transform(pred_list), index=ts_1[-n_input:].index, columns=['Predictions'])"
   ]
  },
  {
   "cell_type": "code",
   "execution_count": 80,
   "metadata": {},
   "outputs": [],
   "source": [
    "df_test = pd.concat([ts_1, df_predict])"
   ]
  },
  {
   "cell_type": "code",
   "execution_count": 81,
   "metadata": {},
   "outputs": [
    {
     "data": {
      "text/html": [
       "<div>\n",
       "<style scoped>\n",
       "    .dataframe tbody tr th:only-of-type {\n",
       "        vertical-align: middle;\n",
       "    }\n",
       "\n",
       "    .dataframe tbody tr th {\n",
       "        vertical-align: top;\n",
       "    }\n",
       "\n",
       "    .dataframe thead th {\n",
       "        text-align: right;\n",
       "    }\n",
       "</style>\n",
       "<table border=\"1\" class=\"dataframe\">\n",
       "  <thead>\n",
       "    <tr style=\"text-align: right;\">\n",
       "      <th></th>\n",
       "      <th>Predictions</th>\n",
       "      <th>sumCases</th>\n",
       "    </tr>\n",
       "    <tr>\n",
       "      <th>reportingDate</th>\n",
       "      <th></th>\n",
       "      <th></th>\n",
       "    </tr>\n",
       "  </thead>\n",
       "  <tbody>\n",
       "    <tr>\n",
       "      <td>2017-11-08</td>\n",
       "      <td>NaN</td>\n",
       "      <td>22.0</td>\n",
       "    </tr>\n",
       "    <tr>\n",
       "      <td>2017-10-07</td>\n",
       "      <td>917.362237</td>\n",
       "      <td>NaN</td>\n",
       "    </tr>\n",
       "    <tr>\n",
       "      <td>2017-11-08</td>\n",
       "      <td>917.393714</td>\n",
       "      <td>NaN</td>\n",
       "    </tr>\n",
       "    <tr>\n",
       "      <td>2017-11-08</td>\n",
       "      <td>917.234488</td>\n",
       "      <td>NaN</td>\n",
       "    </tr>\n",
       "    <tr>\n",
       "      <td>2017-11-08</td>\n",
       "      <td>917.142540</td>\n",
       "      <td>NaN</td>\n",
       "    </tr>\n",
       "  </tbody>\n",
       "</table>\n",
       "</div>"
      ],
      "text/plain": [
       "               Predictions  sumCases\n",
       "reportingDate                       \n",
       "2017-11-08             NaN      22.0\n",
       "2017-10-07      917.362237       NaN\n",
       "2017-11-08      917.393714       NaN\n",
       "2017-11-08      917.234488       NaN\n",
       "2017-11-08      917.142540       NaN"
      ]
     },
     "execution_count": 81,
     "metadata": {},
     "output_type": "execute_result"
    }
   ],
   "source": [
    "df_test.tail()"
   ]
  },
  {
   "cell_type": "code",
   "execution_count": 82,
   "metadata": {},
   "outputs": [
    {
     "name": "stdout",
     "output_type": "stream",
     "text": [
      "Epoch 1/25\n",
      "139/139 [==============================] - 1s 4ms/step - loss: 0.0025\n",
      "Epoch 2/25\n",
      "139/139 [==============================] - 1s 5ms/step - loss: 0.0025\n",
      "Epoch 3/25\n",
      "139/139 [==============================] - 1s 5ms/step - loss: 0.0024\n",
      "Epoch 4/25\n",
      "139/139 [==============================] - 1s 5ms/step - loss: 0.0024\n",
      "Epoch 5/25\n",
      "139/139 [==============================] - 1s 5ms/step - loss: 0.0023\n",
      "Epoch 6/25\n",
      "139/139 [==============================] - 1s 5ms/step - loss: 0.0023\n",
      "Epoch 7/25\n",
      "139/139 [==============================] - 1s 5ms/step - loss: 0.0022\n",
      "Epoch 8/25\n",
      "139/139 [==============================] - 1s 5ms/step - loss: 0.0022\n",
      "Epoch 9/25\n",
      "139/139 [==============================] - 1s 5ms/step - loss: 0.0023\n",
      "Epoch 10/25\n",
      "139/139 [==============================] - 1s 5ms/step - loss: 0.0022\n",
      "Epoch 11/25\n",
      "139/139 [==============================] - 1s 5ms/step - loss: 0.0023- ETA: 1s - loss:\n",
      "Epoch 12/25\n",
      "139/139 [==============================] - 1s 5ms/step - loss: 0.0022\n",
      "Epoch 13/25\n",
      "139/139 [==============================] - 1s 5ms/step - loss: 0.0022\n",
      "Epoch 14/25\n",
      "139/139 [==============================] - 1s 5ms/step - loss: 0.0022\n",
      "Epoch 15/25\n",
      "139/139 [==============================] - 1s 5ms/step - loss: 0.0022\n",
      "Epoch 16/25\n",
      "139/139 [==============================] - 1s 5ms/step - loss: 0.0022\n",
      "Epoch 17/25\n",
      "139/139 [==============================] - 1s 5ms/step - loss: 0.0022\n",
      "Epoch 18/25\n",
      "139/139 [==============================] - 1s 5ms/step - loss: 0.0022\n",
      "Epoch 19/25\n",
      "139/139 [==============================] - 1s 5ms/step - loss: 0.0022\n",
      "Epoch 20/25\n",
      "139/139 [==============================] - 1s 5ms/step - loss: 0.0022\n",
      "Epoch 21/25\n",
      "139/139 [==============================] - 1s 5ms/step - loss: 0.0022\n",
      "Epoch 22/25\n",
      "139/139 [==============================] - 1s 5ms/step - loss: 0.0022\n",
      "Epoch 23/25\n",
      "139/139 [==============================] - 1s 5ms/step - loss: 0.0022\n",
      "Epoch 24/25\n",
      "139/139 [==============================] - 1s 5ms/step - loss: 0.0022\n",
      "Epoch 25/25\n",
      "139/139 [==============================] - 1s 5ms/step - loss: 0.0022\n"
     ]
    }
   ],
   "source": [
    "train = ts_1\n",
    "scaler.fit(train)\n",
    "train = scaler.transform(train)\n",
    "n_input = 4\n",
    "n_features = 1\n",
    "\n",
    "generator = TimeseriesGenerator(train, train, length=n_input, batch_size=6)\n",
    "history = model.fit_generator(generator, epochs=25)\n",
    "\n",
    "pred_list = []\n",
    "\n",
    "batch = train[-n_input:].reshape((1, n_input, n_features))\n",
    "\n",
    "for i in range(n_input):\n",
    "    pred_list.append(model.predict(batch)[0])\n",
    "    batch = np.append(batch[:, 1:, :], [[pred_list[i]]], axis=1)"
   ]
  },
  {
   "cell_type": "code",
   "execution_count": 83,
   "metadata": {},
   "outputs": [
    {
     "data": {
      "image/png": "[encoded data removed]",
      "text/plain": [
       "<Figure size 1080x432 with 1 Axes>"
      ]
     },
     "metadata": {
      "needs_background": "light"
     },
     "output_type": "display_data"
    }
   ],
   "source": [
    "loss = history.history['loss']\n",
    "plt.plot(loss, label='Training loss')\n",
    "plt.legend()\n",
    "plt.show()"
   ]
  },
  {
   "cell_type": "code",
   "execution_count": 84,
   "metadata": {},
   "outputs": [],
   "source": [
    "from pandas.tseries.offsets import DateOffset\n",
    "add_date = [ts_1.index[-1] + DateOffset(months=x) for x in range(0,5)]\n",
    "future_dates = pd.DataFrame(index=add_date[1:], columns=ts_1.columns)"
   ]
  },
  {
   "cell_type": "code",
   "execution_count": 85,
   "metadata": {},
   "outputs": [
    {
     "data": {
      "text/html": [
       "<div>\n",
       "<style scoped>\n",
       "    .dataframe tbody tr th:only-of-type {\n",
       "        vertical-align: middle;\n",
       "    }\n",
       "\n",
       "    .dataframe tbody tr th {\n",
       "        vertical-align: top;\n",
       "    }\n",
       "\n",
       "    .dataframe thead th {\n",
       "        text-align: right;\n",
       "    }\n",
       "</style>\n",
       "<table border=\"1\" class=\"dataframe\">\n",
       "  <thead>\n",
       "    <tr style=\"text-align: right;\">\n",
       "      <th></th>\n",
       "      <th>sumCases</th>\n",
       "    </tr>\n",
       "  </thead>\n",
       "  <tbody>\n",
       "    <tr>\n",
       "      <td>2017-12-08</td>\n",
       "      <td>NaN</td>\n",
       "    </tr>\n",
       "    <tr>\n",
       "      <td>2018-01-08</td>\n",
       "      <td>NaN</td>\n",
       "    </tr>\n",
       "    <tr>\n",
       "      <td>2018-02-08</td>\n",
       "      <td>NaN</td>\n",
       "    </tr>\n",
       "    <tr>\n",
       "      <td>2018-03-08</td>\n",
       "      <td>NaN</td>\n",
       "    </tr>\n",
       "  </tbody>\n",
       "</table>\n",
       "</div>"
      ],
      "text/plain": [
       "           sumCases\n",
       "2017-12-08      NaN\n",
       "2018-01-08      NaN\n",
       "2018-02-08      NaN\n",
       "2018-03-08      NaN"
      ]
     },
     "execution_count": 85,
     "metadata": {},
     "output_type": "execute_result"
    }
   ],
   "source": [
    "future_dates.tail()"
   ]
  },
  {
   "cell_type": "code",
   "execution_count": 86,
   "metadata": {},
   "outputs": [],
   "source": [
    "df_predict = pd.DataFrame(scaler.inverse_transform(pred_list), index=future_dates[-n_input:].index, columns=['Predictions'])"
   ]
  },
  {
   "cell_type": "code",
   "execution_count": 87,
   "metadata": {},
   "outputs": [],
   "source": [
    "df_proj = pd.concat([ts_1, df_predict])"
   ]
  },
  {
   "cell_type": "code",
   "execution_count": 88,
   "metadata": {},
   "outputs": [
    {
     "data": {
      "text/html": [
       "<div>\n",
       "<style scoped>\n",
       "    .dataframe tbody tr th:only-of-type {\n",
       "        vertical-align: middle;\n",
       "    }\n",
       "\n",
       "    .dataframe tbody tr th {\n",
       "        vertical-align: top;\n",
       "    }\n",
       "\n",
       "    .dataframe thead th {\n",
       "        text-align: right;\n",
       "    }\n",
       "</style>\n",
       "<table border=\"1\" class=\"dataframe\">\n",
       "  <thead>\n",
       "    <tr style=\"text-align: right;\">\n",
       "      <th></th>\n",
       "      <th>Predictions</th>\n",
       "      <th>sumCases</th>\n",
       "    </tr>\n",
       "  </thead>\n",
       "  <tbody>\n",
       "    <tr>\n",
       "      <td>2017-11-08</td>\n",
       "      <td>NaN</td>\n",
       "      <td>22.0</td>\n",
       "    </tr>\n",
       "    <tr>\n",
       "      <td>2017-12-08</td>\n",
       "      <td>132.420524</td>\n",
       "      <td>NaN</td>\n",
       "    </tr>\n",
       "    <tr>\n",
       "      <td>2018-01-08</td>\n",
       "      <td>132.455566</td>\n",
       "      <td>NaN</td>\n",
       "    </tr>\n",
       "    <tr>\n",
       "      <td>2018-02-08</td>\n",
       "      <td>132.449238</td>\n",
       "      <td>NaN</td>\n",
       "    </tr>\n",
       "    <tr>\n",
       "      <td>2018-03-08</td>\n",
       "      <td>132.449939</td>\n",
       "      <td>NaN</td>\n",
       "    </tr>\n",
       "  </tbody>\n",
       "</table>\n",
       "</div>"
      ],
      "text/plain": [
       "            Predictions  sumCases\n",
       "2017-11-08          NaN      22.0\n",
       "2017-12-08   132.420524       NaN\n",
       "2018-01-08   132.455566       NaN\n",
       "2018-02-08   132.449238       NaN\n",
       "2018-03-08   132.449939       NaN"
      ]
     },
     "execution_count": 88,
     "metadata": {},
     "output_type": "execute_result"
    }
   ],
   "source": [
    "df_proj.tail()"
   ]
  },
  {
   "cell_type": "code",
   "execution_count": 89,
   "metadata": {},
   "outputs": [
    {
     "name": "stderr",
     "output_type": "stream",
     "text": [
      "No handles with labels found to put in legend.\n"
     ]
    },
    {
     "data": {
      "text/plain": [
       "(array([-20000.,      0.,  20000.,  40000.,  60000.,  80000., 100000.]),\n",
       " <a list of 7 Text yticklabel objects>)"
      ]
     },
     "execution_count": 89,
     "metadata": {},
     "output_type": "execute_result"
    },
    {
     "data": {
      "image/png": "[encoded data removed]",
      "text/plain": [
       "<Figure size 1440x360 with 1 Axes>"
      ]
     },
     "metadata": {
      "needs_background": "light"
     },
     "output_type": "display_data"
    }
   ],
   "source": [
    "plt.figure(figsize=(20, 5))\n",
    "plt.plot(df_proj.index, df_proj['sumCases'])\n",
    "plt.plot(df_proj.index, df_proj['Predictions'], color='b')\n",
    "plt.legend(loc='best', fontsize='large')\n",
    "plt.xticks(fontsize=12)\n",
    "plt.yticks(fontsize=12)"
   ]
  },
  {
   "cell_type": "markdown",
   "metadata": {},
   "source": [
    "# To compare these results I think just by looking at the df_proj dataframe and the plot we can tell it is way off."
   ]
  },
  {
   "cell_type": "markdown",
   "metadata": {},
   "source": [
    "# 5. More EDA on cites dataset"
   ]
  },
  {
   "cell_type": "markdown",
   "metadata": {},
   "source": [
    "# Comparisons of wildlife exports and disease outbreaks"
   ]
  },
  {
   "cell_type": "code",
   "execution_count": 90,
   "metadata": {},
   "outputs": [
    {
     "data": {
      "text/html": [
       "<div>\n",
       "<style scoped>\n",
       "    .dataframe tbody tr th:only-of-type {\n",
       "        vertical-align: middle;\n",
       "    }\n",
       "\n",
       "    .dataframe tbody tr th {\n",
       "        vertical-align: top;\n",
       "    }\n",
       "\n",
       "    .dataframe thead th {\n",
       "        text-align: right;\n",
       "    }\n",
       "</style>\n",
       "<table border=\"1\" class=\"dataframe\">\n",
       "  <thead>\n",
       "    <tr style=\"text-align: right;\">\n",
       "      <th></th>\n",
       "      <th>Year</th>\n",
       "      <th>App.</th>\n",
       "      <th>Taxon</th>\n",
       "      <th>Class</th>\n",
       "      <th>Order</th>\n",
       "      <th>Family</th>\n",
       "      <th>Genus</th>\n",
       "      <th>Importer</th>\n",
       "      <th>Exporter</th>\n",
       "      <th>Origin</th>\n",
       "      <th>Importer reported quantity</th>\n",
       "      <th>Exporter reported quantity</th>\n",
       "      <th>Term</th>\n",
       "      <th>Unit</th>\n",
       "      <th>Purpose</th>\n",
       "      <th>Source</th>\n",
       "    </tr>\n",
       "  </thead>\n",
       "  <tbody>\n",
       "    <tr>\n",
       "      <td>0</td>\n",
       "      <td>2016</td>\n",
       "      <td>I</td>\n",
       "      <td>Aquila heliaca</td>\n",
       "      <td>Aves</td>\n",
       "      <td>Falconiformes</td>\n",
       "      <td>Accipitridae</td>\n",
       "      <td>Aquila</td>\n",
       "      <td>TR</td>\n",
       "      <td>NL</td>\n",
       "      <td>CZ</td>\n",
       "      <td>NaN</td>\n",
       "      <td>1.0</td>\n",
       "      <td>bodies</td>\n",
       "      <td>NaN</td>\n",
       "      <td>T</td>\n",
       "      <td>C</td>\n",
       "    </tr>\n",
       "    <tr>\n",
       "      <td>1</td>\n",
       "      <td>2016</td>\n",
       "      <td>I</td>\n",
       "      <td>Aquila heliaca</td>\n",
       "      <td>Aves</td>\n",
       "      <td>Falconiformes</td>\n",
       "      <td>Accipitridae</td>\n",
       "      <td>Aquila</td>\n",
       "      <td>XV</td>\n",
       "      <td>RS</td>\n",
       "      <td>RS</td>\n",
       "      <td>NaN</td>\n",
       "      <td>1.0</td>\n",
       "      <td>bodies</td>\n",
       "      <td>NaN</td>\n",
       "      <td>Q</td>\n",
       "      <td>O</td>\n",
       "    </tr>\n",
       "    <tr>\n",
       "      <td>2</td>\n",
       "      <td>2016</td>\n",
       "      <td>I</td>\n",
       "      <td>Haliaeetus albicilla</td>\n",
       "      <td>Aves</td>\n",
       "      <td>Falconiformes</td>\n",
       "      <td>Accipitridae</td>\n",
       "      <td>Haliaeetus</td>\n",
       "      <td>BE</td>\n",
       "      <td>NO</td>\n",
       "      <td>NaN</td>\n",
       "      <td>NaN</td>\n",
       "      <td>43.0</td>\n",
       "      <td>feathers</td>\n",
       "      <td>NaN</td>\n",
       "      <td>S</td>\n",
       "      <td>W</td>\n",
       "    </tr>\n",
       "    <tr>\n",
       "      <td>3</td>\n",
       "      <td>2016</td>\n",
       "      <td>I</td>\n",
       "      <td>Haliaeetus albicilla</td>\n",
       "      <td>Aves</td>\n",
       "      <td>Falconiformes</td>\n",
       "      <td>Accipitridae</td>\n",
       "      <td>Haliaeetus</td>\n",
       "      <td>BE</td>\n",
       "      <td>NO</td>\n",
       "      <td>NaN</td>\n",
       "      <td>NaN</td>\n",
       "      <td>43.0</td>\n",
       "      <td>specimens</td>\n",
       "      <td>NaN</td>\n",
       "      <td>S</td>\n",
       "      <td>W</td>\n",
       "    </tr>\n",
       "    <tr>\n",
       "      <td>4</td>\n",
       "      <td>2016</td>\n",
       "      <td>I</td>\n",
       "      <td>Haliaeetus albicilla</td>\n",
       "      <td>Aves</td>\n",
       "      <td>Falconiformes</td>\n",
       "      <td>Accipitridae</td>\n",
       "      <td>Haliaeetus</td>\n",
       "      <td>DK</td>\n",
       "      <td>IS</td>\n",
       "      <td>NaN</td>\n",
       "      <td>700.0</td>\n",
       "      <td>NaN</td>\n",
       "      <td>specimens</td>\n",
       "      <td>NaN</td>\n",
       "      <td>S</td>\n",
       "      <td>W</td>\n",
       "    </tr>\n",
       "  </tbody>\n",
       "</table>\n",
       "</div>"
      ],
      "text/plain": [
       "   Year App.                 Taxon Class          Order        Family  \\\n",
       "0  2016    I        Aquila heliaca  Aves  Falconiformes  Accipitridae   \n",
       "1  2016    I        Aquila heliaca  Aves  Falconiformes  Accipitridae   \n",
       "2  2016    I  Haliaeetus albicilla  Aves  Falconiformes  Accipitridae   \n",
       "3  2016    I  Haliaeetus albicilla  Aves  Falconiformes  Accipitridae   \n",
       "4  2016    I  Haliaeetus albicilla  Aves  Falconiformes  Accipitridae   \n",
       "\n",
       "        Genus Importer Exporter Origin  Importer reported quantity  \\\n",
       "0      Aquila       TR       NL     CZ                         NaN   \n",
       "1      Aquila       XV       RS     RS                         NaN   \n",
       "2  Haliaeetus       BE       NO    NaN                         NaN   \n",
       "3  Haliaeetus       BE       NO    NaN                         NaN   \n",
       "4  Haliaeetus       DK       IS    NaN                       700.0   \n",
       "\n",
       "   Exporter reported quantity       Term Unit Purpose Source  \n",
       "0                         1.0     bodies  NaN       T      C  \n",
       "1                         1.0     bodies  NaN       Q      O  \n",
       "2                        43.0   feathers  NaN       S      W  \n",
       "3                        43.0  specimens  NaN       S      W  \n",
       "4                         NaN  specimens  NaN       S      W  "
      ]
     },
     "execution_count": 90,
     "metadata": {},
     "output_type": "execute_result"
    }
   ],
   "source": [
    "cites = pd.read_csv('comptab_2018-01-29 16_00_comma_separated.csv')\n",
    "cites.head()"
   ]
  },
  {
   "cell_type": "code",
   "execution_count": 91,
   "metadata": {},
   "outputs": [
    {
     "data": {
      "text/plain": [
       "2016    67007\n",
       "2017      154\n",
       "Name: Year, dtype: int64"
      ]
     },
     "execution_count": 91,
     "metadata": {},
     "output_type": "execute_result"
    }
   ],
   "source": [
    "#Focusing on 2016 when there were spikes of cases\n",
    "cites['Year'].value_counts()"
   ]
  },
  {
   "cell_type": "code",
   "execution_count": 92,
   "metadata": {},
   "outputs": [],
   "source": [
    "cites2 = cites[cites['Year'] == 2016]"
   ]
  },
  {
   "cell_type": "code",
   "execution_count": 93,
   "metadata": {},
   "outputs": [
    {
     "data": {
      "text/plain": [
       "ID    2968\n",
       "XX    2426\n",
       "US    2400\n",
       "VN    1703\n",
       "ZW    1212\n",
       "      ... \n",
       "CK       1\n",
       "LY       1\n",
       "CX       1\n",
       "MT       1\n",
       "IQ       1\n",
       "Name: Origin, Length: 179, dtype: int64"
      ]
     },
     "execution_count": 93,
     "metadata": {},
     "output_type": "execute_result"
    }
   ],
   "source": [
    "#ID -Indonesia\n",
    "#XX - Unknown\n",
    "#US - United States of America\n",
    "#VN - Vietnam\n",
    "#ZW - Zimbabwe\n",
    "cites2['Origin'].value_counts()"
   ]
  },
  {
   "cell_type": "code",
   "execution_count": 94,
   "metadata": {},
   "outputs": [],
   "source": [
    "#Filtering dataset to extract the top 5 origin countries for the species traded\n",
    "countries_of_interest = cites2[(cites2['Origin'] == 'ID') | (cites2['Origin'] == 'XX') | (cites2['Origin'] == 'US') |\n",
    "                                (cites2['Origin'] == 'VN') | (cites2['Origin'] == 'ZW')]\n"
   ]
  },
  {
   "cell_type": "code",
   "execution_count": 95,
   "metadata": {},
   "outputs": [
    {
     "data": {
      "text/html": [
       "<div>\n",
       "<style scoped>\n",
       "    .dataframe tbody tr th:only-of-type {\n",
       "        vertical-align: middle;\n",
       "    }\n",
       "\n",
       "    .dataframe tbody tr th {\n",
       "        vertical-align: top;\n",
       "    }\n",
       "\n",
       "    .dataframe thead th {\n",
       "        text-align: right;\n",
       "    }\n",
       "</style>\n",
       "<table border=\"1\" class=\"dataframe\">\n",
       "  <thead>\n",
       "    <tr style=\"text-align: right;\">\n",
       "      <th></th>\n",
       "      <th>Year</th>\n",
       "      <th>App.</th>\n",
       "      <th>Taxon</th>\n",
       "      <th>Class</th>\n",
       "      <th>Order</th>\n",
       "      <th>Family</th>\n",
       "      <th>Genus</th>\n",
       "      <th>Importer</th>\n",
       "      <th>Exporter</th>\n",
       "      <th>Origin</th>\n",
       "      <th>Importer reported quantity</th>\n",
       "      <th>Exporter reported quantity</th>\n",
       "      <th>Term</th>\n",
       "      <th>Unit</th>\n",
       "      <th>Purpose</th>\n",
       "      <th>Source</th>\n",
       "    </tr>\n",
       "  </thead>\n",
       "  <tbody>\n",
       "    <tr>\n",
       "      <td>22</td>\n",
       "      <td>2016</td>\n",
       "      <td>I</td>\n",
       "      <td>Anas laysanensis</td>\n",
       "      <td>Aves</td>\n",
       "      <td>Anseriformes</td>\n",
       "      <td>Anatidae</td>\n",
       "      <td>Anas</td>\n",
       "      <td>CA</td>\n",
       "      <td>US</td>\n",
       "      <td>XX</td>\n",
       "      <td>NaN</td>\n",
       "      <td>3.0</td>\n",
       "      <td>feathers</td>\n",
       "      <td>NaN</td>\n",
       "      <td>S</td>\n",
       "      <td>I</td>\n",
       "    </tr>\n",
       "    <tr>\n",
       "      <td>23</td>\n",
       "      <td>2016</td>\n",
       "      <td>I</td>\n",
       "      <td>Anas laysanensis</td>\n",
       "      <td>Aves</td>\n",
       "      <td>Anseriformes</td>\n",
       "      <td>Anatidae</td>\n",
       "      <td>Anas</td>\n",
       "      <td>MC</td>\n",
       "      <td>FR</td>\n",
       "      <td>XX</td>\n",
       "      <td>2.0</td>\n",
       "      <td>NaN</td>\n",
       "      <td>live</td>\n",
       "      <td>NaN</td>\n",
       "      <td>Z</td>\n",
       "      <td>I</td>\n",
       "    </tr>\n",
       "    <tr>\n",
       "      <td>27</td>\n",
       "      <td>2016</td>\n",
       "      <td>I</td>\n",
       "      <td>Branta sandvicensis</td>\n",
       "      <td>Aves</td>\n",
       "      <td>Anseriformes</td>\n",
       "      <td>Anatidae</td>\n",
       "      <td>Branta</td>\n",
       "      <td>MC</td>\n",
       "      <td>FR</td>\n",
       "      <td>XX</td>\n",
       "      <td>2.0</td>\n",
       "      <td>NaN</td>\n",
       "      <td>live</td>\n",
       "      <td>NaN</td>\n",
       "      <td>Z</td>\n",
       "      <td>I</td>\n",
       "    </tr>\n",
       "    <tr>\n",
       "      <td>31</td>\n",
       "      <td>2016</td>\n",
       "      <td>I</td>\n",
       "      <td>Antilocapra americana</td>\n",
       "      <td>Mammalia</td>\n",
       "      <td>Artiodactyla</td>\n",
       "      <td>Antilocapridae</td>\n",
       "      <td>Antilocapra</td>\n",
       "      <td>BE</td>\n",
       "      <td>CH</td>\n",
       "      <td>XX</td>\n",
       "      <td>1.0</td>\n",
       "      <td>NaN</td>\n",
       "      <td>skins</td>\n",
       "      <td>NaN</td>\n",
       "      <td>Q</td>\n",
       "      <td>O</td>\n",
       "    </tr>\n",
       "    <tr>\n",
       "      <td>32</td>\n",
       "      <td>2016</td>\n",
       "      <td>I</td>\n",
       "      <td>Antilocapra americana</td>\n",
       "      <td>Mammalia</td>\n",
       "      <td>Artiodactyla</td>\n",
       "      <td>Antilocapridae</td>\n",
       "      <td>Antilocapra</td>\n",
       "      <td>CH</td>\n",
       "      <td>BE</td>\n",
       "      <td>XX</td>\n",
       "      <td>NaN</td>\n",
       "      <td>1.0</td>\n",
       "      <td>skins</td>\n",
       "      <td>NaN</td>\n",
       "      <td>Q</td>\n",
       "      <td>O</td>\n",
       "    </tr>\n",
       "  </tbody>\n",
       "</table>\n",
       "</div>"
      ],
      "text/plain": [
       "    Year App.                  Taxon     Class         Order          Family  \\\n",
       "22  2016    I       Anas laysanensis      Aves  Anseriformes        Anatidae   \n",
       "23  2016    I       Anas laysanensis      Aves  Anseriformes        Anatidae   \n",
       "27  2016    I    Branta sandvicensis      Aves  Anseriformes        Anatidae   \n",
       "31  2016    I  Antilocapra americana  Mammalia  Artiodactyla  Antilocapridae   \n",
       "32  2016    I  Antilocapra americana  Mammalia  Artiodactyla  Antilocapridae   \n",
       "\n",
       "          Genus Importer Exporter Origin  Importer reported quantity  \\\n",
       "22         Anas       CA       US     XX                         NaN   \n",
       "23         Anas       MC       FR     XX                         2.0   \n",
       "27       Branta       MC       FR     XX                         2.0   \n",
       "31  Antilocapra       BE       CH     XX                         1.0   \n",
       "32  Antilocapra       CH       BE     XX                         NaN   \n",
       "\n",
       "    Exporter reported quantity      Term Unit Purpose Source  \n",
       "22                         3.0  feathers  NaN       S      I  \n",
       "23                         NaN      live  NaN       Z      I  \n",
       "27                         NaN      live  NaN       Z      I  \n",
       "31                         NaN     skins  NaN       Q      O  \n",
       "32                         1.0     skins  NaN       Q      O  "
      ]
     },
     "execution_count": 95,
     "metadata": {},
     "output_type": "execute_result"
    }
   ],
   "source": [
    "countries_of_interest.head()"
   ]
  },
  {
   "cell_type": "code",
   "execution_count": 96,
   "metadata": {},
   "outputs": [
    {
     "data": {
      "text/plain": [
       "ID    2968\n",
       "XX    2426\n",
       "US    2400\n",
       "VN    1703\n",
       "ZW    1212\n",
       "Name: Origin, dtype: int64"
      ]
     },
     "execution_count": 96,
     "metadata": {},
     "output_type": "execute_result"
    }
   ],
   "source": [
    "#Indonesia is The top country of origin for species traded\n",
    "countries_of_interest['Origin'].value_counts()"
   ]
  },
  {
   "cell_type": "code",
   "execution_count": 97,
   "metadata": {},
   "outputs": [
    {
     "data": {
      "application/vnd.jupyter.widget-view+json": {
       "model_id": "a4d25f7fda424d45964cac82af8ee55e",
       "version_major": 2,
       "version_minor": 0
      },
      "text/plain": [
       "MapView(layout=Layout(height='400px', width='100%'), mode='3D', zoom=5.0)"
      ]
     },
     "metadata": {},
     "output_type": "display_data"
    },
    {
     "data": {
      "text/html": [
       "<div class=\"map-static-img-preview-f73a9065-4719-48b7-a169-9fef7faa34ca\"><img src=\"\"></img></div>"
      ],
      "text/plain": [
       "<IPython.core.display.HTML object>"
      ]
     },
     "metadata": {},
     "output_type": "display_data"
    }
   ],
   "source": [
    "#I will have to do some more research on Indonesia and the species that live there, their value for being traded, and the \n",
    "#diseases they are known to carry\n",
    "from arcgis.gis import GIS\n",
    "gis = GIS()\n",
    "map2 = gis.map('Indonesia',5, '3D')\n",
    "map2"
   ]
  },
  {
   "cell_type": "code",
   "execution_count": 98,
   "metadata": {},
   "outputs": [
    {
     "data": {
      "text/plain": [
       "Alligator mississippiensis    1768\n",
       "Python reticulatus            1570\n",
       "Crocodylus niloticus          1128\n",
       "Python bivittatus              747\n",
       "Varanus salvator               608\n",
       "Loxodonta africana             347\n",
       "Python brongersmai             322\n",
       "Elephantidae spp.              222\n",
       "Macaca fascicularis            174\n",
       "Crocodylus porosus             159\n",
       "Name: Taxon, dtype: int64"
      ]
     },
     "execution_count": 98,
     "metadata": {},
     "output_type": "execute_result"
    }
   ],
   "source": [
    "# Elephantidae spp. - Asian elephant\n",
    "# Loxodonta africana - African bush elephant\n",
    "# Macaca fascicularis - Long-tailed macaque\n",
    "# Varanus salvator - Asian water monitor \n",
    "# Python bivittatus - Burmese python\n",
    "#Crocodylus porosus - Saltwater crocodile\n",
    "countries_of_interest['Taxon'].value_counts().head(10)"
   ]
  },
  {
   "cell_type": "code",
   "execution_count": 99,
   "metadata": {},
   "outputs": [
    {
     "data": {
      "text/plain": [
       "<matplotlib.axes._subplots.AxesSubplot at 0x1bdc2b10d48>"
      ]
     },
     "execution_count": 99,
     "metadata": {},
     "output_type": "execute_result"
    },
    {
     "data": {
      "image/png": "[encoded data removed]",
      "text/plain": [
       "<Figure size 1080x432 with 1 Axes>"
      ]
     },
     "metadata": {
      "needs_background": "light"
     },
     "output_type": "display_data"
    }
   ],
   "source": [
    "#Some of the speices exported could explain the amount of cases in 2016 - I don't know of any outbreaks cause by the species\n",
    "#listed above except maybe the macaque\n",
    "#In the future I will have to go through all the species traded and try to link it all together\n",
    "Africa_df['sumCases']['2016-01-01':].plot()"
   ]
  },
  {
   "cell_type": "markdown",
   "metadata": {},
   "source": [
    "# 6. SIR Model. I do not have much experience with modelling infectious diseases with python so this is a very basic model."
   ]
  },
  {
   "cell_type": "markdown",
   "metadata": {},
   "source": [
    "# We will model Ebola. Ebola is a highly fatal virus. https://www.who.int/news-room/fact-sheets/detail/ebola-virus-disease."
   ]
  },
  {
   "cell_type": "code",
   "execution_count": 112,
   "metadata": {},
   "outputs": [],
   "source": [
    "#In this model R will stand for removed\n",
    "#Duration of infectiousness =1 / recorery rate\n",
    "#beta * N * duation of infectiousness = total contacts made over duration of infectiousness\n",
    "#In order for the number of infectious to increase it must be greater than the number of infectious who stop being infectious\n",
    "#per unit of time - beta *S(t)*I(t) > rI(t)\n",
    "#Another important interval to consider is the serial interval - onset of primary case to secondary case\n",
    "\n",
    "\n",
    "N=11000000   #Population with no births or deaths - r0 = beta* N / recovery rate\n",
    "beta=0.7    #Reproduction number, transmission parameter, the rate at which two individuals come into contact with one another \n",
    "#sufficient enough to lead to infection\n",
    "gamma=0.1  #Recovery rate\n",
    "I0 = 2   #Initial infected\n",
    "S0 = N - I0\n",
    "R0 = 0 "
   ]
  },
  {
   "cell_type": "code",
   "execution_count": 113,
   "metadata": {},
   "outputs": [],
   "source": [
    "def SIR_model(SIR, beta,gamma):\n",
    "    \n",
    "    S,I,R =SIR\n",
    "    dS_dt = -beta*S*I/N\n",
    "    dI_dt = beta*S*I/N-gamma*I\n",
    "    dR_dt =gamma *I\n",
    "    return ([dS_dt,dI_dt,dR_dt])"
   ]
  },
  {
   "cell_type": "code",
   "execution_count": 114,
   "metadata": {},
   "outputs": [],
   "source": [
    "SIR = np.array([S0,I0,R0])\n",
    "propogation_rates = pd.DataFrame(columns={'susceptible': S0,\n",
    "                                         'infected': I0,\n",
    "                                         'recovered':R0})\n",
    "\n",
    "\n",
    "for each_t in np.arange(100):\n",
    "    \n",
    "    new_delta = SIR_model(SIR, beta, gamma)\n",
    "    \n",
    "    SIR=SIR+new_delta\n",
    "    \n",
    "    propogation_rates = propogation_rates.append({'susceptible': SIR[0],\n",
    "                                         'infected': SIR[1],\n",
    "                                         'recovered':SIR[2]}, ignore_index=True)\n"
   ]
  },
  {
   "cell_type": "code",
   "execution_count": 115,
   "metadata": {},
   "outputs": [
    {
     "data": {
      "text/plain": [
       "<matplotlib.legend.Legend at 0x1bdc2874ec8>"
      ]
     },
     "execution_count": 115,
     "metadata": {},
     "output_type": "execute_result"
    },
    {
     "data": {
      "image/png": "[encoded data removed]",
      "text/plain": [
       "<Figure size 720x720 with 1 Axes>"
      ]
     },
     "metadata": {},
     "output_type": "display_data"
    }
   ],
   "source": [
    "plt.rcParams['figure.figsize']=(10, 10)\n",
    "plt.style.use('ggplot')\n",
    "\n",
    "fig, ax1 = plt.subplots(1, 1)\n",
    "\n",
    "ax1.plot(propogation_rates.index, propogation_rates.infected,label='infected', color='k')\n",
    "ax1.plot(propogation_rates.index, propogation_rates.recovered,label='removed')\n",
    "ax1.plot(propogation_rates.index, propogation_rates.susceptible,label='susceptible')\n",
    "\n",
    "\n",
    "ax1.set_ylim(400, 11000000)\n",
    "ax1.set_xlim(0, 90)\n",
    "ax1.set_xlabel('Days')\n",
    "ax1.set_ylabel('Population')\n",
    "ax1.legend(loc='best')"
   ]
  },
  {
   "cell_type": "markdown",
   "metadata": {},
   "source": [
    "# As stated above in the introduction, the goal of this project was to highlight the importance of a global disease surveillance system and having qualified, trained people contributing to it.  There are many factors that have led to the increase in emergence of zoonotic diseases. Human travel and increased mobility, changes in human eating patterns and culture, and rapid shipments of livestock.  This need for better anti-poaching measures should also be considered as a tool to control the spread of zoonotic diseases."
   ]
  },
  {
   "cell_type": "markdown",
   "metadata": {},
   "source": [
    "# 1. EDA of EMPRES Global Animal Disease Surveillance dataset\n",
    "\n",
    "# 2. Feature engineering\n",
    "\n",
    "# 3. SARIMAX - MAE: 697.401675951051\n",
    "\n",
    "# 4. LSTM\n",
    "\n",
    "# 5. EDA of CITES dataset\n",
    "\n",
    "# 6. SIR Model"
   ]
  },
  {
   "cell_type": "code",
   "execution_count": null,
   "metadata": {},
   "outputs": [],
   "source": []
  }
 ],
 "metadata": {
  "kernelspec": {
   "display_name": "Python 3",
   "language": "python",
   "name": "python3"
  },
  "language_info": {
   "codemirror_mode": {
    "name": "ipython",
    "version": 3
   },
   "file_extension": ".py",
   "mimetype": "text/x-python",
   "name": "python",
   "nbconvert_exporter": "python",
   "pygments_lexer": "ipython3",
   "version": "3.7.4"
  }
 },
 "nbformat": 4,
 "nbformat_minor": 2
}
