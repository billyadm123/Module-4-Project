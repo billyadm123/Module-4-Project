{
 "cells": [
  {
   "cell_type": "markdown",
   "metadata": {},
   "source": [
    "# The goal of this project is to highlight the importance of establishing a global disease surveillance and response system and sustaining it.  Wildlife are known reservoirs for zoonotic diseases which are a major contributor to emerging diseases.  Hopefully this project will also highlight the importance of better anti-poaching measures to control the spread of these disease which will also improve global security."
   ]
  },
  {
   "cell_type": "code",
   "execution_count": 1,
   "metadata": {},
   "outputs": [
    {
     "name": "stderr",
     "output_type": "stream",
     "text": [
      "C:\\Users\\willi\\Anaconda3\\lib\\site-packages\\statsmodels\\tools\\_testing.py:19: FutureWarning: pandas.util.testing is deprecated. Use the functions in the public API at pandas.testing instead.\n",
      "  import pandas.util.testing as tm\n"
     ]
    },
    {
     "data": {
      "text/html": [
       "<div>\n",
       "<style scoped>\n",
       "    .dataframe tbody tr th:only-of-type {\n",
       "        vertical-align: middle;\n",
       "    }\n",
       "\n",
       "    .dataframe tbody tr th {\n",
       "        vertical-align: top;\n",
       "    }\n",
       "\n",
       "    .dataframe thead th {\n",
       "        text-align: right;\n",
       "    }\n",
       "</style>\n",
       "<table border=\"1\" class=\"dataframe\">\n",
       "  <thead>\n",
       "    <tr style=\"text-align: right;\">\n",
       "      <th></th>\n",
       "      <th>Id</th>\n",
       "      <th>source</th>\n",
       "      <th>latitude</th>\n",
       "      <th>longitude</th>\n",
       "      <th>region</th>\n",
       "      <th>country</th>\n",
       "      <th>admin1</th>\n",
       "      <th>localityName</th>\n",
       "      <th>localityQuality</th>\n",
       "      <th>observationDate</th>\n",
       "      <th>reportingDate</th>\n",
       "      <th>status</th>\n",
       "      <th>disease</th>\n",
       "      <th>serotypes</th>\n",
       "      <th>speciesDescription</th>\n",
       "      <th>sumAtRisk</th>\n",
       "      <th>sumCases</th>\n",
       "      <th>sumDeaths</th>\n",
       "      <th>sumDestroyed</th>\n",
       "      <th>sumSlaughtered</th>\n",
       "      <th>humansGenderDesc</th>\n",
       "      <th>humansAge</th>\n",
       "      <th>humansAffected</th>\n",
       "      <th>humansDeaths</th>\n",
       "    </tr>\n",
       "  </thead>\n",
       "  <tbody>\n",
       "    <tr>\n",
       "      <th>0</th>\n",
       "      <td>230399</td>\n",
       "      <td>OIE</td>\n",
       "      <td>-27.900000</td>\n",
       "      <td>30.800000</td>\n",
       "      <td>Africa</td>\n",
       "      <td>South Africa</td>\n",
       "      <td>KwaZulu-Natal</td>\n",
       "      <td>HPAI_H5N8_2017_019</td>\n",
       "      <td>Exact</td>\n",
       "      <td>17/08/2017</td>\n",
       "      <td>22/08/2017</td>\n",
       "      <td>Confirmed</td>\n",
       "      <td>Influenza - Avian</td>\n",
       "      <td>H5N8 HPAI</td>\n",
       "      <td>domestic, unspecified bird</td>\n",
       "      <td>248000.0</td>\n",
       "      <td>12.0</td>\n",
       "      <td>12.0</td>\n",
       "      <td>50000.0</td>\n",
       "      <td>0.0</td>\n",
       "      <td>NaN</td>\n",
       "      <td>0.0</td>\n",
       "      <td>NaN</td>\n",
       "      <td>NaN</td>\n",
       "    </tr>\n",
       "    <tr>\n",
       "      <th>1</th>\n",
       "      <td>230381</td>\n",
       "      <td>OIE</td>\n",
       "      <td>54.837037</td>\n",
       "      <td>73.354155</td>\n",
       "      <td>Europe</td>\n",
       "      <td>Russian Federation</td>\n",
       "      <td>Omskaya Oblast</td>\n",
       "      <td>Novaya Stanica</td>\n",
       "      <td>Exact</td>\n",
       "      <td>16/08/2017</td>\n",
       "      <td>18/08/2017</td>\n",
       "      <td>Confirmed</td>\n",
       "      <td>African swine fever</td>\n",
       "      <td>NaN</td>\n",
       "      <td>domestic, swine</td>\n",
       "      <td>122.0</td>\n",
       "      <td>6.0</td>\n",
       "      <td>1.0</td>\n",
       "      <td>0.0</td>\n",
       "      <td>0.0</td>\n",
       "      <td>NaN</td>\n",
       "      <td>NaN</td>\n",
       "      <td>NaN</td>\n",
       "      <td>NaN</td>\n",
       "    </tr>\n",
       "    <tr>\n",
       "      <th>2</th>\n",
       "      <td>230333</td>\n",
       "      <td>OIE</td>\n",
       "      <td>-21.077740</td>\n",
       "      <td>30.211620</td>\n",
       "      <td>Africa</td>\n",
       "      <td>Zimbabwe</td>\n",
       "      <td>Masvingo</td>\n",
       "      <td>Mwambe</td>\n",
       "      <td>Exact</td>\n",
       "      <td>16/08/2017</td>\n",
       "      <td>16/08/2017</td>\n",
       "      <td>Confirmed</td>\n",
       "      <td>Foot and mouth disease</td>\n",
       "      <td>NaN</td>\n",
       "      <td>domestic, cattle</td>\n",
       "      <td>1283.0</td>\n",
       "      <td>112.0</td>\n",
       "      <td>0.0</td>\n",
       "      <td>NaN</td>\n",
       "      <td>7.0</td>\n",
       "      <td>NaN</td>\n",
       "      <td>NaN</td>\n",
       "      <td>NaN</td>\n",
       "      <td>NaN</td>\n",
       "    </tr>\n",
       "    <tr>\n",
       "      <th>3</th>\n",
       "      <td>230396</td>\n",
       "      <td>OIE</td>\n",
       "      <td>-26.000000</td>\n",
       "      <td>28.300000</td>\n",
       "      <td>Africa</td>\n",
       "      <td>South Africa</td>\n",
       "      <td>Gauteng</td>\n",
       "      <td>HPAI_H5N8_2017_020</td>\n",
       "      <td>Exact</td>\n",
       "      <td>15/08/2017</td>\n",
       "      <td>22/08/2017</td>\n",
       "      <td>Confirmed</td>\n",
       "      <td>Influenza - Avian</td>\n",
       "      <td>H5N8 HPAI</td>\n",
       "      <td>wild, unspecified bird</td>\n",
       "      <td>NaN</td>\n",
       "      <td>1.0</td>\n",
       "      <td>1.0</td>\n",
       "      <td>0.0</td>\n",
       "      <td>0.0</td>\n",
       "      <td>NaN</td>\n",
       "      <td>0.0</td>\n",
       "      <td>NaN</td>\n",
       "      <td>NaN</td>\n",
       "    </tr>\n",
       "    <tr>\n",
       "      <th>4</th>\n",
       "      <td>230371</td>\n",
       "      <td>OIE</td>\n",
       "      <td>49.237900</td>\n",
       "      <td>17.700200</td>\n",
       "      <td>Europe</td>\n",
       "      <td>Czech Republic</td>\n",
       "      <td>Jihomoravsky</td>\n",
       "      <td>Hvozdná</td>\n",
       "      <td>Exact</td>\n",
       "      <td>15/08/2017</td>\n",
       "      <td>17/08/2017</td>\n",
       "      <td>Confirmed</td>\n",
       "      <td>African swine fever</td>\n",
       "      <td>NaN</td>\n",
       "      <td>wild, wild boar</td>\n",
       "      <td>NaN</td>\n",
       "      <td>1.0</td>\n",
       "      <td>1.0</td>\n",
       "      <td>NaN</td>\n",
       "      <td>NaN</td>\n",
       "      <td>NaN</td>\n",
       "      <td>NaN</td>\n",
       "      <td>NaN</td>\n",
       "      <td>NaN</td>\n",
       "    </tr>\n",
       "  </tbody>\n",
       "</table>\n",
       "</div>"
      ],
      "text/plain": [
       "       Id source   latitude  longitude  region             country  \\\n",
       "0  230399    OIE -27.900000  30.800000  Africa        South Africa   \n",
       "1  230381    OIE  54.837037  73.354155  Europe  Russian Federation   \n",
       "2  230333    OIE -21.077740  30.211620  Africa            Zimbabwe   \n",
       "3  230396    OIE -26.000000  28.300000  Africa        South Africa   \n",
       "4  230371    OIE  49.237900  17.700200  Europe      Czech Republic   \n",
       "\n",
       "           admin1        localityName localityQuality observationDate  \\\n",
       "0   KwaZulu-Natal  HPAI_H5N8_2017_019           Exact      17/08/2017   \n",
       "1  Omskaya Oblast      Novaya Stanica           Exact      16/08/2017   \n",
       "2        Masvingo              Mwambe           Exact      16/08/2017   \n",
       "3         Gauteng  HPAI_H5N8_2017_020           Exact      15/08/2017   \n",
       "4    Jihomoravsky             Hvozdná           Exact      15/08/2017   \n",
       "\n",
       "  reportingDate     status                 disease  serotypes  \\\n",
       "0    22/08/2017  Confirmed       Influenza - Avian  H5N8 HPAI   \n",
       "1    18/08/2017  Confirmed     African swine fever        NaN   \n",
       "2    16/08/2017  Confirmed  Foot and mouth disease        NaN   \n",
       "3    22/08/2017  Confirmed       Influenza - Avian  H5N8 HPAI   \n",
       "4    17/08/2017  Confirmed     African swine fever        NaN   \n",
       "\n",
       "           speciesDescription  sumAtRisk  sumCases  sumDeaths  sumDestroyed  \\\n",
       "0  domestic, unspecified bird   248000.0      12.0       12.0       50000.0   \n",
       "1             domestic, swine      122.0       6.0        1.0           0.0   \n",
       "2            domestic, cattle     1283.0     112.0        0.0           NaN   \n",
       "3      wild, unspecified bird        NaN       1.0        1.0           0.0   \n",
       "4             wild, wild boar        NaN       1.0        1.0           NaN   \n",
       "\n",
       "   sumSlaughtered humansGenderDesc  humansAge  humansAffected  humansDeaths  \n",
       "0             0.0              NaN        0.0             NaN           NaN  \n",
       "1             0.0              NaN        NaN             NaN           NaN  \n",
       "2             7.0              NaN        NaN             NaN           NaN  \n",
       "3             0.0              NaN        0.0             NaN           NaN  \n",
       "4             NaN              NaN        NaN             NaN           NaN  "
      ]
     },
     "execution_count": 1,
     "metadata": {},
     "output_type": "execute_result"
    }
   ],
   "source": [
    "import pandas as pd\n",
    "import numpy as np\n",
    "import seaborn as sns\n",
    "import matplotlib.pyplot as plt\n",
    "import warnings\n",
    "warnings.filterwarnings('ignore')\n",
    "from matplotlib.pylab import rcParams\n",
    "plt.style.use('ggplot')\n",
    "%matplotlib inline\n",
    "df = pd.read_csv('Outbreak_240817.csv')\n",
    "pd.set_option('display.max_columns', None)\n",
    "df.head()"
   ]
  },
  {
   "cell_type": "code",
   "execution_count": 2,
   "metadata": {},
   "outputs": [
    {
     "name": "stdout",
     "output_type": "stream",
     "text": [
      "<class 'pandas.core.frame.DataFrame'>\n",
      "RangeIndex: 17008 entries, 0 to 17007\n",
      "Data columns (total 24 columns):\n",
      " #   Column              Non-Null Count  Dtype  \n",
      "---  ------              --------------  -----  \n",
      " 0   Id                  17008 non-null  int64  \n",
      " 1   source              17008 non-null  object \n",
      " 2   latitude            17008 non-null  float64\n",
      " 3   longitude           17008 non-null  float64\n",
      " 4   region              17008 non-null  object \n",
      " 5   country             17008 non-null  object \n",
      " 6   admin1              17008 non-null  object \n",
      " 7   localityName        17008 non-null  object \n",
      " 8   localityQuality     17008 non-null  object \n",
      " 9   observationDate     16506 non-null  object \n",
      " 10  reportingDate       17008 non-null  object \n",
      " 11  status              17008 non-null  object \n",
      " 12  disease             17008 non-null  object \n",
      " 13  serotypes           10067 non-null  object \n",
      " 14  speciesDescription  15360 non-null  object \n",
      " 15  sumAtRisk           9757 non-null   float64\n",
      " 16  sumCases            14535 non-null  float64\n",
      " 17  sumDeaths           14168 non-null  float64\n",
      " 18  sumDestroyed        13005 non-null  float64\n",
      " 19  sumSlaughtered      12235 non-null  float64\n",
      " 20  humansGenderDesc    360 non-null    object \n",
      " 21  humansAge           1068 non-null   float64\n",
      " 22  humansAffected      1417 non-null   float64\n",
      " 23  humansDeaths        451 non-null    float64\n",
      "dtypes: float64(10), int64(1), object(13)\n",
      "memory usage: 3.1+ MB\n"
     ]
    }
   ],
   "source": [
    "df.info()"
   ]
  },
  {
   "cell_type": "markdown",
   "metadata": {},
   "source": [
    "# 1. EDA"
   ]
  },
  {
   "cell_type": "code",
   "execution_count": 3,
   "metadata": {},
   "outputs": [
    {
     "data": {
      "text/html": [
       "<div>\n",
       "<style scoped>\n",
       "    .dataframe tbody tr th:only-of-type {\n",
       "        vertical-align: middle;\n",
       "    }\n",
       "\n",
       "    .dataframe tbody tr th {\n",
       "        vertical-align: top;\n",
       "    }\n",
       "\n",
       "    .dataframe thead th {\n",
       "        text-align: right;\n",
       "    }\n",
       "</style>\n",
       "<table border=\"1\" class=\"dataframe\">\n",
       "  <thead>\n",
       "    <tr style=\"text-align: right;\">\n",
       "      <th></th>\n",
       "      <th>Id</th>\n",
       "      <th>latitude</th>\n",
       "      <th>longitude</th>\n",
       "      <th>sumAtRisk</th>\n",
       "      <th>sumCases</th>\n",
       "      <th>sumDeaths</th>\n",
       "      <th>sumDestroyed</th>\n",
       "      <th>sumSlaughtered</th>\n",
       "      <th>humansAge</th>\n",
       "      <th>humansAffected</th>\n",
       "      <th>humansDeaths</th>\n",
       "    </tr>\n",
       "  </thead>\n",
       "  <tbody>\n",
       "    <tr>\n",
       "      <th>count</th>\n",
       "      <td>17008.000000</td>\n",
       "      <td>17008.000000</td>\n",
       "      <td>17008.000000</td>\n",
       "      <td>9.757000e+03</td>\n",
       "      <td>14535.000000</td>\n",
       "      <td>14168.000000</td>\n",
       "      <td>13005.000000</td>\n",
       "      <td>12235.000000</td>\n",
       "      <td>1068.000000</td>\n",
       "      <td>1417.000000</td>\n",
       "      <td>451.000000</td>\n",
       "    </tr>\n",
       "    <tr>\n",
       "      <th>mean</th>\n",
       "      <td>218823.465075</td>\n",
       "      <td>39.168443</td>\n",
       "      <td>37.774981</td>\n",
       "      <td>7.500692e+03</td>\n",
       "      <td>328.183007</td>\n",
       "      <td>199.190147</td>\n",
       "      <td>3765.857978</td>\n",
       "      <td>100.211443</td>\n",
       "      <td>17.701311</td>\n",
       "      <td>1.017643</td>\n",
       "      <td>0.889135</td>\n",
       "    </tr>\n",
       "    <tr>\n",
       "      <th>std</th>\n",
       "      <td>7048.338831</td>\n",
       "      <td>16.817821</td>\n",
       "      <td>41.034310</td>\n",
       "      <td>4.427669e+04</td>\n",
       "      <td>5821.929892</td>\n",
       "      <td>4109.453986</td>\n",
       "      <td>28355.192298</td>\n",
       "      <td>4341.287763</td>\n",
       "      <td>26.932867</td>\n",
       "      <td>0.620142</td>\n",
       "      <td>0.321306</td>\n",
       "    </tr>\n",
       "    <tr>\n",
       "      <th>min</th>\n",
       "      <td>206270.000000</td>\n",
       "      <td>-36.856210</td>\n",
       "      <td>-146.490000</td>\n",
       "      <td>0.000000e+00</td>\n",
       "      <td>0.000000</td>\n",
       "      <td>0.000000</td>\n",
       "      <td>0.000000</td>\n",
       "      <td>0.000000</td>\n",
       "      <td>0.000000</td>\n",
       "      <td>0.000000</td>\n",
       "      <td>0.000000</td>\n",
       "    </tr>\n",
       "    <tr>\n",
       "      <th>25%</th>\n",
       "      <td>212070.750000</td>\n",
       "      <td>32.090000</td>\n",
       "      <td>11.950000</td>\n",
       "      <td>1.100000e+01</td>\n",
       "      <td>1.000000</td>\n",
       "      <td>0.000000</td>\n",
       "      <td>0.000000</td>\n",
       "      <td>0.000000</td>\n",
       "      <td>0.000000</td>\n",
       "      <td>1.000000</td>\n",
       "      <td>1.000000</td>\n",
       "    </tr>\n",
       "    <tr>\n",
       "      <th>50%</th>\n",
       "      <td>219591.500000</td>\n",
       "      <td>43.821579</td>\n",
       "      <td>24.511700</td>\n",
       "      <td>9.000000e+01</td>\n",
       "      <td>1.000000</td>\n",
       "      <td>1.000000</td>\n",
       "      <td>0.000000</td>\n",
       "      <td>0.000000</td>\n",
       "      <td>0.000000</td>\n",
       "      <td>1.000000</td>\n",
       "      <td>1.000000</td>\n",
       "    </tr>\n",
       "    <tr>\n",
       "      <th>75%</th>\n",
       "      <td>224717.250000</td>\n",
       "      <td>48.102805</td>\n",
       "      <td>43.424390</td>\n",
       "      <td>7.160000e+02</td>\n",
       "      <td>5.000000</td>\n",
       "      <td>2.000000</td>\n",
       "      <td>5.000000</td>\n",
       "      <td>0.000000</td>\n",
       "      <td>41.000000</td>\n",
       "      <td>1.000000</td>\n",
       "      <td>1.000000</td>\n",
       "    </tr>\n",
       "    <tr>\n",
       "      <th>max</th>\n",
       "      <td>230399.000000</td>\n",
       "      <td>68.392000</td>\n",
       "      <td>144.847374</td>\n",
       "      <td>2.000000e+06</td>\n",
       "      <td>460000.000000</td>\n",
       "      <td>439799.000000</td>\n",
       "      <td>913590.000000</td>\n",
       "      <td>339006.000000</td>\n",
       "      <td>94.000000</td>\n",
       "      <td>24.000000</td>\n",
       "      <td>2.000000</td>\n",
       "    </tr>\n",
       "  </tbody>\n",
       "</table>\n",
       "</div>"
      ],
      "text/plain": [
       "                  Id      latitude     longitude     sumAtRisk       sumCases  \\\n",
       "count   17008.000000  17008.000000  17008.000000  9.757000e+03   14535.000000   \n",
       "mean   218823.465075     39.168443     37.774981  7.500692e+03     328.183007   \n",
       "std      7048.338831     16.817821     41.034310  4.427669e+04    5821.929892   \n",
       "min    206270.000000    -36.856210   -146.490000  0.000000e+00       0.000000   \n",
       "25%    212070.750000     32.090000     11.950000  1.100000e+01       1.000000   \n",
       "50%    219591.500000     43.821579     24.511700  9.000000e+01       1.000000   \n",
       "75%    224717.250000     48.102805     43.424390  7.160000e+02       5.000000   \n",
       "max    230399.000000     68.392000    144.847374  2.000000e+06  460000.000000   \n",
       "\n",
       "           sumDeaths   sumDestroyed  sumSlaughtered    humansAge  \\\n",
       "count   14168.000000   13005.000000    12235.000000  1068.000000   \n",
       "mean      199.190147    3765.857978      100.211443    17.701311   \n",
       "std      4109.453986   28355.192298     4341.287763    26.932867   \n",
       "min         0.000000       0.000000        0.000000     0.000000   \n",
       "25%         0.000000       0.000000        0.000000     0.000000   \n",
       "50%         1.000000       0.000000        0.000000     0.000000   \n",
       "75%         2.000000       5.000000        0.000000    41.000000   \n",
       "max    439799.000000  913590.000000   339006.000000    94.000000   \n",
       "\n",
       "       humansAffected  humansDeaths  \n",
       "count     1417.000000    451.000000  \n",
       "mean         1.017643      0.889135  \n",
       "std          0.620142      0.321306  \n",
       "min          0.000000      0.000000  \n",
       "25%          1.000000      1.000000  \n",
       "50%          1.000000      1.000000  \n",
       "75%          1.000000      1.000000  \n",
       "max         24.000000      2.000000  "
      ]
     },
     "execution_count": 3,
     "metadata": {},
     "output_type": "execute_result"
    }
   ],
   "source": [
    "#Checking for the features with the highest standard deviation\n",
    "df.describe()"
   ]
  },
  {
   "cell_type": "code",
   "execution_count": 4,
   "metadata": {},
   "outputs": [
    {
     "data": {
      "text/plain": [
       "humansGenderDesc      97.883349\n",
       "humansDeaths          97.348307\n",
       "humansAge             93.720602\n",
       "humansAffected        91.668627\n",
       "sumAtRisk             42.632879\n",
       "serotypes             40.810207\n",
       "sumSlaughtered        28.063264\n",
       "sumDestroyed          23.535983\n",
       "sumDeaths             16.698024\n",
       "sumCases              14.540216\n",
       "speciesDescription     9.689558\n",
       "observationDate        2.951552\n",
       "country                0.000000\n",
       "source                 0.000000\n",
       "latitude               0.000000\n",
       "longitude              0.000000\n",
       "region                 0.000000\n",
       "status                 0.000000\n",
       "admin1                 0.000000\n",
       "localityName           0.000000\n",
       "localityQuality        0.000000\n",
       "reportingDate          0.000000\n",
       "disease                0.000000\n",
       "Id                     0.000000\n",
       "dtype: float64"
      ]
     },
     "execution_count": 4,
     "metadata": {},
     "output_type": "execute_result"
    }
   ],
   "source": [
    "#Checking the percentage of missing values for each feature - a feature selection technique\n",
    "(df.isnull().sum()*100/ len(df)).sort_values(ascending=False)"
   ]
  },
  {
   "cell_type": "markdown",
   "metadata": {},
   "source": [
    "# What species is most likely to cause an outbreak?"
   ]
  },
  {
   "cell_type": "code",
   "execution_count": 5,
   "metadata": {},
   "outputs": [
    {
     "data": {
      "text/plain": [
       "'domestic, cattle'"
      ]
     },
     "execution_count": 5,
     "metadata": {},
     "output_type": "execute_result"
    }
   ],
   "source": [
    "#Checking what animals cause the most outbreaks/cases\n",
    "df['speciesDescription'].value_counts().index[0]"
   ]
  },
  {
   "cell_type": "code",
   "execution_count": 11,
   "metadata": {},
   "outputs": [
    {
     "data": {
      "text/plain": [
       "<AxesSubplot:ylabel='speciesDescription'>"
      ]
     },
     "execution_count": 11,
     "metadata": {},
     "output_type": "execute_result"
    },
    {
     "data": {
      "image/png": "[encoded data removed]",
      "text/plain": [
       "<Figure size 432x288 with 1 Axes>"
      ]
     },
     "metadata": {},
     "output_type": "display_data"
    }
   ],
   "source": [
    "df['speciesDescription'].value_counts().sort_values(ascending=False).head(5).plot(kind='pie')"
   ]
  },
  {
   "cell_type": "code",
   "execution_count": 18,
   "metadata": {},
   "outputs": [],
   "source": [
    "cattle = df[df['speciesDescription'] == 'domestic, cattle']"
   ]
  },
  {
   "cell_type": "code",
   "execution_count": 20,
   "metadata": {},
   "outputs": [
    {
     "data": {
      "text/plain": [
       "Europe      4573\n",
       "Africa       228\n",
       "Asia          91\n",
       "Americas      21\n",
       "Name: region, dtype: int64"
      ]
     },
     "execution_count": 20,
     "metadata": {},
     "output_type": "execute_result"
    }
   ],
   "source": [
    "cattle['region'].value_counts()"
   ]
  },
  {
   "cell_type": "code",
   "execution_count": 25,
   "metadata": {},
   "outputs": [
    {
     "name": "stdout",
     "output_type": "stream",
     "text": [
      "AxesSubplot(0.125,0.125;0.775x0.755)\n",
      "count    4799.000000\n",
      "mean        0.406543\n",
      "std         6.834918\n",
      "min         0.000000\n",
      "25%         0.000000\n",
      "50%         0.000000\n",
      "75%         0.000000\n",
      "max       435.000000\n",
      "Name: sumDeaths, dtype: float64\n"
     ]
    },
    {
     "data": {
      "image/png": "[encoded data removed]",
      "text/plain": [
       "<Figure size 432x288 with 1 Axes>"
      ]
     },
     "metadata": {
      "needs_background": "light"
     },
     "output_type": "display_data"
    }
   ],
   "source": [
    "print(sns.distplot(cattle['sumDeaths'], kde=True))\n",
    "print(cattle['sumDeaths'].describe())"
   ]
  },
  {
   "cell_type": "code",
   "execution_count": 28,
   "metadata": {},
   "outputs": [
    {
     "data": {
      "text/plain": [
       "<AxesSubplot:xlabel='sumDestroyed', ylabel='sumDeaths'>"
      ]
     },
     "execution_count": 28,
     "metadata": {},
     "output_type": "execute_result"
    },
    {
     "data": {
      "image/png": "[encoded data removed]",
      "text/plain": [
       "<Figure size 432x288 with 1 Axes>"
      ]
     },
     "metadata": {
      "needs_background": "light"
     },
     "output_type": "display_data"
    }
   ],
   "source": [
    "sns.scatterplot('sumDestroyed', 'sumDeaths', data=cattle)"
   ]
  },
  {
   "cell_type": "code",
   "execution_count": 48,
   "metadata": {},
   "outputs": [
    {
     "data": {
      "text/plain": [
       "12322    3052.0\n",
       "16806    2565.0\n",
       "16811    2518.0\n",
       "16807    2518.0\n",
       "1122     1003.0\n",
       "          ...  \n",
       "15265       NaN\n",
       "15266       NaN\n",
       "15267       NaN\n",
       "16015       NaN\n",
       "16463       NaN\n",
       "Name: sumDestroyed, Length: 4913, dtype: float64"
      ]
     },
     "execution_count": 48,
     "metadata": {},
     "output_type": "execute_result"
    }
   ],
   "source": [
    "cattle['sumDestroyed'].sort_values(ascending=False)"
   ]
  },
  {
   "cell_type": "code",
   "execution_count": 51,
   "metadata": {},
   "outputs": [],
   "source": [
    "outliers_cattle = cattle[cattle['sumDestroyed'] >= 1003]"
   ]
  },
  {
   "cell_type": "code",
   "execution_count": 52,
   "metadata": {},
   "outputs": [
    {
     "data": {
      "text/plain": [
       "2518.0    2\n",
       "1003.0    2\n",
       "2565.0    1\n",
       "3052.0    1\n",
       "Name: sumDestroyed, dtype: int64"
      ]
     },
     "execution_count": 52,
     "metadata": {},
     "output_type": "execute_result"
    }
   ],
   "source": [
    "outliers_cattle['sumDestroyed'].value_counts()"
   ]
  },
  {
   "cell_type": "code",
   "execution_count": 53,
   "metadata": {},
   "outputs": [],
   "source": [
    "outliers_cattle = outliers_cattle[['sumCases', 'sumDestroyed']]"
   ]
  },
  {
   "cell_type": "code",
   "execution_count": 57,
   "metadata": {},
   "outputs": [
    {
     "data": {
      "text/plain": [
       "<AxesSubplot:xlabel='sumCases', ylabel='sumDestroyed'>"
      ]
     },
     "execution_count": 57,
     "metadata": {},
     "output_type": "execute_result"
    },
    {
     "data": {
      "image/png": "[encoded data removed]",
      "text/plain": [
       "<Figure size 432x288 with 1 Axes>"
      ]
     },
     "metadata": {
      "needs_background": "light"
     },
     "output_type": "display_data"
    }
   ],
   "source": [
    "#It doesn't look like there is any relationship between the number of cattle killed and the numer of cases\n",
    "sns.scatterplot('sumCases', 'sumDestroyed', data=outliers_cattle)"
   ]
  },
  {
   "cell_type": "code",
   "execution_count": 60,
   "metadata": {},
   "outputs": [
    {
     "data": {
      "text/plain": [
       "Bluetongue                           2507\n",
       "Lumpy skin disease                   2111\n",
       "Foot and mouth disease                239\n",
       "Anthrax                                33\n",
       "Bovine spongiform encephalopathy        6\n",
       "Contagious bovine pleuropneumonia       4\n",
       "Rift Valley fever                       4\n",
       "Rabies                                  4\n",
       "Bovine tuberculosis                     2\n",
       "Brucellosis (Brucella abortus)          1\n",
       "West Nile Fever                         1\n",
       "Brucellosis (Brucella suis)             1\n",
       "Name: disease, dtype: int64"
      ]
     },
     "execution_count": 60,
     "metadata": {},
     "output_type": "execute_result"
    }
   ],
   "source": [
    "##Cattle are the main mammal reservoir for Bluetongue disease and it is only transmitted by insect vectors\n",
    "cattle['disease'].value_counts()"
   ]
  },
  {
   "cell_type": "markdown",
   "metadata": {},
   "source": [
    "# What region/country is most at risk according to this data?"
   ]
  },
  {
   "cell_type": "markdown",
   "metadata": {},
   "source": [
    "# I don't know how much I trust this data. I know Africa does not have a good disease surveillance infrastructure."
   ]
  },
  {
   "cell_type": "code",
   "execution_count": 61,
   "metadata": {},
   "outputs": [
    {
     "data": {
      "text/plain": [
       "'France'"
      ]
     },
     "execution_count": 61,
     "metadata": {},
     "output_type": "execute_result"
    }
   ],
   "source": [
    "df['country'].value_counts().index[0]"
   ]
  },
  {
   "cell_type": "code",
   "execution_count": 62,
   "metadata": {},
   "outputs": [
    {
     "data": {
      "text/plain": [
       "<AxesSubplot:>"
      ]
     },
     "execution_count": 62,
     "metadata": {},
     "output_type": "execute_result"
    },
    {
     "data": {
      "image/png": "[encoded data removed]",
      "text/plain": [
       "<Figure size 432x288 with 1 Axes>"
      ]
     },
     "metadata": {
      "needs_background": "light"
     },
     "output_type": "display_data"
    }
   ],
   "source": [
    "#We also need to consider where the disease came from and where patient zero came from\n",
    "df['region'].value_counts().sort_values(ascending=False).head(5).plot(kind='bar')"
   ]
  },
  {
   "cell_type": "markdown",
   "metadata": {},
   "source": [
    "# We will focus on Africa.  Zoonotic diseases still account for many of the health problems in Africa, there has been a re-emergence of Malaria and Yellow Fever in the past 15 years, a spread of HPAI and H5N1 in poultry farms throughout Nigeria and other west African countries.  Most African countries are not prepared to respond to outbreaks."
   ]
  },
  {
   "cell_type": "code",
   "execution_count": 63,
   "metadata": {},
   "outputs": [
    {
     "data": {
      "application/vnd.jupyter.widget-view+json": {
       "model_id": "7d8765897f504d55877c47e1b1a7cab7",
       "version_major": 2,
       "version_minor": 0
      },
      "text/plain": [
       "MapView(layout=Layout(height='400px', width='100%'), mode='3D', zoom=5.0)"
      ]
     },
     "metadata": {},
     "output_type": "display_data"
    },
    {
     "data": {
      "text/html": [
       "<div class=\"map-static-img-preview-13697b67-a964-479a-baf1-ef5f77fded98\"><img src=\"\"></img></div>"
      ],
      "text/plain": [
       "<IPython.core.display.HTML object>"
      ]
     },
     "metadata": {},
     "output_type": "display_data"
    }
   ],
   "source": [
    "from arcgis.gis import GIS\n",
    "gis = GIS()\n",
    "map1 = gis.map('Africa',5, '3D')\n",
    "map1"
   ]
  },
  {
   "cell_type": "code",
   "execution_count": 262,
   "metadata": {},
   "outputs": [],
   "source": [
    "#Filtering out the dataframe to get back only cases in Africa\n",
    "Africa_df = df[df['region'] == 'Africa']"
   ]
  },
  {
   "cell_type": "code",
   "execution_count": 263,
   "metadata": {},
   "outputs": [
    {
     "data": {
      "text/html": [
       "<div>\n",
       "<style scoped>\n",
       "    .dataframe tbody tr th:only-of-type {\n",
       "        vertical-align: middle;\n",
       "    }\n",
       "\n",
       "    .dataframe tbody tr th {\n",
       "        vertical-align: top;\n",
       "    }\n",
       "\n",
       "    .dataframe thead th {\n",
       "        text-align: right;\n",
       "    }\n",
       "</style>\n",
       "<table border=\"1\" class=\"dataframe\">\n",
       "  <thead>\n",
       "    <tr style=\"text-align: right;\">\n",
       "      <th></th>\n",
       "      <th>Id</th>\n",
       "      <th>source</th>\n",
       "      <th>latitude</th>\n",
       "      <th>longitude</th>\n",
       "      <th>region</th>\n",
       "      <th>country</th>\n",
       "      <th>admin1</th>\n",
       "      <th>localityName</th>\n",
       "      <th>localityQuality</th>\n",
       "      <th>observationDate</th>\n",
       "      <th>reportingDate</th>\n",
       "      <th>status</th>\n",
       "      <th>disease</th>\n",
       "      <th>serotypes</th>\n",
       "      <th>speciesDescription</th>\n",
       "      <th>sumAtRisk</th>\n",
       "      <th>sumCases</th>\n",
       "      <th>sumDeaths</th>\n",
       "      <th>sumDestroyed</th>\n",
       "      <th>sumSlaughtered</th>\n",
       "      <th>humansGenderDesc</th>\n",
       "      <th>humansAge</th>\n",
       "      <th>humansAffected</th>\n",
       "      <th>humansDeaths</th>\n",
       "    </tr>\n",
       "  </thead>\n",
       "  <tbody>\n",
       "    <tr>\n",
       "      <th>0</th>\n",
       "      <td>230399</td>\n",
       "      <td>OIE</td>\n",
       "      <td>-27.90000</td>\n",
       "      <td>30.80000</td>\n",
       "      <td>Africa</td>\n",
       "      <td>South Africa</td>\n",
       "      <td>KwaZulu-Natal</td>\n",
       "      <td>HPAI_H5N8_2017_019</td>\n",
       "      <td>Exact</td>\n",
       "      <td>17/08/2017</td>\n",
       "      <td>22/08/2017</td>\n",
       "      <td>Confirmed</td>\n",
       "      <td>Influenza - Avian</td>\n",
       "      <td>H5N8 HPAI</td>\n",
       "      <td>domestic, unspecified bird</td>\n",
       "      <td>248000.0</td>\n",
       "      <td>12.0</td>\n",
       "      <td>12.0</td>\n",
       "      <td>50000.0</td>\n",
       "      <td>0.0</td>\n",
       "      <td>NaN</td>\n",
       "      <td>0.0</td>\n",
       "      <td>NaN</td>\n",
       "      <td>NaN</td>\n",
       "    </tr>\n",
       "    <tr>\n",
       "      <th>2</th>\n",
       "      <td>230333</td>\n",
       "      <td>OIE</td>\n",
       "      <td>-21.07774</td>\n",
       "      <td>30.21162</td>\n",
       "      <td>Africa</td>\n",
       "      <td>Zimbabwe</td>\n",
       "      <td>Masvingo</td>\n",
       "      <td>Mwambe</td>\n",
       "      <td>Exact</td>\n",
       "      <td>16/08/2017</td>\n",
       "      <td>16/08/2017</td>\n",
       "      <td>Confirmed</td>\n",
       "      <td>Foot and mouth disease</td>\n",
       "      <td>NaN</td>\n",
       "      <td>domestic, cattle</td>\n",
       "      <td>1283.0</td>\n",
       "      <td>112.0</td>\n",
       "      <td>0.0</td>\n",
       "      <td>NaN</td>\n",
       "      <td>7.0</td>\n",
       "      <td>NaN</td>\n",
       "      <td>NaN</td>\n",
       "      <td>NaN</td>\n",
       "      <td>NaN</td>\n",
       "    </tr>\n",
       "    <tr>\n",
       "      <th>3</th>\n",
       "      <td>230396</td>\n",
       "      <td>OIE</td>\n",
       "      <td>-26.00000</td>\n",
       "      <td>28.30000</td>\n",
       "      <td>Africa</td>\n",
       "      <td>South Africa</td>\n",
       "      <td>Gauteng</td>\n",
       "      <td>HPAI_H5N8_2017_020</td>\n",
       "      <td>Exact</td>\n",
       "      <td>15/08/2017</td>\n",
       "      <td>22/08/2017</td>\n",
       "      <td>Confirmed</td>\n",
       "      <td>Influenza - Avian</td>\n",
       "      <td>H5N8 HPAI</td>\n",
       "      <td>wild, unspecified bird</td>\n",
       "      <td>NaN</td>\n",
       "      <td>1.0</td>\n",
       "      <td>1.0</td>\n",
       "      <td>0.0</td>\n",
       "      <td>0.0</td>\n",
       "      <td>NaN</td>\n",
       "      <td>0.0</td>\n",
       "      <td>NaN</td>\n",
       "      <td>NaN</td>\n",
       "    </tr>\n",
       "    <tr>\n",
       "      <th>6</th>\n",
       "      <td>230395</td>\n",
       "      <td>OIE</td>\n",
       "      <td>-26.00000</td>\n",
       "      <td>28.30000</td>\n",
       "      <td>Africa</td>\n",
       "      <td>South Africa</td>\n",
       "      <td>Gauteng</td>\n",
       "      <td>HPAI_H5N8_2017_021</td>\n",
       "      <td>Exact</td>\n",
       "      <td>14/08/2017</td>\n",
       "      <td>22/08/2017</td>\n",
       "      <td>Confirmed</td>\n",
       "      <td>Influenza - Avian</td>\n",
       "      <td>H5N8 HPAI</td>\n",
       "      <td>domestic, goose</td>\n",
       "      <td>34.0</td>\n",
       "      <td>19.0</td>\n",
       "      <td>19.0</td>\n",
       "      <td>0.0</td>\n",
       "      <td>0.0</td>\n",
       "      <td>NaN</td>\n",
       "      <td>0.0</td>\n",
       "      <td>NaN</td>\n",
       "      <td>NaN</td>\n",
       "    </tr>\n",
       "    <tr>\n",
       "      <th>9</th>\n",
       "      <td>230394</td>\n",
       "      <td>OIE</td>\n",
       "      <td>-24.60000</td>\n",
       "      <td>27.20000</td>\n",
       "      <td>Africa</td>\n",
       "      <td>South Africa</td>\n",
       "      <td>Limpopo</td>\n",
       "      <td>HPAI_H5N8_2017_022</td>\n",
       "      <td>Exact</td>\n",
       "      <td>12/08/2017</td>\n",
       "      <td>22/08/2017</td>\n",
       "      <td>Confirmed</td>\n",
       "      <td>Influenza - Avian</td>\n",
       "      <td>H5N8 HPAI</td>\n",
       "      <td>domestic, unspecified bird</td>\n",
       "      <td>62.0</td>\n",
       "      <td>5.0</td>\n",
       "      <td>5.0</td>\n",
       "      <td>0.0</td>\n",
       "      <td>0.0</td>\n",
       "      <td>NaN</td>\n",
       "      <td>NaN</td>\n",
       "      <td>NaN</td>\n",
       "      <td>NaN</td>\n",
       "    </tr>\n",
       "  </tbody>\n",
       "</table>\n",
       "</div>"
      ],
      "text/plain": [
       "       Id source  latitude  longitude  region       country         admin1  \\\n",
       "0  230399    OIE -27.90000   30.80000  Africa  South Africa  KwaZulu-Natal   \n",
       "2  230333    OIE -21.07774   30.21162  Africa      Zimbabwe       Masvingo   \n",
       "3  230396    OIE -26.00000   28.30000  Africa  South Africa        Gauteng   \n",
       "6  230395    OIE -26.00000   28.30000  Africa  South Africa        Gauteng   \n",
       "9  230394    OIE -24.60000   27.20000  Africa  South Africa        Limpopo   \n",
       "\n",
       "         localityName localityQuality observationDate reportingDate  \\\n",
       "0  HPAI_H5N8_2017_019           Exact      17/08/2017    22/08/2017   \n",
       "2              Mwambe           Exact      16/08/2017    16/08/2017   \n",
       "3  HPAI_H5N8_2017_020           Exact      15/08/2017    22/08/2017   \n",
       "6  HPAI_H5N8_2017_021           Exact      14/08/2017    22/08/2017   \n",
       "9  HPAI_H5N8_2017_022           Exact      12/08/2017    22/08/2017   \n",
       "\n",
       "      status                 disease  serotypes          speciesDescription  \\\n",
       "0  Confirmed       Influenza - Avian  H5N8 HPAI  domestic, unspecified bird   \n",
       "2  Confirmed  Foot and mouth disease        NaN            domestic, cattle   \n",
       "3  Confirmed       Influenza - Avian  H5N8 HPAI      wild, unspecified bird   \n",
       "6  Confirmed       Influenza - Avian  H5N8 HPAI             domestic, goose   \n",
       "9  Confirmed       Influenza - Avian  H5N8 HPAI  domestic, unspecified bird   \n",
       "\n",
       "   sumAtRisk  sumCases  sumDeaths  sumDestroyed  sumSlaughtered  \\\n",
       "0   248000.0      12.0       12.0       50000.0             0.0   \n",
       "2     1283.0     112.0        0.0           NaN             7.0   \n",
       "3        NaN       1.0        1.0           0.0             0.0   \n",
       "6       34.0      19.0       19.0           0.0             0.0   \n",
       "9       62.0       5.0        5.0           0.0             0.0   \n",
       "\n",
       "  humansGenderDesc  humansAge  humansAffected  humansDeaths  \n",
       "0              NaN        0.0             NaN           NaN  \n",
       "2              NaN        NaN             NaN           NaN  \n",
       "3              NaN        0.0             NaN           NaN  \n",
       "6              NaN        0.0             NaN           NaN  \n",
       "9              NaN        NaN             NaN           NaN  "
      ]
     },
     "execution_count": 263,
     "metadata": {},
     "output_type": "execute_result"
    }
   ],
   "source": [
    "Africa_df.head()"
   ]
  },
  {
   "cell_type": "code",
   "execution_count": 264,
   "metadata": {},
   "outputs": [],
   "source": [
    "#Checking for redundancies\n",
    "comparisons = df[['localityName', 'disease', 'localityQuality']]"
   ]
  },
  {
   "cell_type": "code",
   "execution_count": 265,
   "metadata": {},
   "outputs": [
    {
     "data": {
      "text/html": [
       "<div>\n",
       "<style scoped>\n",
       "    .dataframe tbody tr th:only-of-type {\n",
       "        vertical-align: middle;\n",
       "    }\n",
       "\n",
       "    .dataframe tbody tr th {\n",
       "        vertical-align: top;\n",
       "    }\n",
       "\n",
       "    .dataframe thead th {\n",
       "        text-align: right;\n",
       "    }\n",
       "</style>\n",
       "<table border=\"1\" class=\"dataframe\">\n",
       "  <thead>\n",
       "    <tr style=\"text-align: right;\">\n",
       "      <th></th>\n",
       "      <th>localityName</th>\n",
       "      <th>disease</th>\n",
       "      <th>localityQuality</th>\n",
       "    </tr>\n",
       "  </thead>\n",
       "  <tbody>\n",
       "    <tr>\n",
       "      <th>0</th>\n",
       "      <td>HPAI_H5N8_2017_019</td>\n",
       "      <td>Influenza - Avian</td>\n",
       "      <td>Exact</td>\n",
       "    </tr>\n",
       "    <tr>\n",
       "      <th>1</th>\n",
       "      <td>Novaya Stanica</td>\n",
       "      <td>African swine fever</td>\n",
       "      <td>Exact</td>\n",
       "    </tr>\n",
       "    <tr>\n",
       "      <th>2</th>\n",
       "      <td>Mwambe</td>\n",
       "      <td>Foot and mouth disease</td>\n",
       "      <td>Exact</td>\n",
       "    </tr>\n",
       "    <tr>\n",
       "      <th>3</th>\n",
       "      <td>HPAI_H5N8_2017_020</td>\n",
       "      <td>Influenza - Avian</td>\n",
       "      <td>Exact</td>\n",
       "    </tr>\n",
       "    <tr>\n",
       "      <th>4</th>\n",
       "      <td>Hvozdná</td>\n",
       "      <td>African swine fever</td>\n",
       "      <td>Exact</td>\n",
       "    </tr>\n",
       "  </tbody>\n",
       "</table>\n",
       "</div>"
      ],
      "text/plain": [
       "         localityName                 disease localityQuality\n",
       "0  HPAI_H5N8_2017_019       Influenza - Avian           Exact\n",
       "1      Novaya Stanica     African swine fever           Exact\n",
       "2              Mwambe  Foot and mouth disease           Exact\n",
       "3  HPAI_H5N8_2017_020       Influenza - Avian           Exact\n",
       "4             Hvozdná     African swine fever           Exact"
      ]
     },
     "execution_count": 265,
     "metadata": {},
     "output_type": "execute_result"
    }
   ],
   "source": [
    "#I think locality name is just what the locals call the disease and I don't think locality quality will have any \n",
    "#influence on our model\n",
    "comparisons.head()"
   ]
  },
  {
   "cell_type": "code",
   "execution_count": 266,
   "metadata": {},
   "outputs": [],
   "source": [
    "Death_table = df[['sumDestroyed', 'sumSlaughtered', 'sumDeaths', 'sumCases']]"
   ]
  },
  {
   "cell_type": "code",
   "execution_count": 267,
   "metadata": {},
   "outputs": [
    {
     "data": {
      "text/html": [
       "<div>\n",
       "<style scoped>\n",
       "    .dataframe tbody tr th:only-of-type {\n",
       "        vertical-align: middle;\n",
       "    }\n",
       "\n",
       "    .dataframe tbody tr th {\n",
       "        vertical-align: top;\n",
       "    }\n",
       "\n",
       "    .dataframe thead th {\n",
       "        text-align: right;\n",
       "    }\n",
       "</style>\n",
       "<table border=\"1\" class=\"dataframe\">\n",
       "  <thead>\n",
       "    <tr style=\"text-align: right;\">\n",
       "      <th></th>\n",
       "      <th>sumDestroyed</th>\n",
       "      <th>sumSlaughtered</th>\n",
       "      <th>sumDeaths</th>\n",
       "      <th>sumCases</th>\n",
       "    </tr>\n",
       "  </thead>\n",
       "  <tbody>\n",
       "    <tr>\n",
       "      <th>sumDestroyed</th>\n",
       "      <td>1.000000</td>\n",
       "      <td>-0.002761</td>\n",
       "      <td>0.156072</td>\n",
       "      <td>0.173311</td>\n",
       "    </tr>\n",
       "    <tr>\n",
       "      <th>sumSlaughtered</th>\n",
       "      <td>-0.002761</td>\n",
       "      <td>1.000000</td>\n",
       "      <td>0.017402</td>\n",
       "      <td>0.010994</td>\n",
       "    </tr>\n",
       "    <tr>\n",
       "      <th>sumDeaths</th>\n",
       "      <td>0.156072</td>\n",
       "      <td>0.017402</td>\n",
       "      <td>1.000000</td>\n",
       "      <td>0.706913</td>\n",
       "    </tr>\n",
       "    <tr>\n",
       "      <th>sumCases</th>\n",
       "      <td>0.173311</td>\n",
       "      <td>0.010994</td>\n",
       "      <td>0.706913</td>\n",
       "      <td>1.000000</td>\n",
       "    </tr>\n",
       "  </tbody>\n",
       "</table>\n",
       "</div>"
      ],
      "text/plain": [
       "                sumDestroyed  sumSlaughtered  sumDeaths  sumCases\n",
       "sumDestroyed        1.000000       -0.002761   0.156072  0.173311\n",
       "sumSlaughtered     -0.002761        1.000000   0.017402  0.010994\n",
       "sumDeaths           0.156072        0.017402   1.000000  0.706913\n",
       "sumCases            0.173311        0.010994   0.706913  1.000000"
      ]
     },
     "execution_count": 267,
     "metadata": {},
     "output_type": "execute_result"
    }
   ],
   "source": [
    "#There is some correlation to the total deaths but not much except between cases and deaths\n",
    "#I think sumDestroyed and sumSlaughtered are the amount of wildlife and livestock killed that were infected\n",
    "Death_table.corr(method='pearson')"
   ]
  },
  {
   "cell_type": "markdown",
   "metadata": {},
   "source": [
    "# 2. Feature engineering"
   ]
  },
  {
   "cell_type": "code",
   "execution_count": 268,
   "metadata": {},
   "outputs": [],
   "source": [
    "#Creating a column for the number of days between the observation of symptoms and the date reporting using \n",
    "#the two existing features\n",
    "Africa_df['reportingDate'] = pd.to_datetime(Africa_df['reportingDate'])"
   ]
  },
  {
   "cell_type": "code",
   "execution_count": 269,
   "metadata": {},
   "outputs": [],
   "source": [
    "Africa_df['reported_day'] = Africa_df['reportingDate'].dt.day"
   ]
  },
  {
   "cell_type": "code",
   "execution_count": 270,
   "metadata": {},
   "outputs": [
    {
     "data": {
      "text/plain": [
       "0        22\n",
       "2        16\n",
       "3        22\n",
       "6        22\n",
       "9        22\n",
       "         ..\n",
       "17003    18\n",
       "17004    18\n",
       "17005    18\n",
       "17006    18\n",
       "17007    18\n",
       "Name: reported_day, Length: 1414, dtype: int64"
      ]
     },
     "execution_count": 270,
     "metadata": {},
     "output_type": "execute_result"
    }
   ],
   "source": [
    "Africa_df['reported_day'].astype('int64')"
   ]
  },
  {
   "cell_type": "code",
   "execution_count": 271,
   "metadata": {},
   "outputs": [
    {
     "data": {
      "text/plain": [
       "dtype('int64')"
      ]
     },
     "execution_count": 271,
     "metadata": {},
     "output_type": "execute_result"
    }
   ],
   "source": [
    "Africa_df['reported_day'].dtype"
   ]
  },
  {
   "cell_type": "code",
   "execution_count": 272,
   "metadata": {},
   "outputs": [
    {
     "data": {
      "text/plain": [
       "0"
      ]
     },
     "execution_count": 272,
     "metadata": {},
     "output_type": "execute_result"
    }
   ],
   "source": [
    "Africa_df['reported_day'].isnull().sum()"
   ]
  },
  {
   "cell_type": "code",
   "execution_count": 273,
   "metadata": {},
   "outputs": [],
   "source": [
    "Africa_df['observationDate'] = pd.to_datetime(Africa_df['observationDate'])"
   ]
  },
  {
   "cell_type": "code",
   "execution_count": 274,
   "metadata": {},
   "outputs": [
    {
     "data": {
      "text/plain": [
       "12"
      ]
     },
     "execution_count": 274,
     "metadata": {},
     "output_type": "execute_result"
    }
   ],
   "source": [
    "Africa_df['observationDate'].isnull().sum()"
   ]
  },
  {
   "cell_type": "code",
   "execution_count": 275,
   "metadata": {},
   "outputs": [
    {
     "data": {
      "text/plain": [
       "Timestamp('2017-06-04 00:00:00')"
      ]
     },
     "execution_count": 275,
     "metadata": {},
     "output_type": "execute_result"
    }
   ],
   "source": [
    "#The observation date could be when the patient first starting feeling sick and seeing symptoms\n",
    "Africa_df['observationDate'].value_counts().index[0]"
   ]
  },
  {
   "cell_type": "code",
   "execution_count": 276,
   "metadata": {},
   "outputs": [],
   "source": [
    "Africa_df['observationDate'].fillna('2017-06-04 00:00:00', inplace=True)"
   ]
  },
  {
   "cell_type": "code",
   "execution_count": 277,
   "metadata": {},
   "outputs": [],
   "source": [
    "Africa_df['observationDate'] = pd.to_datetime(Africa_df['observationDate'])"
   ]
  },
  {
   "cell_type": "code",
   "execution_count": 278,
   "metadata": {},
   "outputs": [],
   "source": [
    "Africa_df['obs_day'] = Africa_df['observationDate'].dt.day"
   ]
  },
  {
   "cell_type": "code",
   "execution_count": 279,
   "metadata": {},
   "outputs": [
    {
     "data": {
      "text/plain": [
       "2"
      ]
     },
     "execution_count": 279,
     "metadata": {},
     "output_type": "execute_result"
    }
   ],
   "source": [
    "#Filling all null values with the most common value\n",
    "Africa_df['obs_day'].value_counts().index[0]"
   ]
  },
  {
   "cell_type": "code",
   "execution_count": 280,
   "metadata": {},
   "outputs": [],
   "source": [
    "Africa_df['obs_day'].fillna(2, inplace=True)"
   ]
  },
  {
   "cell_type": "code",
   "execution_count": 281,
   "metadata": {},
   "outputs": [],
   "source": [
    "Africa_df['obs_day'] = Africa_df['obs_day'].astype('int64')"
   ]
  },
  {
   "cell_type": "code",
   "execution_count": 282,
   "metadata": {},
   "outputs": [
    {
     "data": {
      "text/plain": [
       "2     93\n",
       "1     86\n",
       "3     80\n",
       "8     74\n",
       "4     73\n",
       "23    65\n",
       "20    59\n",
       "24    57\n",
       "6     55\n",
       "21    49\n",
       "9     48\n",
       "7     45\n",
       "30    42\n",
       "14    41\n",
       "31    41\n",
       "22    41\n",
       "15    40\n",
       "18    39\n",
       "17    37\n",
       "27    37\n",
       "10    33\n",
       "5     33\n",
       "16    31\n",
       "25    30\n",
       "26    30\n",
       "28    30\n",
       "29    29\n",
       "13    28\n",
       "11    26\n",
       "19    24\n",
       "12    18\n",
       "Name: obs_day, dtype: int64"
      ]
     },
     "execution_count": 282,
     "metadata": {},
     "output_type": "execute_result"
    }
   ],
   "source": [
    "Africa_df['obs_day'].value_counts()"
   ]
  },
  {
   "cell_type": "code",
   "execution_count": 283,
   "metadata": {},
   "outputs": [],
   "source": [
    "#The days between the first observation of symptoms and reported case\n",
    "#I think the longer someone waits to treat the disease, the less likely they are to recover\n",
    "#I had to use abs() to get the absolute values so there weren't any negatives\n",
    "\n",
    "Africa_df['Days_since_obs'] = abs(Africa_df['reported_day'] - Africa_df['obs_day'])"
   ]
  },
  {
   "cell_type": "code",
   "execution_count": 284,
   "metadata": {},
   "outputs": [
    {
     "data": {
      "text/plain": [
       "0         5\n",
       "2         0\n",
       "3         7\n",
       "6         8\n",
       "9        14\n",
       "         ..\n",
       "17003    12\n",
       "17004    17\n",
       "17005     6\n",
       "17006     9\n",
       "17007     2\n",
       "Name: Days_since_obs, Length: 1414, dtype: int32"
      ]
     },
     "execution_count": 284,
     "metadata": {},
     "output_type": "execute_result"
    }
   ],
   "source": [
    "Africa_df['Days_since_obs'].astype(int)"
   ]
  },
  {
   "cell_type": "code",
   "execution_count": 285,
   "metadata": {},
   "outputs": [],
   "source": [
    "reported_vs_death_count = Africa_df[['Days_since_obs', 'sumDeaths']]"
   ]
  },
  {
   "cell_type": "code",
   "execution_count": 286,
   "metadata": {},
   "outputs": [
    {
     "data": {
      "text/plain": [
       "Influenza - Avian                    998\n",
       "Foot and mouth disease               174\n",
       "Rift Valley fever                     50\n",
       "Lumpy skin disease                    48\n",
       "Newcastle disease                     36\n",
       "African swine fever                   35\n",
       "Peste des petits ruminants            26\n",
       "Anthrax                               13\n",
       "African horse sickness                12\n",
       "Bluetongue                            10\n",
       "Contagious bovine pleuropneumonia      4\n",
       "Sheep pox and goat pox                 4\n",
       "Brucellosis (Brucella abortus)         2\n",
       "West Nile Fever                        1\n",
       "Rabies                                 1\n",
       "Name: disease, dtype: int64"
      ]
     },
     "execution_count": 286,
     "metadata": {},
     "output_type": "execute_result"
    }
   ],
   "source": [
    "Africa_df['disease'].value_counts()"
   ]
  },
  {
   "cell_type": "code",
   "execution_count": 287,
   "metadata": {},
   "outputs": [
    {
     "data": {
      "text/plain": [
       "595.5150862068965"
      ]
     },
     "execution_count": 287,
     "metadata": {},
     "output_type": "execute_result"
    }
   ],
   "source": [
    "#The average number of deaths is 595 - 596\n",
    "#The average deaths per year is 365 per 1,000 adults and these numbers only account for deaths from zoonotic diseases\n",
    "#It might be helpful to have two additional columns: the total populationof where the disease came from and those in that \n",
    "#population who got sick\n",
    "reported_vs_death_count['sumDeaths'].mean()"
   ]
  },
  {
   "cell_type": "code",
   "execution_count": 288,
   "metadata": {},
   "outputs": [
    {
     "data": {
      "image/png": "[encoded data removed]",
      "text/plain": [
       "<Figure size 432x288 with 1 Axes>"
      ]
     },
     "metadata": {
      "needs_background": "light"
     },
     "output_type": "display_data"
    }
   ],
   "source": [
    "reported_vs_death_count['sumDeaths'].hist();"
   ]
  },
  {
   "cell_type": "code",
   "execution_count": 289,
   "metadata": {},
   "outputs": [
    {
     "data": {
      "image/png": "[encoded data removed]",
      "text/plain": [
       "<Figure size 432x288 with 1 Axes>"
      ]
     },
     "metadata": {
      "needs_background": "light"
     },
     "output_type": "display_data"
    }
   ],
   "source": [
    "#On average it is between 0 and 5 days\n",
    "reported_vs_death_count['Days_since_obs'].hist();"
   ]
  },
  {
   "cell_type": "code",
   "execution_count": 290,
   "metadata": {},
   "outputs": [
    {
     "data": {
      "text/plain": [
       "0"
      ]
     },
     "execution_count": 290,
     "metadata": {},
     "output_type": "execute_result"
    }
   ],
   "source": [
    "Africa_df['Days_since_obs'].isnull().sum()"
   ]
  },
  {
   "cell_type": "code",
   "execution_count": 291,
   "metadata": {},
   "outputs": [],
   "source": [
    "#The percentage of the population at risk who got sick\n",
    "Africa_df['porportion_of_cases_to_at_risk_pop'] = Africa_df['sumCases'] / Africa_df['sumAtRisk']"
   ]
  },
  {
   "cell_type": "code",
   "execution_count": 292,
   "metadata": {},
   "outputs": [
    {
     "data": {
      "text/plain": [
       "1.0"
      ]
     },
     "execution_count": 292,
     "metadata": {},
     "output_type": "execute_result"
    }
   ],
   "source": [
    "Africa_df['porportion_of_cases_to_at_risk_pop'].value_counts().index[0]"
   ]
  },
  {
   "cell_type": "code",
   "execution_count": 293,
   "metadata": {},
   "outputs": [],
   "source": [
    "Africa_df['porportion_of_cases_to_at_risk_pop'].fillna(1.0, inplace=True)"
   ]
  },
  {
   "cell_type": "code",
   "execution_count": 294,
   "metadata": {},
   "outputs": [
    {
     "data": {
      "text/plain": [
       "0        0\n",
       "2        0\n",
       "3        1\n",
       "6        0\n",
       "9        0\n",
       "        ..\n",
       "17003    1\n",
       "17004    1\n",
       "17005    1\n",
       "17006    1\n",
       "17007    1\n",
       "Name: porportion_of_cases_to_at_risk_pop, Length: 1414, dtype: int64"
      ]
     },
     "execution_count": 294,
     "metadata": {},
     "output_type": "execute_result"
    }
   ],
   "source": [
    "Africa_df['porportion_of_cases_to_at_risk_pop'].astype('int64')"
   ]
  },
  {
   "cell_type": "code",
   "execution_count": 295,
   "metadata": {},
   "outputs": [
    {
     "data": {
      "image/png": "[encoded data removed]",
      "text/plain": [
       "<Figure size 432x288 with 1 Axes>"
      ]
     },
     "metadata": {
      "needs_background": "light"
     },
     "output_type": "display_data"
    }
   ],
   "source": [
    "#Maybe the poportion of those who got sick to those at risk came from small populations which would explain the high bar around\n",
    "#0 - 0.1 and maybe the numbers on the other end between 0.7 and 0.9 came from large populations\n",
    "#The spike at one is because I filled all the null values with 1\n",
    "Africa_df['porportion_of_cases_to_at_risk_pop'].hist();"
   ]
  },
  {
   "cell_type": "code",
   "execution_count": 296,
   "metadata": {},
   "outputs": [
    {
     "data": {
      "text/plain": [
       "<AxesSubplot:ylabel='Density'>"
      ]
     },
     "execution_count": 296,
     "metadata": {},
     "output_type": "execute_result"
    },
    {
     "data": {
      "image/png": "[encoded data removed]",
      "text/plain": [
       "<Figure size 432x288 with 1 Axes>"
      ]
     },
     "metadata": {
      "needs_background": "light"
     },
     "output_type": "display_data"
    }
   ],
   "source": [
    "Africa_df['porportion_of_cases_to_at_risk_pop'].plot(kind='kde')"
   ]
  },
  {
   "cell_type": "markdown",
   "metadata": {},
   "source": [
    "# Does the difference between the reported date and the reported date have any relationship to total deaths and can the sum at risk be used to predict cases?"
   ]
  },
  {
   "cell_type": "code",
   "execution_count": 297,
   "metadata": {},
   "outputs": [],
   "source": [
    "#Days since observations and the porportion of cases to those at risk\n",
    "#does have a stronger relation to the sum of deaths than sum of cases\n",
    "cases = Africa_df[['Days_since_obs', 'porportion_of_cases_to_at_risk_pop', 'sumCases', 'sumDeaths']]"
   ]
  },
  {
   "cell_type": "code",
   "execution_count": 298,
   "metadata": {},
   "outputs": [
    {
     "data": {
      "text/html": [
       "<div>\n",
       "<style scoped>\n",
       "    .dataframe tbody tr th:only-of-type {\n",
       "        vertical-align: middle;\n",
       "    }\n",
       "\n",
       "    .dataframe tbody tr th {\n",
       "        vertical-align: top;\n",
       "    }\n",
       "\n",
       "    .dataframe thead th {\n",
       "        text-align: right;\n",
       "    }\n",
       "</style>\n",
       "<table border=\"1\" class=\"dataframe\">\n",
       "  <thead>\n",
       "    <tr style=\"text-align: right;\">\n",
       "      <th></th>\n",
       "      <th>Days_since_obs</th>\n",
       "      <th>porportion_of_cases_to_at_risk_pop</th>\n",
       "      <th>sumCases</th>\n",
       "      <th>sumDeaths</th>\n",
       "    </tr>\n",
       "  </thead>\n",
       "  <tbody>\n",
       "    <tr>\n",
       "      <th>Days_since_obs</th>\n",
       "      <td>1.000000</td>\n",
       "      <td>-0.272359</td>\n",
       "      <td>0.011435</td>\n",
       "      <td>0.020488</td>\n",
       "    </tr>\n",
       "    <tr>\n",
       "      <th>porportion_of_cases_to_at_risk_pop</th>\n",
       "      <td>-0.272359</td>\n",
       "      <td>1.000000</td>\n",
       "      <td>0.092315</td>\n",
       "      <td>0.148940</td>\n",
       "    </tr>\n",
       "    <tr>\n",
       "      <th>sumCases</th>\n",
       "      <td>0.011435</td>\n",
       "      <td>0.092315</td>\n",
       "      <td>1.000000</td>\n",
       "      <td>0.997713</td>\n",
       "    </tr>\n",
       "    <tr>\n",
       "      <th>sumDeaths</th>\n",
       "      <td>0.020488</td>\n",
       "      <td>0.148940</td>\n",
       "      <td>0.997713</td>\n",
       "      <td>1.000000</td>\n",
       "    </tr>\n",
       "  </tbody>\n",
       "</table>\n",
       "</div>"
      ],
      "text/plain": [
       "                                    Days_since_obs  \\\n",
       "Days_since_obs                            1.000000   \n",
       "porportion_of_cases_to_at_risk_pop       -0.272359   \n",
       "sumCases                                  0.011435   \n",
       "sumDeaths                                 0.020488   \n",
       "\n",
       "                                    porportion_of_cases_to_at_risk_pop  \\\n",
       "Days_since_obs                                               -0.272359   \n",
       "porportion_of_cases_to_at_risk_pop                            1.000000   \n",
       "sumCases                                                      0.092315   \n",
       "sumDeaths                                                     0.148940   \n",
       "\n",
       "                                    sumCases  sumDeaths  \n",
       "Days_since_obs                      0.011435   0.020488  \n",
       "porportion_of_cases_to_at_risk_pop  0.092315   0.148940  \n",
       "sumCases                            1.000000   0.997713  \n",
       "sumDeaths                           0.997713   1.000000  "
      ]
     },
     "execution_count": 298,
     "metadata": {},
     "output_type": "execute_result"
    }
   ],
   "source": [
    "cases.corr()"
   ]
  },
  {
   "cell_type": "code",
   "execution_count": 299,
   "metadata": {},
   "outputs": [
    {
     "data": {
      "text/html": [
       "<div>\n",
       "<style scoped>\n",
       "    .dataframe tbody tr th:only-of-type {\n",
       "        vertical-align: middle;\n",
       "    }\n",
       "\n",
       "    .dataframe tbody tr th {\n",
       "        vertical-align: top;\n",
       "    }\n",
       "\n",
       "    .dataframe thead th {\n",
       "        text-align: right;\n",
       "    }\n",
       "</style>\n",
       "<table border=\"1\" class=\"dataframe\">\n",
       "  <thead>\n",
       "    <tr style=\"text-align: right;\">\n",
       "      <th></th>\n",
       "      <th>Id</th>\n",
       "      <th>latitude</th>\n",
       "      <th>longitude</th>\n",
       "      <th>sumAtRisk</th>\n",
       "      <th>sumCases</th>\n",
       "      <th>sumDeaths</th>\n",
       "      <th>sumDestroyed</th>\n",
       "      <th>sumSlaughtered</th>\n",
       "      <th>humansAge</th>\n",
       "      <th>humansAffected</th>\n",
       "      <th>humansDeaths</th>\n",
       "      <th>reported_day</th>\n",
       "      <th>obs_day</th>\n",
       "      <th>Days_since_obs</th>\n",
       "      <th>porportion_of_cases_to_at_risk_pop</th>\n",
       "    </tr>\n",
       "  </thead>\n",
       "  <tbody>\n",
       "    <tr>\n",
       "      <th>count</th>\n",
       "      <td>1414.000000</td>\n",
       "      <td>1414.000000</td>\n",
       "      <td>1414.000000</td>\n",
       "      <td>9.050000e+02</td>\n",
       "      <td>1316.000000</td>\n",
       "      <td>928.000000</td>\n",
       "      <td>1274.000000</td>\n",
       "      <td>862.000000</td>\n",
       "      <td>81.000000</td>\n",
       "      <td>54.000000</td>\n",
       "      <td>25.0</td>\n",
       "      <td>1414.000000</td>\n",
       "      <td>1414.000000</td>\n",
       "      <td>1414.000000</td>\n",
       "      <td>1414.000000</td>\n",
       "    </tr>\n",
       "    <tr>\n",
       "      <th>mean</th>\n",
       "      <td>216268.871287</td>\n",
       "      <td>7.970578</td>\n",
       "      <td>18.724179</td>\n",
       "      <td>8.504718e+03</td>\n",
       "      <td>654.945289</td>\n",
       "      <td>595.515086</td>\n",
       "      <td>2319.010204</td>\n",
       "      <td>55.639211</td>\n",
       "      <td>1.271605</td>\n",
       "      <td>1.037037</td>\n",
       "      <td>1.0</td>\n",
       "      <td>15.245403</td>\n",
       "      <td>14.148515</td>\n",
       "      <td>7.727723</td>\n",
       "      <td>0.493572</td>\n",
       "    </tr>\n",
       "    <tr>\n",
       "      <th>std</th>\n",
       "      <td>7763.778481</td>\n",
       "      <td>20.205204</td>\n",
       "      <td>13.099893</td>\n",
       "      <td>7.236161e+04</td>\n",
       "      <td>3627.264136</td>\n",
       "      <td>3744.975256</td>\n",
       "      <td>13942.246019</td>\n",
       "      <td>1074.989782</td>\n",
       "      <td>6.644570</td>\n",
       "      <td>0.272166</td>\n",
       "      <td>0.0</td>\n",
       "      <td>8.869497</td>\n",
       "      <td>9.482088</td>\n",
       "      <td>7.735735</td>\n",
       "      <td>0.437996</td>\n",
       "    </tr>\n",
       "    <tr>\n",
       "      <th>min</th>\n",
       "      <td>206375.000000</td>\n",
       "      <td>-34.300000</td>\n",
       "      <td>-23.645005</td>\n",
       "      <td>0.000000e+00</td>\n",
       "      <td>0.000000</td>\n",
       "      <td>0.000000</td>\n",
       "      <td>0.000000</td>\n",
       "      <td>0.000000</td>\n",
       "      <td>0.000000</td>\n",
       "      <td>1.000000</td>\n",
       "      <td>1.0</td>\n",
       "      <td>1.000000</td>\n",
       "      <td>1.000000</td>\n",
       "      <td>0.000000</td>\n",
       "      <td>0.000000</td>\n",
       "    </tr>\n",
       "    <tr>\n",
       "      <th>25%</th>\n",
       "      <td>209840.250000</td>\n",
       "      <td>-3.223400</td>\n",
       "      <td>8.228594</td>\n",
       "      <td>1.800000e+02</td>\n",
       "      <td>10.000000</td>\n",
       "      <td>0.000000</td>\n",
       "      <td>0.000000</td>\n",
       "      <td>0.000000</td>\n",
       "      <td>0.000000</td>\n",
       "      <td>1.000000</td>\n",
       "      <td>1.0</td>\n",
       "      <td>7.000000</td>\n",
       "      <td>5.000000</td>\n",
       "      <td>1.000000</td>\n",
       "      <td>0.050000</td>\n",
       "    </tr>\n",
       "    <tr>\n",
       "      <th>50%</th>\n",
       "      <td>213763.500000</td>\n",
       "      <td>10.017470</td>\n",
       "      <td>21.850000</td>\n",
       "      <td>9.200000e+02</td>\n",
       "      <td>29.000000</td>\n",
       "      <td>20.000000</td>\n",
       "      <td>16.000000</td>\n",
       "      <td>0.000000</td>\n",
       "      <td>0.000000</td>\n",
       "      <td>1.000000</td>\n",
       "      <td>1.0</td>\n",
       "      <td>16.000000</td>\n",
       "      <td>14.000000</td>\n",
       "      <td>5.000000</td>\n",
       "      <td>0.333153</td>\n",
       "    </tr>\n",
       "    <tr>\n",
       "      <th>75%</th>\n",
       "      <td>223787.750000</td>\n",
       "      <td>27.900371</td>\n",
       "      <td>31.033991</td>\n",
       "      <td>2.541000e+03</td>\n",
       "      <td>150.500000</td>\n",
       "      <td>181.000000</td>\n",
       "      <td>677.500000</td>\n",
       "      <td>0.000000</td>\n",
       "      <td>0.000000</td>\n",
       "      <td>1.000000</td>\n",
       "      <td>1.0</td>\n",
       "      <td>22.000000</td>\n",
       "      <td>23.000000</td>\n",
       "      <td>13.000000</td>\n",
       "      <td>1.000000</td>\n",
       "    </tr>\n",
       "    <tr>\n",
       "      <th>max</th>\n",
       "      <td>230399.000000</td>\n",
       "      <td>37.172730</td>\n",
       "      <td>63.416667</td>\n",
       "      <td>2.000000e+06</td>\n",
       "      <td>86000.000000</td>\n",
       "      <td>86000.000000</td>\n",
       "      <td>325789.000000</td>\n",
       "      <td>30500.000000</td>\n",
       "      <td>48.000000</td>\n",
       "      <td>3.000000</td>\n",
       "      <td>1.0</td>\n",
       "      <td>31.000000</td>\n",
       "      <td>31.000000</td>\n",
       "      <td>30.000000</td>\n",
       "      <td>1.000000</td>\n",
       "    </tr>\n",
       "  </tbody>\n",
       "</table>\n",
       "</div>"
      ],
      "text/plain": [
       "                  Id     latitude    longitude     sumAtRisk      sumCases  \\\n",
       "count    1414.000000  1414.000000  1414.000000  9.050000e+02   1316.000000   \n",
       "mean   216268.871287     7.970578    18.724179  8.504718e+03    654.945289   \n",
       "std      7763.778481    20.205204    13.099893  7.236161e+04   3627.264136   \n",
       "min    206375.000000   -34.300000   -23.645005  0.000000e+00      0.000000   \n",
       "25%    209840.250000    -3.223400     8.228594  1.800000e+02     10.000000   \n",
       "50%    213763.500000    10.017470    21.850000  9.200000e+02     29.000000   \n",
       "75%    223787.750000    27.900371    31.033991  2.541000e+03    150.500000   \n",
       "max    230399.000000    37.172730    63.416667  2.000000e+06  86000.000000   \n",
       "\n",
       "          sumDeaths   sumDestroyed  sumSlaughtered  humansAge  humansAffected  \\\n",
       "count    928.000000    1274.000000      862.000000  81.000000       54.000000   \n",
       "mean     595.515086    2319.010204       55.639211   1.271605        1.037037   \n",
       "std     3744.975256   13942.246019     1074.989782   6.644570        0.272166   \n",
       "min        0.000000       0.000000        0.000000   0.000000        1.000000   \n",
       "25%        0.000000       0.000000        0.000000   0.000000        1.000000   \n",
       "50%       20.000000      16.000000        0.000000   0.000000        1.000000   \n",
       "75%      181.000000     677.500000        0.000000   0.000000        1.000000   \n",
       "max    86000.000000  325789.000000    30500.000000  48.000000        3.000000   \n",
       "\n",
       "       humansDeaths  reported_day      obs_day  Days_since_obs  \\\n",
       "count          25.0   1414.000000  1414.000000     1414.000000   \n",
       "mean            1.0     15.245403    14.148515        7.727723   \n",
       "std             0.0      8.869497     9.482088        7.735735   \n",
       "min             1.0      1.000000     1.000000        0.000000   \n",
       "25%             1.0      7.000000     5.000000        1.000000   \n",
       "50%             1.0     16.000000    14.000000        5.000000   \n",
       "75%             1.0     22.000000    23.000000       13.000000   \n",
       "max             1.0     31.000000    31.000000       30.000000   \n",
       "\n",
       "       porportion_of_cases_to_at_risk_pop  \n",
       "count                         1414.000000  \n",
       "mean                             0.493572  \n",
       "std                              0.437996  \n",
       "min                              0.000000  \n",
       "25%                              0.050000  \n",
       "50%                              0.333153  \n",
       "75%                              1.000000  \n",
       "max                              1.000000  "
      ]
     },
     "execution_count": 299,
     "metadata": {},
     "output_type": "execute_result"
    }
   ],
   "source": [
    "#Re-checking the statistics after new columns are added\n",
    "Africa_df.describe()"
   ]
  },
  {
   "cell_type": "code",
   "execution_count": 300,
   "metadata": {},
   "outputs": [],
   "source": [
    "Africa_df.drop(['Id', 'longitude', 'latitude','humansAge', 'humansAffected', 'humansDeaths',\n",
    "               'source', 'admin1', 'localityName', 'localityQuality',\n",
    "               'status', 'serotypes', 'humansGenderDesc'], axis=1, inplace=True)"
   ]
  },
  {
   "cell_type": "code",
   "execution_count": 301,
   "metadata": {},
   "outputs": [
    {
     "data": {
      "text/plain": [
       "Index(['region', 'country', 'observationDate', 'reportingDate', 'disease',\n",
       "       'speciesDescription', 'sumAtRisk', 'sumCases', 'sumDeaths',\n",
       "       'sumDestroyed', 'sumSlaughtered', 'reported_day', 'obs_day',\n",
       "       'Days_since_obs', 'porportion_of_cases_to_at_risk_pop'],\n",
       "      dtype='object')"
      ]
     },
     "execution_count": 301,
     "metadata": {},
     "output_type": "execute_result"
    }
   ],
   "source": [
    "#checking column names and shape of the dataframe after dropping features\n",
    "Africa_df.columns"
   ]
  },
  {
   "cell_type": "code",
   "execution_count": 302,
   "metadata": {},
   "outputs": [
    {
     "data": {
      "text/plain": [
       "(1414, 15)"
      ]
     },
     "execution_count": 302,
     "metadata": {},
     "output_type": "execute_result"
    }
   ],
   "source": [
    "Africa_df.shape"
   ]
  },
  {
   "cell_type": "code",
   "execution_count": 303,
   "metadata": {},
   "outputs": [
    {
     "name": "stdout",
     "output_type": "stream",
     "text": [
      "<class 'pandas.core.frame.DataFrame'>\n",
      "Int64Index: 1414 entries, 0 to 17007\n",
      "Data columns (total 15 columns):\n",
      " #   Column                              Non-Null Count  Dtype         \n",
      "---  ------                              --------------  -----         \n",
      " 0   region                              1414 non-null   object        \n",
      " 1   country                             1414 non-null   object        \n",
      " 2   observationDate                     1414 non-null   datetime64[ns]\n",
      " 3   reportingDate                       1414 non-null   datetime64[ns]\n",
      " 4   disease                             1414 non-null   object        \n",
      " 5   speciesDescription                  1360 non-null   object        \n",
      " 6   sumAtRisk                           905 non-null    float64       \n",
      " 7   sumCases                            1316 non-null   float64       \n",
      " 8   sumDeaths                           928 non-null    float64       \n",
      " 9   sumDestroyed                        1274 non-null   float64       \n",
      " 10  sumSlaughtered                      862 non-null    float64       \n",
      " 11  reported_day                        1414 non-null   int64         \n",
      " 12  obs_day                             1414 non-null   int64         \n",
      " 13  Days_since_obs                      1414 non-null   int64         \n",
      " 14  porportion_of_cases_to_at_risk_pop  1414 non-null   float64       \n",
      "dtypes: datetime64[ns](2), float64(6), int64(3), object(4)\n",
      "memory usage: 176.8+ KB\n"
     ]
    }
   ],
   "source": [
    "#Let's take care of all null values\n",
    "Africa_df.info()"
   ]
  },
  {
   "cell_type": "code",
   "execution_count": 304,
   "metadata": {},
   "outputs": [
    {
     "data": {
      "text/plain": [
       "'domestic, chicken'"
      ]
     },
     "execution_count": 304,
     "metadata": {},
     "output_type": "execute_result"
    }
   ],
   "source": [
    "#Using the most common species to fill speciesDescription\n",
    "Africa_df['speciesDescription'].value_counts().index[0]       "
   ]
  },
  {
   "cell_type": "code",
   "execution_count": 305,
   "metadata": {},
   "outputs": [],
   "source": [
    "Africa_df['speciesDescription'].fillna('domestic, chicken', inplace=True)"
   ]
  },
  {
   "cell_type": "code",
   "execution_count": 306,
   "metadata": {},
   "outputs": [],
   "source": [
    "#Using the median value to fill all the numeric null values\n",
    "Africa_df.dropna(inplace=True)"
   ]
  },
  {
   "cell_type": "code",
   "execution_count": 307,
   "metadata": {},
   "outputs": [
    {
     "name": "stdout",
     "output_type": "stream",
     "text": [
      "<class 'pandas.core.frame.DataFrame'>\n",
      "Int64Index: 833 entries, 0 to 16889\n",
      "Data columns (total 15 columns):\n",
      " #   Column                              Non-Null Count  Dtype         \n",
      "---  ------                              --------------  -----         \n",
      " 0   region                              833 non-null    object        \n",
      " 1   country                             833 non-null    object        \n",
      " 2   observationDate                     833 non-null    datetime64[ns]\n",
      " 3   reportingDate                       833 non-null    datetime64[ns]\n",
      " 4   disease                             833 non-null    object        \n",
      " 5   speciesDescription                  833 non-null    object        \n",
      " 6   sumAtRisk                           833 non-null    float64       \n",
      " 7   sumCases                            833 non-null    float64       \n",
      " 8   sumDeaths                           833 non-null    float64       \n",
      " 9   sumDestroyed                        833 non-null    float64       \n",
      " 10  sumSlaughtered                      833 non-null    float64       \n",
      " 11  reported_day                        833 non-null    int64         \n",
      " 12  obs_day                             833 non-null    int64         \n",
      " 13  Days_since_obs                      833 non-null    int64         \n",
      " 14  porportion_of_cases_to_at_risk_pop  833 non-null    float64       \n",
      "dtypes: datetime64[ns](2), float64(6), int64(3), object(4)\n",
      "memory usage: 104.1+ KB\n"
     ]
    }
   ],
   "source": [
    "Africa_df.info()"
   ]
  },
  {
   "cell_type": "code",
   "execution_count": 308,
   "metadata": {},
   "outputs": [],
   "source": [
    "#factorize all object datatypes machine learning algorithms\n",
    "#Pd.factorize() - obtains numerical representation\n",
    "Africa_df['region'] = pd.factorize(Africa_df['region'])[0]\n",
    "Africa_df['country'] = pd.factorize(Africa_df['country'])[0]\n",
    "Africa_df['disease'] = pd.factorize(Africa_df['disease'])[0]\n",
    "Africa_df['speciesDescription'] = pd.factorize(Africa_df['speciesDescription'])[0]"
   ]
  },
  {
   "cell_type": "code",
   "execution_count": 309,
   "metadata": {},
   "outputs": [
    {
     "name": "stdout",
     "output_type": "stream",
     "text": [
      "<class 'pandas.core.frame.DataFrame'>\n",
      "Int64Index: 833 entries, 0 to 16889\n",
      "Data columns (total 15 columns):\n",
      " #   Column                              Non-Null Count  Dtype         \n",
      "---  ------                              --------------  -----         \n",
      " 0   region                              833 non-null    int64         \n",
      " 1   country                             833 non-null    int64         \n",
      " 2   observationDate                     833 non-null    datetime64[ns]\n",
      " 3   reportingDate                       833 non-null    datetime64[ns]\n",
      " 4   disease                             833 non-null    int64         \n",
      " 5   speciesDescription                  833 non-null    int64         \n",
      " 6   sumAtRisk                           833 non-null    float64       \n",
      " 7   sumCases                            833 non-null    float64       \n",
      " 8   sumDeaths                           833 non-null    float64       \n",
      " 9   sumDestroyed                        833 non-null    float64       \n",
      " 10  sumSlaughtered                      833 non-null    float64       \n",
      " 11  reported_day                        833 non-null    int64         \n",
      " 12  obs_day                             833 non-null    int64         \n",
      " 13  Days_since_obs                      833 non-null    int64         \n",
      " 14  porportion_of_cases_to_at_risk_pop  833 non-null    float64       \n",
      "dtypes: datetime64[ns](2), float64(6), int64(7)\n",
      "memory usage: 104.1 KB\n"
     ]
    }
   ],
   "source": [
    "Africa_df.info()"
   ]
  },
  {
   "cell_type": "code",
   "execution_count": 310,
   "metadata": {},
   "outputs": [
    {
     "data": {
      "text/html": [
       "<div>\n",
       "<style scoped>\n",
       "    .dataframe tbody tr th:only-of-type {\n",
       "        vertical-align: middle;\n",
       "    }\n",
       "\n",
       "    .dataframe tbody tr th {\n",
       "        vertical-align: top;\n",
       "    }\n",
       "\n",
       "    .dataframe thead th {\n",
       "        text-align: right;\n",
       "    }\n",
       "</style>\n",
       "<table border=\"1\" class=\"dataframe\">\n",
       "  <thead>\n",
       "    <tr style=\"text-align: right;\">\n",
       "      <th></th>\n",
       "      <th>region</th>\n",
       "      <th>country</th>\n",
       "      <th>observationDate</th>\n",
       "      <th>reportingDate</th>\n",
       "      <th>disease</th>\n",
       "      <th>speciesDescription</th>\n",
       "      <th>sumAtRisk</th>\n",
       "      <th>sumCases</th>\n",
       "      <th>sumDeaths</th>\n",
       "      <th>sumDestroyed</th>\n",
       "      <th>sumSlaughtered</th>\n",
       "      <th>reported_day</th>\n",
       "      <th>obs_day</th>\n",
       "      <th>Days_since_obs</th>\n",
       "      <th>porportion_of_cases_to_at_risk_pop</th>\n",
       "    </tr>\n",
       "  </thead>\n",
       "  <tbody>\n",
       "    <tr>\n",
       "      <th>0</th>\n",
       "      <td>0</td>\n",
       "      <td>0</td>\n",
       "      <td>2017-08-17</td>\n",
       "      <td>2017-08-22</td>\n",
       "      <td>0</td>\n",
       "      <td>0</td>\n",
       "      <td>248000.0</td>\n",
       "      <td>12.0</td>\n",
       "      <td>12.0</td>\n",
       "      <td>50000.0</td>\n",
       "      <td>0.0</td>\n",
       "      <td>22</td>\n",
       "      <td>17</td>\n",
       "      <td>5</td>\n",
       "      <td>0.000048</td>\n",
       "    </tr>\n",
       "    <tr>\n",
       "      <th>6</th>\n",
       "      <td>0</td>\n",
       "      <td>0</td>\n",
       "      <td>2017-08-14</td>\n",
       "      <td>2017-08-22</td>\n",
       "      <td>0</td>\n",
       "      <td>1</td>\n",
       "      <td>34.0</td>\n",
       "      <td>19.0</td>\n",
       "      <td>19.0</td>\n",
       "      <td>0.0</td>\n",
       "      <td>0.0</td>\n",
       "      <td>22</td>\n",
       "      <td>14</td>\n",
       "      <td>8</td>\n",
       "      <td>0.558824</td>\n",
       "    </tr>\n",
       "    <tr>\n",
       "      <th>9</th>\n",
       "      <td>0</td>\n",
       "      <td>0</td>\n",
       "      <td>2017-12-08</td>\n",
       "      <td>2017-08-22</td>\n",
       "      <td>0</td>\n",
       "      <td>0</td>\n",
       "      <td>62.0</td>\n",
       "      <td>5.0</td>\n",
       "      <td>5.0</td>\n",
       "      <td>0.0</td>\n",
       "      <td>0.0</td>\n",
       "      <td>22</td>\n",
       "      <td>8</td>\n",
       "      <td>14</td>\n",
       "      <td>0.080645</td>\n",
       "    </tr>\n",
       "    <tr>\n",
       "      <th>13</th>\n",
       "      <td>0</td>\n",
       "      <td>0</td>\n",
       "      <td>2017-11-08</td>\n",
       "      <td>2017-08-22</td>\n",
       "      <td>0</td>\n",
       "      <td>0</td>\n",
       "      <td>266.0</td>\n",
       "      <td>81.0</td>\n",
       "      <td>81.0</td>\n",
       "      <td>135.0</td>\n",
       "      <td>0.0</td>\n",
       "      <td>22</td>\n",
       "      <td>8</td>\n",
       "      <td>14</td>\n",
       "      <td>0.304511</td>\n",
       "    </tr>\n",
       "    <tr>\n",
       "      <th>24</th>\n",
       "      <td>0</td>\n",
       "      <td>0</td>\n",
       "      <td>2017-09-08</td>\n",
       "      <td>2017-11-08</td>\n",
       "      <td>0</td>\n",
       "      <td>2</td>\n",
       "      <td>1071.0</td>\n",
       "      <td>22.0</td>\n",
       "      <td>0.0</td>\n",
       "      <td>0.0</td>\n",
       "      <td>0.0</td>\n",
       "      <td>8</td>\n",
       "      <td>8</td>\n",
       "      <td>0</td>\n",
       "      <td>0.020542</td>\n",
       "    </tr>\n",
       "  </tbody>\n",
       "</table>\n",
       "</div>"
      ],
      "text/plain": [
       "    region  country observationDate reportingDate  disease  \\\n",
       "0        0        0      2017-08-17    2017-08-22        0   \n",
       "6        0        0      2017-08-14    2017-08-22        0   \n",
       "9        0        0      2017-12-08    2017-08-22        0   \n",
       "13       0        0      2017-11-08    2017-08-22        0   \n",
       "24       0        0      2017-09-08    2017-11-08        0   \n",
       "\n",
       "    speciesDescription  sumAtRisk  sumCases  sumDeaths  sumDestroyed  \\\n",
       "0                    0   248000.0      12.0       12.0       50000.0   \n",
       "6                    1       34.0      19.0       19.0           0.0   \n",
       "9                    0       62.0       5.0        5.0           0.0   \n",
       "13                   0      266.0      81.0       81.0         135.0   \n",
       "24                   2     1071.0      22.0        0.0           0.0   \n",
       "\n",
       "    sumSlaughtered  reported_day  obs_day  Days_since_obs  \\\n",
       "0              0.0            22       17               5   \n",
       "6              0.0            22       14               8   \n",
       "9              0.0            22        8              14   \n",
       "13             0.0            22        8              14   \n",
       "24             0.0             8        8               0   \n",
       "\n",
       "    porportion_of_cases_to_at_risk_pop  \n",
       "0                             0.000048  \n",
       "6                             0.558824  \n",
       "9                             0.080645  \n",
       "13                            0.304511  \n",
       "24                            0.020542  "
      ]
     },
     "execution_count": 310,
     "metadata": {},
     "output_type": "execute_result"
    }
   ],
   "source": [
    "Africa_df.head()"
   ]
  },
  {
   "cell_type": "code",
   "execution_count": 311,
   "metadata": {},
   "outputs": [],
   "source": [
    "##I dropped sum of cases because even though it's highly correlated with sum of deaths, I want my model to be able to predict \n",
    "#the amount of deaths even before there are cases\n",
    "Africa_df = Africa_df.drop(['country', 'observationDate', 'reportingDate', 'sumCases','reported_day',\n",
    "                           'obs_day'],axis=1)"
   ]
  },
  {
   "cell_type": "code",
   "execution_count": 312,
   "metadata": {},
   "outputs": [
    {
     "data": {
      "text/plain": [
       "region                                     NaN\n",
       "disease                              -0.074806\n",
       "speciesDescription                   -0.030480\n",
       "sumAtRisk                             0.167127\n",
       "sumDeaths                             1.000000\n",
       "sumDestroyed                          0.171545\n",
       "sumSlaughtered                        0.062930\n",
       "Days_since_obs                        0.021603\n",
       "porportion_of_cases_to_at_risk_pop    0.176595\n",
       "Name: sumDeaths, dtype: float64"
      ]
     },
     "execution_count": 312,
     "metadata": {},
     "output_type": "execute_result"
    }
   ],
   "source": [
    "Africa_df.corr()['sumDeaths']"
   ]
  },
  {
   "cell_type": "code",
   "execution_count": 313,
   "metadata": {},
   "outputs": [
    {
     "data": {
      "text/plain": [
       "region                                  int64\n",
       "disease                                 int64\n",
       "speciesDescription                      int64\n",
       "sumAtRisk                             float64\n",
       "sumDeaths                             float64\n",
       "sumDestroyed                          float64\n",
       "sumSlaughtered                        float64\n",
       "Days_since_obs                          int64\n",
       "porportion_of_cases_to_at_risk_pop    float64\n",
       "dtype: object"
      ]
     },
     "execution_count": 313,
     "metadata": {},
     "output_type": "execute_result"
    }
   ],
   "source": [
    "Africa_df.dtypes"
   ]
  },
  {
   "cell_type": "code",
   "execution_count": 314,
   "metadata": {},
   "outputs": [],
   "source": [
    "X = Africa_df.drop('sumDeaths', axis=1)\n",
    "y= Africa_df.sumDeaths"
   ]
  },
  {
   "cell_type": "code",
   "execution_count": 415,
   "metadata": {},
   "outputs": [],
   "source": [
    "import sklearn\n",
    "from sklearn.metrics import accuracy_score\n",
    "from sklearn.model_selection import train_test_split"
   ]
  },
  {
   "cell_type": "code",
   "execution_count": 416,
   "metadata": {},
   "outputs": [],
   "source": [
    "X_train, X_test, y_train, y_test = train_test_split(\n",
    "    X, y, test_size=0.20, random_state=42)"
   ]
  },
  {
   "cell_type": "code",
   "execution_count": 417,
   "metadata": {},
   "outputs": [],
   "source": [
    "from sklearn.preprocessing import StandardScaler\n",
    "ss = StandardScaler(with_mean=True)\n",
    "X_train = ss.fit_transform(X_train)\n",
    "X_test = ss.fit_transform(X_test)"
   ]
  },
  {
   "cell_type": "code",
   "execution_count": 418,
   "metadata": {},
   "outputs": [],
   "source": [
    "#Removing the balnced class parameter, the accuracy went from .053 to .347\n",
    "#Lasso(l1) score went from .341 to .347\n",
    "#Setting the l1_ratio to .5, the score went from .347 to .353\n",
    "\n",
    "from sklearn.linear_model import LogisticRegression\n",
    "logR = LogisticRegression(penalty='elasticnet', random_state=0, solver='saga', l1_ratio=.5)"
   ]
  },
  {
   "cell_type": "code",
   "execution_count": 419,
   "metadata": {},
   "outputs": [],
   "source": [
    "logR.fit(X_train,y_train)\n",
    "predictions = logR.predict(X_test)"
   ]
  },
  {
   "cell_type": "code",
   "execution_count": 420,
   "metadata": {},
   "outputs": [
    {
     "data": {
      "text/plain": [
       "0.3532934131736527"
      ]
     },
     "execution_count": 420,
     "metadata": {},
     "output_type": "execute_result"
    }
   ],
   "source": [
    "logR.score(X_test, y_test)"
   ]
  },
  {
   "cell_type": "code",
   "execution_count": 473,
   "metadata": {},
   "outputs": [
    {
     "data": {
      "text/plain": [
       "KNeighborsClassifier(n_neighbors=7)"
      ]
     },
     "execution_count": 473,
     "metadata": {},
     "output_type": "execute_result"
    }
   ],
   "source": [
    "#Changing the number of neighbors from 5 to 7, the score went from .347 to .359\n",
    "#Uniform - all points in each neighborhood are weighted equally\n",
    "\n",
    "from sklearn.neighbors import KNeighborsClassifier\n",
    "clf = KNeighborsClassifier(n_neighbors=7, weights='uniform')\n",
    "clf.fit(X_train, y_train)"
   ]
  },
  {
   "cell_type": "code",
   "execution_count": 474,
   "metadata": {},
   "outputs": [],
   "source": [
    "test_preds = clf.predict(X_test)"
   ]
  },
  {
   "cell_type": "code",
   "execution_count": 475,
   "metadata": {},
   "outputs": [
    {
     "data": {
      "text/plain": [
       "0.3592814371257485"
      ]
     },
     "execution_count": 475,
     "metadata": {},
     "output_type": "execute_result"
    }
   ],
   "source": [
    "clf.score(X_test,y_test)"
   ]
  },
  {
   "cell_type": "markdown",
   "metadata": {},
   "source": [
    "# 5. More EDA on cites dataset"
   ]
  },
  {
   "cell_type": "markdown",
   "metadata": {},
   "source": [
    "# Comparisons of wildlife exports and disease outbreaks"
   ]
  },
  {
   "cell_type": "code",
   "execution_count": 480,
   "metadata": {},
   "outputs": [
    {
     "data": {
      "text/html": [
       "<div>\n",
       "<style scoped>\n",
       "    .dataframe tbody tr th:only-of-type {\n",
       "        vertical-align: middle;\n",
       "    }\n",
       "\n",
       "    .dataframe tbody tr th {\n",
       "        vertical-align: top;\n",
       "    }\n",
       "\n",
       "    .dataframe thead th {\n",
       "        text-align: right;\n",
       "    }\n",
       "</style>\n",
       "<table border=\"1\" class=\"dataframe\">\n",
       "  <thead>\n",
       "    <tr style=\"text-align: right;\">\n",
       "      <th></th>\n",
       "      <th>Year</th>\n",
       "      <th>App.</th>\n",
       "      <th>Taxon</th>\n",
       "      <th>Class</th>\n",
       "      <th>Order</th>\n",
       "      <th>Family</th>\n",
       "      <th>Genus</th>\n",
       "      <th>Importer</th>\n",
       "      <th>Exporter</th>\n",
       "      <th>Origin</th>\n",
       "      <th>Importer reported quantity</th>\n",
       "      <th>Exporter reported quantity</th>\n",
       "      <th>Term</th>\n",
       "      <th>Unit</th>\n",
       "      <th>Purpose</th>\n",
       "      <th>Source</th>\n",
       "    </tr>\n",
       "  </thead>\n",
       "  <tbody>\n",
       "    <tr>\n",
       "      <th>0</th>\n",
       "      <td>2016</td>\n",
       "      <td>I</td>\n",
       "      <td>Aquila heliaca</td>\n",
       "      <td>Aves</td>\n",
       "      <td>Falconiformes</td>\n",
       "      <td>Accipitridae</td>\n",
       "      <td>Aquila</td>\n",
       "      <td>TR</td>\n",
       "      <td>NL</td>\n",
       "      <td>CZ</td>\n",
       "      <td>NaN</td>\n",
       "      <td>1.0</td>\n",
       "      <td>bodies</td>\n",
       "      <td>NaN</td>\n",
       "      <td>T</td>\n",
       "      <td>C</td>\n",
       "    </tr>\n",
       "    <tr>\n",
       "      <th>1</th>\n",
       "      <td>2016</td>\n",
       "      <td>I</td>\n",
       "      <td>Aquila heliaca</td>\n",
       "      <td>Aves</td>\n",
       "      <td>Falconiformes</td>\n",
       "      <td>Accipitridae</td>\n",
       "      <td>Aquila</td>\n",
       "      <td>XV</td>\n",
       "      <td>RS</td>\n",
       "      <td>RS</td>\n",
       "      <td>NaN</td>\n",
       "      <td>1.0</td>\n",
       "      <td>bodies</td>\n",
       "      <td>NaN</td>\n",
       "      <td>Q</td>\n",
       "      <td>O</td>\n",
       "    </tr>\n",
       "    <tr>\n",
       "      <th>2</th>\n",
       "      <td>2016</td>\n",
       "      <td>I</td>\n",
       "      <td>Haliaeetus albicilla</td>\n",
       "      <td>Aves</td>\n",
       "      <td>Falconiformes</td>\n",
       "      <td>Accipitridae</td>\n",
       "      <td>Haliaeetus</td>\n",
       "      <td>BE</td>\n",
       "      <td>NO</td>\n",
       "      <td>NaN</td>\n",
       "      <td>NaN</td>\n",
       "      <td>43.0</td>\n",
       "      <td>feathers</td>\n",
       "      <td>NaN</td>\n",
       "      <td>S</td>\n",
       "      <td>W</td>\n",
       "    </tr>\n",
       "    <tr>\n",
       "      <th>3</th>\n",
       "      <td>2016</td>\n",
       "      <td>I</td>\n",
       "      <td>Haliaeetus albicilla</td>\n",
       "      <td>Aves</td>\n",
       "      <td>Falconiformes</td>\n",
       "      <td>Accipitridae</td>\n",
       "      <td>Haliaeetus</td>\n",
       "      <td>BE</td>\n",
       "      <td>NO</td>\n",
       "      <td>NaN</td>\n",
       "      <td>NaN</td>\n",
       "      <td>43.0</td>\n",
       "      <td>specimens</td>\n",
       "      <td>NaN</td>\n",
       "      <td>S</td>\n",
       "      <td>W</td>\n",
       "    </tr>\n",
       "    <tr>\n",
       "      <th>4</th>\n",
       "      <td>2016</td>\n",
       "      <td>I</td>\n",
       "      <td>Haliaeetus albicilla</td>\n",
       "      <td>Aves</td>\n",
       "      <td>Falconiformes</td>\n",
       "      <td>Accipitridae</td>\n",
       "      <td>Haliaeetus</td>\n",
       "      <td>DK</td>\n",
       "      <td>IS</td>\n",
       "      <td>NaN</td>\n",
       "      <td>700.0</td>\n",
       "      <td>NaN</td>\n",
       "      <td>specimens</td>\n",
       "      <td>NaN</td>\n",
       "      <td>S</td>\n",
       "      <td>W</td>\n",
       "    </tr>\n",
       "  </tbody>\n",
       "</table>\n",
       "</div>"
      ],
      "text/plain": [
       "   Year App.                 Taxon Class          Order        Family  \\\n",
       "0  2016    I        Aquila heliaca  Aves  Falconiformes  Accipitridae   \n",
       "1  2016    I        Aquila heliaca  Aves  Falconiformes  Accipitridae   \n",
       "2  2016    I  Haliaeetus albicilla  Aves  Falconiformes  Accipitridae   \n",
       "3  2016    I  Haliaeetus albicilla  Aves  Falconiformes  Accipitridae   \n",
       "4  2016    I  Haliaeetus albicilla  Aves  Falconiformes  Accipitridae   \n",
       "\n",
       "        Genus Importer Exporter Origin  Importer reported quantity  \\\n",
       "0      Aquila       TR       NL     CZ                         NaN   \n",
       "1      Aquila       XV       RS     RS                         NaN   \n",
       "2  Haliaeetus       BE       NO    NaN                         NaN   \n",
       "3  Haliaeetus       BE       NO    NaN                         NaN   \n",
       "4  Haliaeetus       DK       IS    NaN                       700.0   \n",
       "\n",
       "   Exporter reported quantity       Term Unit Purpose Source  \n",
       "0                         1.0     bodies  NaN       T      C  \n",
       "1                         1.0     bodies  NaN       Q      O  \n",
       "2                        43.0   feathers  NaN       S      W  \n",
       "3                        43.0  specimens  NaN       S      W  \n",
       "4                         NaN  specimens  NaN       S      W  "
      ]
     },
     "execution_count": 480,
     "metadata": {},
     "output_type": "execute_result"
    }
   ],
   "source": [
    "cites = pd.read_csv('comptab_2018-01-29 16_00_comma_separated.csv')\n",
    "cites.head()"
   ]
  },
  {
   "cell_type": "code",
   "execution_count": 481,
   "metadata": {},
   "outputs": [
    {
     "data": {
      "text/plain": [
       "2016    67007\n",
       "2017      154\n",
       "Name: Year, dtype: int64"
      ]
     },
     "execution_count": 481,
     "metadata": {},
     "output_type": "execute_result"
    }
   ],
   "source": [
    "#Focusing on 2016 when there were spikes of cases\n",
    "cites['Year'].value_counts()"
   ]
  },
  {
   "cell_type": "code",
   "execution_count": 482,
   "metadata": {},
   "outputs": [],
   "source": [
    "cites2 = cites[cites['Year'] == 2016]"
   ]
  },
  {
   "cell_type": "code",
   "execution_count": 483,
   "metadata": {},
   "outputs": [
    {
     "data": {
      "text/plain": [
       "ID    2968\n",
       "XX    2426\n",
       "US    2400\n",
       "VN    1703\n",
       "ZW    1212\n",
       "      ... \n",
       "MV       1\n",
       "EE       1\n",
       "CK       1\n",
       "MT       1\n",
       "DM       1\n",
       "Name: Origin, Length: 179, dtype: int64"
      ]
     },
     "execution_count": 483,
     "metadata": {},
     "output_type": "execute_result"
    }
   ],
   "source": [
    "#ID -Indonesia\n",
    "#XX - Unknown\n",
    "#US - United States of America\n",
    "#VN - Vietnam\n",
    "#ZW - Zimbabwe\n",
    "cites2['Origin'].value_counts()"
   ]
  },
  {
   "cell_type": "code",
   "execution_count": 484,
   "metadata": {},
   "outputs": [],
   "source": [
    "#Filtering dataset to extract the top 5 origin countries for the species traded\n",
    "countries_of_interest = cites2[(cites2['Origin'] == 'ID') | (cites2['Origin'] == 'XX') | (cites2['Origin'] == 'US') |\n",
    "                                (cites2['Origin'] == 'VN') | (cites2['Origin'] == 'ZW')]\n"
   ]
  },
  {
   "cell_type": "code",
   "execution_count": 485,
   "metadata": {},
   "outputs": [
    {
     "data": {
      "text/html": [
       "<div>\n",
       "<style scoped>\n",
       "    .dataframe tbody tr th:only-of-type {\n",
       "        vertical-align: middle;\n",
       "    }\n",
       "\n",
       "    .dataframe tbody tr th {\n",
       "        vertical-align: top;\n",
       "    }\n",
       "\n",
       "    .dataframe thead th {\n",
       "        text-align: right;\n",
       "    }\n",
       "</style>\n",
       "<table border=\"1\" class=\"dataframe\">\n",
       "  <thead>\n",
       "    <tr style=\"text-align: right;\">\n",
       "      <th></th>\n",
       "      <th>Year</th>\n",
       "      <th>Importer reported quantity</th>\n",
       "      <th>Exporter reported quantity</th>\n",
       "    </tr>\n",
       "  </thead>\n",
       "  <tbody>\n",
       "    <tr>\n",
       "      <th>count</th>\n",
       "      <td>10709.0</td>\n",
       "      <td>4717.000000</td>\n",
       "      <td>7467.000000</td>\n",
       "    </tr>\n",
       "    <tr>\n",
       "      <th>mean</th>\n",
       "      <td>2016.0</td>\n",
       "      <td>935.852932</td>\n",
       "      <td>1109.171058</td>\n",
       "    </tr>\n",
       "    <tr>\n",
       "      <th>std</th>\n",
       "      <td>0.0</td>\n",
       "      <td>9976.771544</td>\n",
       "      <td>15242.402989</td>\n",
       "    </tr>\n",
       "    <tr>\n",
       "      <th>min</th>\n",
       "      <td>2016.0</td>\n",
       "      <td>0.001000</td>\n",
       "      <td>0.000030</td>\n",
       "    </tr>\n",
       "    <tr>\n",
       "      <th>25%</th>\n",
       "      <td>2016.0</td>\n",
       "      <td>2.000000</td>\n",
       "      <td>2.000000</td>\n",
       "    </tr>\n",
       "    <tr>\n",
       "      <th>50%</th>\n",
       "      <td>2016.0</td>\n",
       "      <td>7.000000</td>\n",
       "      <td>6.000000</td>\n",
       "    </tr>\n",
       "    <tr>\n",
       "      <th>75%</th>\n",
       "      <td>2016.0</td>\n",
       "      <td>56.000000</td>\n",
       "      <td>42.000000</td>\n",
       "    </tr>\n",
       "    <tr>\n",
       "      <th>max</th>\n",
       "      <td>2016.0</td>\n",
       "      <td>373740.000000</td>\n",
       "      <td>660355.200000</td>\n",
       "    </tr>\n",
       "  </tbody>\n",
       "</table>\n",
       "</div>"
      ],
      "text/plain": [
       "          Year  Importer reported quantity  Exporter reported quantity\n",
       "count  10709.0                 4717.000000                 7467.000000\n",
       "mean    2016.0                  935.852932                 1109.171058\n",
       "std        0.0                 9976.771544                15242.402989\n",
       "min     2016.0                    0.001000                    0.000030\n",
       "25%     2016.0                    2.000000                    2.000000\n",
       "50%     2016.0                    7.000000                    6.000000\n",
       "75%     2016.0                   56.000000                   42.000000\n",
       "max     2016.0               373740.000000               660355.200000"
      ]
     },
     "execution_count": 485,
     "metadata": {},
     "output_type": "execute_result"
    }
   ],
   "source": [
    "countries_of_interest.describe()"
   ]
  },
  {
   "cell_type": "code",
   "execution_count": 486,
   "metadata": {},
   "outputs": [
    {
     "data": {
      "text/plain": [
       "ID    2968\n",
       "XX    2426\n",
       "US    2400\n",
       "VN    1703\n",
       "ZW    1212\n",
       "Name: Origin, dtype: int64"
      ]
     },
     "execution_count": 486,
     "metadata": {},
     "output_type": "execute_result"
    }
   ],
   "source": [
    "#Indonesia is The top country of origin for species traded\n",
    "countries_of_interest['Origin'].value_counts()"
   ]
  },
  {
   "cell_type": "code",
   "execution_count": 487,
   "metadata": {},
   "outputs": [
    {
     "data": {
      "application/vnd.jupyter.widget-view+json": {
       "model_id": "04f27687df0b4f33b497346eb584f096",
       "version_major": 2,
       "version_minor": 0
      },
      "text/plain": [
       "MapView(layout=Layout(height='400px', width='100%'), mode='3D', zoom=5.0)"
      ]
     },
     "metadata": {},
     "output_type": "display_data"
    },
    {
     "data": {
      "text/html": [
       "<div class=\"map-static-img-preview-931ce0cd-0fdb-46bd-86e9-35b92f994b4c\"><img src=\"\"></img></div>"
      ],
      "text/plain": [
       "<IPython.core.display.HTML object>"
      ]
     },
     "metadata": {},
     "output_type": "display_data"
    }
   ],
   "source": [
    "#I will have to do some more research on Indonesia and the species that live there, their value for being traded, and the \n",
    "#diseases they are known to carry\n",
    "from arcgis.gis import GIS\n",
    "gis = GIS()\n",
    "map2 = gis.map('Indonesia',5, '3D')\n",
    "map2"
   ]
  },
  {
   "cell_type": "code",
   "execution_count": 488,
   "metadata": {},
   "outputs": [
    {
     "data": {
      "text/plain": [
       "Alligator mississippiensis    1768\n",
       "Python reticulatus            1570\n",
       "Crocodylus niloticus          1128\n",
       "Python bivittatus              747\n",
       "Varanus salvator               608\n",
       "Loxodonta africana             347\n",
       "Python brongersmai             322\n",
       "Elephantidae spp.              222\n",
       "Macaca fascicularis            174\n",
       "Crocodylus porosus             159\n",
       "Name: Taxon, dtype: int64"
      ]
     },
     "execution_count": 488,
     "metadata": {},
     "output_type": "execute_result"
    }
   ],
   "source": [
    "# Elephantidae spp. - Asian elephant\n",
    "# Loxodonta africana - African bush elephant\n",
    "# Macaca fascicularis - Long-tailed macaque\n",
    "# Varanus salvator - Asian water monitor \n",
    "# Python bivittatus - Burmese python\n",
    "#Crocodylus porosus - Saltwater crocodile\n",
    "countries_of_interest['Taxon'].value_counts().head(10)"
   ]
  },
  {
   "cell_type": "markdown",
   "metadata": {},
   "source": [
    "# As stated above in the introduction, the goal of this project was to highlight the importance of a global disease surveillance system and having qualified, trained people contributing to it.  There are many factors that have led to the increase in emergence of zoonotic diseases. Human travel and increased mobility, changes in human eating patterns and culture, and rapid shipments of livestock.  This need for better anti-poaching measures should also be considered as a tool to control the spread of zoonotic diseases."
   ]
  },
  {
   "cell_type": "markdown",
   "metadata": {},
   "source": [
    "# 1. EDA of EMPRES Global Animal Disease Surveillance dataset\n",
    "\n",
    "# 2. Feature engineering\n",
    "\n",
    "# 3. Logistic Regression\n",
    "\n",
    "# 4. K-Nearest Neighbors\n",
    "\n",
    "# 5. EDA of CITES dataset\n"
   ]
  },
  {
   "cell_type": "code",
   "execution_count": null,
   "metadata": {},
   "outputs": [],
   "source": []
  }
 ],
 "metadata": {
  "kernelspec": {
   "display_name": "Python 3",
   "language": "python",
   "name": "python3"
  },
  "language_info": {
   "codemirror_mode": {
    "name": "ipython",
    "version": 3
   },
   "file_extension": ".py",
   "mimetype": "text/x-python",
   "name": "python",
   "nbconvert_exporter": "python",
   "pygments_lexer": "ipython3",
   "version": "3.7.4"
  }
 },
 "nbformat": 4,
 "nbformat_minor": 2
}
